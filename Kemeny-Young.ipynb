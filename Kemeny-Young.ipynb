{
 "cells": [
  {
   "cell_type": "markdown",
   "metadata": {},
   "source": [
    "#### Kemeny-Young\n",
    "\n",
    "I'm following in the footsteps of [this](http://vene.ro/blog/kemeny-young-optimal-rank-aggregation-in-python.html) article. Here Kemeny-Young, one of the notable Condorcet methods, is formulated as integer programming problem.\n",
    "\n",
    "<br>"
   ]
  },
  {
   "cell_type": "code",
   "execution_count": 143,
   "metadata": {},
   "outputs": [],
   "source": [
    "#from __future__ import print_function\n",
    "import scipy.optimize as optimize #.linprog \n",
    "import scipy.stats as stats\n",
    "import numpy as np\n",
    "\n",
    "from itertools import combinations, permutations\n",
    "\n",
    "def kendalltau_dist(rank_a, rank_b):\n",
    "    tau = 0\n",
    "    n_candidates = len(rank_a)\n",
    "    for i, j in combinations(range(n_candidates), 2):\n",
    "        tau += (np.sign(rank_a[i] - rank_a[j]) ==\n",
    "                -np.sign(rank_b[i] - rank_b[j]))\n",
    "    return tau"
   ]
  },
  {
   "cell_type": "code",
   "execution_count": 144,
   "metadata": {},
   "outputs": [],
   "source": [
    "# columns in order of appearance:\n",
    "cols = \"Alicia Ginny Gwendolyn Robin Debbie\".split()\n",
    "ranks = np.array([[0, 1, 2, 3, 4],\n",
    "                  [0, 1, 3, 2, 4],\n",
    "                  [4, 1, 2, 0, 3],\n",
    "                  [4, 1, 0, 2, 3],\n",
    "                  [4, 1, 3, 2, 0]])\n",
    "                  #[4, 1, 2, 3, 0],\n",
    "                  #[2, 1, 3, 5, 4]])\n"
   ]
  },
  {
   "cell_type": "code",
   "execution_count": 145,
   "metadata": {},
   "outputs": [
    {
     "data": {
      "text/plain": [
       "1"
      ]
     },
     "execution_count": 145,
     "metadata": {},
     "output_type": "execute_result"
    }
   ],
   "source": [
    "kendalltau_dist(ranks[0], ranks[1])"
   ]
  },
  {
   "cell_type": "code",
   "execution_count": 146,
   "metadata": {},
   "outputs": [],
   "source": [
    "def rankaggr_brute(ranks):\n",
    "    min_dist = np.inf\n",
    "    best_rank = None\n",
    "    n_voters, n_candidates = ranks.shape\n",
    "    for candidate_rank in permutations(range(n_candidates)):\n",
    "        dist = np.sum(kendalltau_dist(candidate_rank, rank) for rank in ranks)\n",
    "        if dist < min_dist:\n",
    "            min_dist = dist\n",
    "            best_rank = candidate_rank\n",
    "    return min_dist, best_rank"
   ]
  },
  {
   "cell_type": "code",
   "execution_count": 147,
   "metadata": {},
   "outputs": [
    {
     "name": "stdout",
     "output_type": "stream",
     "text": [
      "A Kemeny-Young aggregation with score 15 is: Ginny, Robin, Gwendolyn, Debbie, Alicia\n"
     ]
    },
    {
     "name": "stderr",
     "output_type": "stream",
     "text": [
      "/home/markus/.local/lib/python3.7/site-packages/ipykernel_launcher.py:6: DeprecationWarning: Calling np.sum(generator) is deprecated, and in the future will give a different result. Use np.sum(np.fromiter(generator)) or the python sum builtin instead.\n",
      "  \n"
     ]
    }
   ],
   "source": [
    "dist, aggr = rankaggr_brute(ranks)\n",
    "print(\"A Kemeny-Young aggregation with score {} is: {}\".format(\n",
    "    dist,\n",
    "    \", \".join(cols[i] for i in np.argsort(aggr))))"
   ]
  },
  {
   "cell_type": "markdown",
   "metadata": {},
   "source": [
    "The formulation is based on the alternative interpretation of the Kemeny optimal aggregation as the ranking that minimizes the weights of edges it disagrees with:\n",
    "\n",
    "for all e in E   minimize w(e)x(e)  subject to i != j, x(i,j) + x(j,i) = 1 and x(i,j) + x(j,k) + x(k,i) >= 1\n",
    "\n",
    "See also the original article [here](http://www.aaai.org/Papers/AAAI/2006/AAAI06-099.pdf)"
   ]
  },
  {
   "cell_type": "code",
   "execution_count": 148,
   "metadata": {},
   "outputs": [
    {
     "name": "stdout",
     "output_type": "stream",
     "text": [
      "[[0. 0. 0. 0. 0.]\n",
      " [1. 0. 3. 3. 3.]\n",
      " [1. 0. 0. 0. 3.]\n",
      " [1. 0. 1. 0. 3.]\n",
      " [1. 0. 0. 0. 0.]]\n"
     ]
    }
   ],
   "source": [
    "def _build_graph(ranks):\n",
    "    n_voters, n_candidates = ranks.shape\n",
    "    edge_weights = np.zeros((n_candidates, n_candidates))\n",
    "    for i, j in combinations(range(n_candidates), 2):\n",
    "        preference = ranks[:, i] - ranks[:, j]\n",
    "        h_ij = np.sum(preference < 0)  # prefers i to j\n",
    "        h_ji = np.sum(preference > 0)  # prefers j to i\n",
    "        if h_ij > h_ji:\n",
    "            edge_weights[i, j] = h_ij - h_ji\n",
    "        elif h_ij < h_ji:\n",
    "            edge_weights[j, i] = h_ji - h_ij\n",
    "    return edge_weights\n",
    "\n",
    "print(_build_graph(ranks))"
   ]
  },
  {
   "cell_type": "code",
   "execution_count": 192,
   "metadata": {},
   "outputs": [],
   "source": [
    "from cylp.cy import CyClpSimplex\n",
    "from cylp.py.modeling.CyLPModel import CyLPArray\n",
    "\n",
    "def rankaggr_lp(ranks):\n",
    "    \"\"\"Kemeny-Young optimal rank aggregation\"\"\"\n",
    "\n",
    "    n_voters, n_candidates = ranks.shape\n",
    "    \n",
    "    s = CyClpSimplex()\n",
    "    \n",
    "    # to state pairwise and triangle constraints like x(ij) + x(ji) = 1\n",
    "    x = s.addVariable('x', n_candidates ** 2)\n",
    "    \n",
    "    \n",
    "    # minimize c.T * x\n",
    "    edge_weights = _build_graph(ranks)\n",
    "    c = 1 * edge_weights.ravel()  \n",
    "    \n",
    "    idx = lambda i, j: n_candidates * i + j\n",
    "    \n",
    "    print (n_voters, n_candidates)\n",
    "    \n",
    "    # constraints to ensure elements >= 0\n",
    "    uni_constraints = np.zeros((n_candidates ** 2, n_candidates ** 2))\n",
    "    for i in range(0, n_candidates ** 2):\n",
    "        uni_constraints[i,i] = 1\n",
    "        \n",
    "    UniConstraints = np.asmatrix(uni_constraints)\n",
    "    s += UniConstraints * x >= 0\n",
    "    \n",
    "    # constraints for every pair - shape (10, 25)\n",
    "    pairwise_constraints = np.zeros((int((n_candidates * (n_candidates - 1)) / 2),\n",
    "                                      n_candidates ** 2))\n",
    "        \n",
    "    for row, (i, j) in zip(pairwise_constraints,\n",
    "                           combinations(range(n_candidates), 2)):\n",
    "        row[[idx(i, j), idx(j, i)]] = 1\n",
    "    \n",
    "    \n",
    "    PairwiseConstraints = np.asmatrix(pairwise_constraints)\n",
    "\n",
    "    s += PairwiseConstraints * x == 1\n",
    "\n",
    "    # and for every cycle of length 3 - shape (60, 25)\n",
    "    triangle_constraints = np.zeros(((n_candidates * (n_candidates - 1) *\n",
    "                                     (n_candidates - 2)), n_candidates ** 2))\n",
    "    \n",
    "    for row, (i, j, k) in zip(triangle_constraints,\n",
    "                              permutations(range(n_candidates), 3)):\n",
    "        row[[idx(i, j), idx(j, k), idx(k, i)]] = 1\n",
    "\n",
    "    TriangleConstraints = np.asmatrix(triangle_constraints)\n",
    "  \n",
    "    s += TriangleConstraints * x == 1\n",
    "    \n",
    "    # print (s.constraints)\n",
    "    \n",
    "    ObjectiveMatrix = np.asmatrix(c)\n",
    "    print (ObjectiveMatrix.shape)\n",
    "    \n",
    "    # print (ObjectiveMatrix)\n",
    "    s.objective = ObjectiveMatrix * x\n",
    "    \n",
    "    # Solve using primal Simplex\n",
    "    s.primal()\n",
    "    X = s.primalVariableSolution['x']\n",
    "        \n",
    "    # cs = CyClpSimplex()\n",
    "    # obj, x, duals = CyClpSimplex(c, constraints, constraint_rhs, constraint_signs,\n",
    "    #                        xint=range(1, 1 + n_candidates ** 2))\n",
    "\n",
    "    X = np.array(X).reshape((n_candidates, n_candidates))\n",
    "    print (X)\n",
    "    aggr_rank = X.sum(axis=1)\n",
    "\n",
    "    return aggr_rank\n",
    "\n"
   ]
  },
  {
   "cell_type": "markdown",
   "metadata": {},
   "source": [
    "### Bug\n",
    "\n",
    "The results in the next cell simply wrong; they should be the same as with the brute force method.\n",
    "\n",
    "**needs more debugging**"
   ]
  },
  {
   "cell_type": "code",
   "execution_count": 193,
   "metadata": {},
   "outputs": [
    {
     "name": "stdout",
     "output_type": "stream",
     "text": [
      "5 5\n",
      "(1, 25)\n",
      "[[0.         0.66666667 0.66666667 0.66666667 0.33333333]\n",
      " [0.         0.         0.33333333 0.33333333 0.        ]\n",
      " [0.         0.33333333 0.         0.33333333 0.        ]\n",
      " [0.         0.33333333 0.33333333 0.         0.        ]\n",
      " [0.33333333 0.66666667 0.66666667 0.66666667 0.        ]]\n",
      "A Kemeny-Young aggregation with score 17 is: Gwendolyn, Robin, Ginny, Alicia, Debbie\n"
     ]
    },
    {
     "name": "stderr",
     "output_type": "stream",
     "text": [
      "/home/markus/.local/lib/python3.7/site-packages/ipykernel_launcher.py:2: DeprecationWarning: Calling np.sum(generator) is deprecated, and in the future will give a different result. Use np.sum(np.fromiter(generator)) or the python sum builtin instead.\n",
      "  \n"
     ]
    }
   ],
   "source": [
    "aggr = rankaggr_lp(ranks)\n",
    "score = np.sum(kendalltau_dist(aggr, rank) for rank in ranks)\n",
    "print(\"A Kemeny-Young aggregation with score {} is: {}\".format(\n",
    "    score,\n",
    "    \", \".join(cols[i] for i in np.argsort(aggr))))"
   ]
  },
  {
   "cell_type": "markdown",
   "metadata": {},
   "source": []
  }
 ],
 "metadata": {
  "kernelspec": {
   "display_name": "Python 3",
   "language": "python",
   "name": "python3"
  },
  "language_info": {
   "codemirror_mode": {
    "name": "ipython",
    "version": 3
   },
   "file_extension": ".py",
   "mimetype": "text/x-python",
   "name": "python",
   "nbconvert_exporter": "python",
   "pygments_lexer": "ipython3",
   "version": "3.9.5"
  }
 },
 "nbformat": 4,
 "nbformat_minor": 4
}
