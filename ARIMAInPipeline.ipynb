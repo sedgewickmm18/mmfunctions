{
 "cells": [
  {
   "cell_type": "code",
   "execution_count": 1,
   "metadata": {
    "scrolled": true
   },
   "outputs": [
    {
     "name": "stderr",
     "output_type": "stream",
     "text": [
      "Warning: confluent_kafka is not installed. Publish to MessageHub not supported.\n"
     ]
    }
   ],
   "source": [
    "# Real life data\n",
    "\n",
    "import logging\n",
    "import threading\n",
    "import json\n",
    "import itertools\n",
    "import pandas as pd\n",
    "import numpy as np  \n",
    "import matplotlib.pyplot as plt\n",
    "import ibm_db\n",
    "import shap\n",
    "\n",
    "from pandas_profiling import ProfileReport\n",
    "from matplotlib import cm\n",
    "from mpl_toolkits.mplot3d import axes3d\n",
    "import seaborn as seabornInstance\n",
    "from sqlalchemy import Column, Integer, String, Float, DateTime, Boolean, func\n",
    "from iotfunctions import base\n",
    "from iotfunctions import bif\n",
    "from iotfunctions.db import Database\n",
    "from iotfunctions import entity\n",
    "from iotfunctions import metadata\n",
    "from iotfunctions.metadata import EntityType\n",
    "from iotfunctions.enginelog import EngineLogging\n",
    "from iotfunctions.dbtables import FileModelStore\n",
    "from iotfunctions import estimator\n",
    "from iotfunctions.ui import (UISingle, UIMultiItem, UIFunctionOutSingle,\n",
    "                 UISingleItem, UIFunctionOutMulti, UIMulti, UIExpression,\n",
    "                 UIText, UIStatusFlag, UIParameters)\n",
    "from iotfunctions.dbtables import FileModelStore, DBModelStore\n",
    "from mmfunctions.anomaly import (ARIMAForecaster)\n",
    "import datetime as dt\n",
    "from sklearn.model_selection import train_test_split \n",
    "from sklearn.linear_model import LinearRegression\n",
    "from sklearn.preprocessing import StandardScaler\n",
    "from sklearn.covariance import MinCovDet\n",
    "from sklearn import metrics\n",
    "import scipy as sp\n",
    "import scipy.fftpack\n",
    "import skimage as ski  \n",
    "from skimage import util as skiutil # for nifty windowing\n",
    "import pyod as pyod\n",
    "from pyod.utils.data import generate_data\n",
    "from pyod.utils.data import evaluate_print\n",
    "from pyod.utils.example import visualize\n",
    "from pyod.models.knn import KNN\n",
    "from pyod.models.iforest import IForest\n",
    "%matplotlib inline\n",
    "from pandas.plotting import register_matplotlib_converters\n",
    "register_matplotlib_converters()\n",
    "\n",
    "EngineLogging.configure_console_logging(logging.INFO)"
   ]
  },
  {
   "cell_type": "code",
   "execution_count": 2,
   "metadata": {
    "scrolled": false
   },
   "outputs": [
    {
     "name": "stdout",
     "output_type": "stream",
     "text": [
      "2021-03-09T19:29:23.378 INFO iotfunctions.dbtables.__init__ Init FileModelStore with path: ./\n",
      "###_IBM_###\n"
     ]
    }
   ],
   "source": [
    "db_schema=None\n",
    "class DatabaseDummy:\n",
    "    tenant_id = '###_IBM_###'\n",
    "    db_type = 'db2'\n",
    "    model_store = FileModelStore('./')\n",
    "    def _init(self):\n",
    "        return\n",
    "\n",
    "db = DatabaseDummy()\n",
    "        \n",
    "print (db.tenant_id)"
   ]
  },
  {
   "cell_type": "code",
   "execution_count": 3,
   "metadata": {},
   "outputs": [
    {
     "name": "stdout",
     "output_type": "stream",
     "text": [
      "2021-03-09T19:29:24.244 INFO numexpr.utils._init_num_threads Note: NumExpr detected 12 cores but \"NUMEXPR_MAX_THREADS\" not set, so enforcing safe limit of 8.\n",
      "2021-03-09T19:29:24.245 INFO numexpr.utils._init_num_threads NumExpr defaulting to 8 threads.\n"
     ]
    },
    {
     "data": {
      "text/html": [
       "<div>\n",
       "<style scoped>\n",
       "    .dataframe tbody tr th:only-of-type {\n",
       "        vertical-align: middle;\n",
       "    }\n",
       "\n",
       "    .dataframe tbody tr th {\n",
       "        vertical-align: top;\n",
       "    }\n",
       "\n",
       "    .dataframe thead th {\n",
       "        text-align: right;\n",
       "    }\n",
       "</style>\n",
       "<table border=\"1\" class=\"dataframe\">\n",
       "  <thead>\n",
       "    <tr style=\"text-align: right;\">\n",
       "      <th></th>\n",
       "      <th>UMIDADE_REL</th>\n",
       "      <th>KW</th>\n",
       "      <th>KW2</th>\n",
       "    </tr>\n",
       "  </thead>\n",
       "  <tbody>\n",
       "    <tr>\n",
       "      <th>count</th>\n",
       "      <td>8336.000000</td>\n",
       "      <td>8336.000000</td>\n",
       "      <td>8336.000000</td>\n",
       "    </tr>\n",
       "    <tr>\n",
       "      <th>mean</th>\n",
       "      <td>67.781550</td>\n",
       "      <td>587.668072</td>\n",
       "      <td>58.766807</td>\n",
       "    </tr>\n",
       "    <tr>\n",
       "      <th>std</th>\n",
       "      <td>16.769073</td>\n",
       "      <td>154.291984</td>\n",
       "      <td>15.429198</td>\n",
       "    </tr>\n",
       "    <tr>\n",
       "      <th>min</th>\n",
       "      <td>15.000000</td>\n",
       "      <td>8.400000</td>\n",
       "      <td>0.840000</td>\n",
       "    </tr>\n",
       "    <tr>\n",
       "      <th>25%</th>\n",
       "      <td>57.000000</td>\n",
       "      <td>470.400000</td>\n",
       "      <td>47.040000</td>\n",
       "    </tr>\n",
       "    <tr>\n",
       "      <th>50%</th>\n",
       "      <td>73.000000</td>\n",
       "      <td>557.760010</td>\n",
       "      <td>55.776001</td>\n",
       "    </tr>\n",
       "    <tr>\n",
       "      <th>75%</th>\n",
       "      <td>81.000000</td>\n",
       "      <td>703.919983</td>\n",
       "      <td>70.391998</td>\n",
       "    </tr>\n",
       "    <tr>\n",
       "      <th>max</th>\n",
       "      <td>92.000000</td>\n",
       "      <td>944.160000</td>\n",
       "      <td>94.416000</td>\n",
       "    </tr>\n",
       "  </tbody>\n",
       "</table>\n",
       "</div>"
      ],
      "text/plain": [
       "       UMIDADE_REL           KW          KW2\n",
       "count  8336.000000  8336.000000  8336.000000\n",
       "mean     67.781550   587.668072    58.766807\n",
       "std      16.769073   154.291984    15.429198\n",
       "min      15.000000     8.400000     0.840000\n",
       "25%      57.000000   470.400000    47.040000\n",
       "50%      73.000000   557.760010    55.776001\n",
       "75%      81.000000   703.919983    70.391998\n",
       "max      92.000000   944.160000    94.416000"
      ]
     },
     "execution_count": 3,
     "metadata": {},
     "output_type": "execute_result"
    }
   ],
   "source": [
    "# Now we proceed to customer data - GOOD CASE\n",
    "\n",
    "# Get stuff in\n",
    "df_input_raw = pd.read_csv('./BP_DATA/IoTData.csv', index_col=False, parse_dates=['DATETIME'])\n",
    "\n",
    "df_input_raw.rename(columns={'DATETIME':'timestamp'}, inplace=True)\n",
    "\n",
    "\n",
    "df_input_raw['entity'] = 'demand'\n",
    "#df_input_raw['entity']=df_input_raw['DEVICE_ID']\n",
    "#df_input_raw['timestamp']=df_input_raw['RCV_TIMESTAMP_UTC']\n",
    "\n",
    "# and sort it by timestamp\n",
    "df_input_raw = df_input_raw.sort_values(by='timestamp')\n",
    "df_input_raw = df_input_raw.set_index(['entity','timestamp']).dropna()\n",
    "\n",
    "df_input_raw.describe()\n"
   ]
  },
  {
   "cell_type": "code",
   "execution_count": 4,
   "metadata": {},
   "outputs": [],
   "source": [
    "# df_input[['accel_power_0','accel_anomaly']].head(20)\n",
    "\n",
    "# removed 'rms'\n",
    "#features=['accel_speed','accel_power_0','accel_power_1','accel_power_2','accel_power_3','accel_power_4'] \n",
    "features=['KW']\n",
    "targets=['KW']\n",
    "predictions=['KW_pred']\n",
    "\n",
    "df_input = df_input_raw"
   ]
  },
  {
   "cell_type": "code",
   "execution_count": 5,
   "metadata": {},
   "outputs": [
    {
     "data": {
      "text/plain": [
       "<__main__.DatabaseDummy at 0x7f2304358b80>"
      ]
     },
     "execution_count": 5,
     "metadata": {},
     "output_type": "execute_result"
    }
   ],
   "source": []
  },
  {
   "cell_type": "code",
   "execution_count": 9,
   "metadata": {
    "scrolled": false
   },
   "outputs": [
    {
     "name": "stdout",
     "output_type": "stream",
     "text": [
      "2021-03-09T19:30:08.392 DEBUG iotfunctions.enginelog.configure_console_logging Console logging has been configured. Level = 10\n",
      "2021-03-09T19:30:08.394 DEBUG iotfunctions.metadata.__init__ Initializing new entity type using iotfunctions 0.0.2\n",
      "2021-03-09T19:30:08.394 DEBUG iotfunctions.util.__init__ Starting trace\n",
      "2021-03-09T19:30:08.395 DEBUG iotfunctions.util.__init__ Trace name: auto_trace_test_entity_for_ARIMAForecaster_20210309183008\n",
      "2021-03-09T19:30:08.395 DEBUG iotfunctions.util.__init__ auto_save None\n",
      "2021-03-09T19:30:08.396 DEBUG iotfunctions.util.categorize_args categorizing arguments\n",
      "2021-03-09T19:30:08.396 WARNING iotfunctions.metadata.__init__ Created a logical entity type. It is not connected to a real database table, so it cannot perform any database operations.\n",
      "2021-03-09T19:30:08.397 DEBUG iotfunctions.metadata.__init__ Initialized entity type \n",
      "LocalEntityType:TEST_ENTITY_FOR_ARIMAFORECASTER\n",
      "Functions:\n",
      "Granularities:\n",
      "No schedules metadata\n",
      "2021-03-09T19:30:08.398 DEBUG mmfunctions.anomaly.execute ['demand']\n",
      "KW\n",
      "2021-03-09T19:30:08.404 DEBUG mmfunctions.anomaly.execute Module ARIMA Forecaster, Entity: demand, Input: KW, Forecasting: 120, Output: KW_pred\n",
      "['model', 'TEST_ENTITY_FOR_ARIMAFORECASTER', 'ARIMAForecaster']\n",
      "['model', 'TEST_ENTITY_FOR_ARIMAFORECASTER', 'ARIMAForecaster', 'KW_pred']\n",
      "model.TEST_ENTITY_FOR_ARIMAFORECASTER.ARIMAForecaster.KW_pred.demand\n",
      "2021-03-09T19:30:08.407 INFO iotfunctions.dbtables.retrieve_model Model model.TEST_ENTITY_FOR_ARIMAFORECASTER.ARIMAForecaster.KW_pred.demand of size 8045312 bytes has been retrieved from filesystem\n",
      "2021-03-09T19:30:08.413 INFO mmfunctions.anomaly.execute load model <statsmodels.tsa.forecasting.stl.STLForecastResults object at 0x7f220c3f0f10>\n",
      "(120,) (6000, 1)\n",
      "2021-03-09T19:30:08.430 DEBUG mmfunctions.anomaly.execute                     STL Decomposition and SARIMAX Results                     \n",
      "==============================================================================\n",
      "Dep. Variable:                      y   No. Observations:                 6000\n",
      "Model:                 ARIMA(1, 0, 1)   Log Likelihood              -31837.504\n",
      "Date:                Tue, 09 Mar 2021   AIC                          63681.009\n",
      "Time:                        19:30:08   BIC                          63701.107\n",
      "Sample:                             0   HQIC                         63687.988\n",
      "                               - 6000                                         \n",
      "Covariance Type:                  opg                                         \n",
      "==============================================================================\n",
      "                 coef    std err          z      P>|z|      [0.025      0.975]\n",
      "------------------------------------------------------------------------------\n",
      "ar.L1          0.9985      0.001   1468.696      0.000       0.997       1.000\n",
      "ma.L1         -0.3146      0.006    -51.396      0.000      -0.327      -0.303\n",
      "sigma2      2381.5184     17.584    135.434      0.000    2347.054    2415.983\n",
      "===================================================================================\n",
      "Ljung-Box (L1) (Q):                   0.44   Jarque-Bera (JB):             93605.27\n",
      "Prob(Q):                              0.50   Prob(JB):                         0.00\n",
      "Heteroskedasticity (H):               0.90   Skew:                            -0.00\n",
      "Prob(H) (two-sided):                  0.02   Kurtosis:                        22.35\n",
      "                                STL Configuration                                \n",
      "=================================================================================\n",
      "Period:                           168       Trend Length:                     321\n",
      "Seasonal:                           7       Trend deg:                          1\n",
      "Seasonal deg:                       1       Trend jump:                         1\n",
      "Seasonal jump:                      1       Low pass:                         169\n",
      "Robust:                         False       Low pass deg:                       1\n",
      "---------------------------------------------------------------------------------\n",
      "\n",
      "Warnings:\n",
      "[1] Covariance matrix calculated using the outer product of gradients (complex-step).\n"
     ]
    }
   ],
   "source": [
    "\n",
    "# train with the first 6000 observations\n",
    "df_cut = df_input[0:6000]\n",
    "\n",
    "# Run Monitoring's anomaly detector functions\n",
    "EngineLogging.configure_console_logging(logging.DEBUG)\n",
    "\n",
    "\n",
    "arimaii = ARIMAForecaster(input_item='KW',n_forecast=120,\n",
    "                     output_item='KW_pred')\n",
    "\n",
    "jobsettings = { 'db': db, \n",
    "               '_db_schema': 'public', 'save_trace_to_file' : True}\n",
    "et = arimaii._build_entity_type(columns = [Column('KW',Float())], **jobsettings)\n",
    "arimaii._entity_type = et\n",
    "\n",
    "# allow training and delete existing models\n",
    "df_cut = arimaii.execute(df=df_cut)"
   ]
  },
  {
   "cell_type": "code",
   "execution_count": 10,
   "metadata": {},
   "outputs": [
    {
     "data": {
      "text/plain": [
       "<matplotlib.axes._subplots.AxesSubplot at 0x7f220c0b1b50>"
      ]
     },
     "execution_count": 10,
     "metadata": {},
     "output_type": "execute_result"
    },
    {
     "data": {
      "image/png": "[encoded data removed]",
      "text/plain": [
       "<Figure size 1440x360 with 1 Axes>"
      ]
     },
     "metadata": {
      "needs_background": "light"
     },
     "output_type": "display_data"
    }
   ],
   "source": [
    "df_short = df_cut #[['KW', 'KW_pred']][5972:]\n",
    "#df_short = df_cut[['KW']][5900:]\n",
    "#df_short[['KW']][5900:6120].plot(figsize=(20,4))\n",
    "#df_short[['KW_pred']][5800:].plot(figsize=(20,4))\n",
    "\n",
    "diff = df_short['KW'][5880:6120] - df_short['KW_pred'][5760:]\n",
    "diff.plot(figsize=(20,5))"
   ]
  },
  {
   "cell_type": "code",
   "execution_count": null,
   "metadata": {},
   "outputs": [],
   "source": [
    "arimaii\n",
    "\n",
    "#print('RMSE111: ', sm.tools.eval_measures.rmse(forecast111[0:24], ndif[6000:6000 + 24]),\n",
    "#      '\\nRMSE200: ', sm.tools.eval_measures.rmse(forecast200[0:24], ndif[6000:6000 + 24]))"
   ]
  },
  {
   "cell_type": "code",
   "execution_count": null,
   "metadata": {},
   "outputs": [],
   "source": []
  }
 ],
 "metadata": {
  "kernelspec": {
   "display_name": "Python 3",
   "language": "python",
   "name": "python3"
  },
  "language_info": {
   "codemirror_mode": {
    "name": "ipython",
    "version": 3
   },
   "file_extension": ".py",
   "mimetype": "text/x-python",
   "name": "python",
   "nbconvert_exporter": "python",
   "pygments_lexer": "ipython3",
   "version": "3.8.6"
  }
 },
 "nbformat": 4,
 "nbformat_minor": 2
}
