{
 "cells": [
  {
   "cell_type": "code",
   "execution_count": 1,
   "id": "absent-margin",
   "metadata": {},
   "outputs": [
    {
     "name": "stderr",
     "output_type": "stream",
     "text": [
      "Warning: confluent_kafka is not installed. Publish to MessageHub not supported.\n"
     ]
    }
   ],
   "source": [
    "#Real life data\n",
    "\n",
    "import logging\n",
    "import threading\n",
    "import itertools\n",
    "import math\n",
    "import datetime\n",
    "import pandas as pd  \n",
    "import numpy as np  \n",
    "import scipy as sp\n",
    "import json\n",
    "import ibm_db\n",
    "\n",
    "import matplotlib\n",
    "import matplotlib.pyplot as plt\n",
    "from matplotlib import cm\n",
    "from mpl_toolkits.mplot3d import axes3d\n",
    "import seaborn as seabornInstance\n",
    "from sqlalchemy import Column, Integer, String, Float, DateTime, Boolean, func\n",
    "from iotfunctions import base\n",
    "from iotfunctions import bif\n",
    "from iotfunctions import entity\n",
    "from iotfunctions import metadata\n",
    "from iotfunctions.metadata import EntityType\n",
    "from iotfunctions.db import Database\n",
    "from iotfunctions.dbtables import FileModelStore, DBModelStore\n",
    "from iotfunctions.enginelog import EngineLogging\n",
    "from iotfunctions import estimator\n",
    "from iotfunctions.bif import PythonExpression\n",
    "from iotfunctions.ui import (UISingle, UIMultiItem, UIFunctionOutSingle,\n",
    "                 UISingleItem, UIFunctionOutMulti, UIMulti, UIExpression,\n",
    "                 UIText, UIStatusFlag, UIParameters)\n",
    "from iotfunctions.anomaly import (SaliencybasedGeneralizedAnomalyScore, SpectralAnomalyScore,\n",
    "                 FFTbasedGeneralizedAnomalyScore, KMeansAnomalyScore, SpectralAnomalyScoreExt,\n",
    "                 SaliencybasedGeneralizedAnomalyScoreV2, FFTbasedGeneralizedAnomalyScoreV2, \n",
    "                 KMeansAnomalyScoreV2, BayesRidgeRegressor,RobustThreshold)\n",
    "from mmfunctions.anomaly import (FeatureBuilder, GBMForecaster, KDEAnomalyScore, VIAnomalyScore)\n",
    "#from poc.functions import State_Timer\n",
    "import datetime as dt\n",
    "from sklearn.model_selection import train_test_split \n",
    "from sklearn.linear_model import LinearRegression\n",
    "from sklearn.preprocessing import StandardScaler, MinMaxScaler\n",
    "from sklearn import metrics\n",
    "from pandas.plotting import register_matplotlib_converters\n",
    "import seaborn as sns\n",
    "register_matplotlib_converters()\n",
    "\n",
    "EngineLogging.configure_console_logging(logging.INFO)\n",
    "\n",
    "\n"
   ]
  },
  {
   "cell_type": "code",
   "execution_count": 2,
   "id": "correct-player",
   "metadata": {},
   "outputs": [],
   "source": [
    "# install umap-learn, gensim and python-Levenshtein\n",
    "import umap \n",
    "import gensim\n",
    "from gensim.models import Word2Vec, FastText\n"
   ]
  },
  {
   "cell_type": "code",
   "execution_count": 3,
   "id": "stock-diving",
   "metadata": {},
   "outputs": [],
   "source": [
    "df_raw_const = pd.read_fwf('./data/dataids.txt', header=None)\n",
    "df_const = df_raw_const[0].str.split(',', expand=True)"
   ]
  },
  {
   "cell_type": "code",
   "execution_count": 16,
   "id": "bacterial-assessment",
   "metadata": {},
   "outputs": [],
   "source": [
    "df_raw_dyn = pd.read_fwf('./data/recentdata.txt', header=None)\n",
    "df_dyn = df_raw_dyn[0].str.split(',', expand=True)"
   ]
  },
  {
   "cell_type": "code",
   "execution_count": 6,
   "id": "lyric-surface",
   "metadata": {},
   "outputs": [
    {
     "data": {
      "text/html": [
       "<div>\n",
       "<style scoped>\n",
       "    .dataframe tbody tr th:only-of-type {\n",
       "        vertical-align: middle;\n",
       "    }\n",
       "\n",
       "    .dataframe tbody tr th {\n",
       "        vertical-align: top;\n",
       "    }\n",
       "\n",
       "    .dataframe thead th {\n",
       "        text-align: right;\n",
       "    }\n",
       "</style>\n",
       "<table border=\"1\" class=\"dataframe\">\n",
       "  <thead>\n",
       "    <tr style=\"text-align: right;\">\n",
       "      <th></th>\n",
       "      <th>0</th>\n",
       "      <th>1</th>\n",
       "      <th>2</th>\n",
       "      <th>3</th>\n",
       "      <th>4</th>\n",
       "      <th>5</th>\n",
       "      <th>6</th>\n",
       "      <th>7</th>\n",
       "      <th>8</th>\n",
       "      <th>9</th>\n",
       "      <th>...</th>\n",
       "      <th>65</th>\n",
       "      <th>66</th>\n",
       "      <th>67</th>\n",
       "      <th>68</th>\n",
       "      <th>69</th>\n",
       "      <th>70</th>\n",
       "      <th>71</th>\n",
       "      <th>72</th>\n",
       "      <th>73</th>\n",
       "      <th>74</th>\n",
       "    </tr>\n",
       "  </thead>\n",
       "  <tbody>\n",
       "    <tr>\n",
       "      <th>45345</th>\n",
       "      <td>167388</td>\n",
       "      <td>5</td>\n",
       "      <td>5</td>\n",
       "      <td>1623346986349</td>\n",
       "      <td>[Ljava.lang.Object;@650e7502</td>\n",
       "      <td>53351023</td>\n",
       "      <td>0</td>\n",
       "      <td>[Ljava.lang.Object;@27df5748</td>\n",
       "      <td>104580383</td>\n",
       "      <td>0</td>\n",
       "      <td>...</td>\n",
       "      <td>None</td>\n",
       "      <td>None</td>\n",
       "      <td>None</td>\n",
       "      <td>None</td>\n",
       "      <td>None</td>\n",
       "      <td>None</td>\n",
       "      <td>None</td>\n",
       "      <td>None</td>\n",
       "      <td>None</td>\n",
       "      <td>None</td>\n",
       "    </tr>\n",
       "  </tbody>\n",
       "</table>\n",
       "<p>1 rows × 75 columns</p>\n",
       "</div>"
      ],
      "text/plain": [
       "           0  1  2              3                             4         5  6   \\\n",
       "45345  167388  5  5  1623346986349  [Ljava.lang.Object;@650e7502  53351023  0   \n",
       "\n",
       "                                 7          8  9   ...    65    66    67  \\\n",
       "45345  [Ljava.lang.Object;@27df5748  104580383  0  ...  None  None  None   \n",
       "\n",
       "         68    69    70    71    72    73    74  \n",
       "45345  None  None  None  None  None  None  None  \n",
       "\n",
       "[1 rows x 75 columns]"
      ]
     },
     "execution_count": 6,
     "metadata": {},
     "output_type": "execute_result"
    }
   ],
   "source": [
    "df_dyn[45345:45346]"
   ]
  },
  {
   "cell_type": "code",
   "execution_count": 11,
   "id": "sticky-report",
   "metadata": {},
   "outputs": [
    {
     "data": {
      "text/plain": [
       "RangeIndex(start=0, stop=111955, step=1)"
      ]
     },
     "execution_count": 11,
     "metadata": {},
     "output_type": "execute_result"
    }
   ],
   "source": [
    "df_dyn.index"
   ]
  },
  {
   "cell_type": "code",
   "execution_count": 17,
   "id": "thorough-scene",
   "metadata": {},
   "outputs": [],
   "source": [
    "df_merged = df_dyn.merge(df_const, how='inner', on=[0])"
   ]
  },
  {
   "cell_type": "code",
   "execution_count": 26,
   "id": "moral-highlight",
   "metadata": {},
   "outputs": [
    {
     "data": {
      "text/html": [
       "<div>\n",
       "<style scoped>\n",
       "    .dataframe tbody tr th:only-of-type {\n",
       "        vertical-align: middle;\n",
       "    }\n",
       "\n",
       "    .dataframe tbody tr th {\n",
       "        vertical-align: top;\n",
       "    }\n",
       "\n",
       "    .dataframe thead th {\n",
       "        text-align: right;\n",
       "    }\n",
       "</style>\n",
       "<table border=\"1\" class=\"dataframe\">\n",
       "  <thead>\n",
       "    <tr style=\"text-align: right;\">\n",
       "      <th></th>\n",
       "      <th>3_x</th>\n",
       "      <th>4_x</th>\n",
       "      <th>5_y</th>\n",
       "    </tr>\n",
       "  </thead>\n",
       "  <tbody>\n",
       "    <tr>\n",
       "      <th>0</th>\n",
       "      <td>1623346986062</td>\n",
       "      <td>0</td>\n",
       "      <td>METHOD_ENTRY</td>\n",
       "    </tr>\n",
       "    <tr>\n",
       "      <th>1</th>\n",
       "      <td>1623346986062</td>\n",
       "      <td>0</td>\n",
       "      <td>LABEL</td>\n",
       "    </tr>\n",
       "    <tr>\n",
       "      <th>2</th>\n",
       "      <td>1623346986062</td>\n",
       "      <td>0</td>\n",
       "      <td>LINE_NUMBER</td>\n",
       "    </tr>\n",
       "    <tr>\n",
       "      <th>3</th>\n",
       "      <td>1623346986062</td>\n",
       "      <td>0</td>\n",
       "      <td>CALL</td>\n",
       "    </tr>\n",
       "    <tr>\n",
       "      <th>4</th>\n",
       "      <td>1623346986062</td>\n",
       "      <td>0</td>\n",
       "      <td>CALL_RETURN</td>\n",
       "    </tr>\n",
       "    <tr>\n",
       "      <th>...</th>\n",
       "      <td>...</td>\n",
       "      <td>...</td>\n",
       "      <td>...</td>\n",
       "    </tr>\n",
       "    <tr>\n",
       "      <th>111950</th>\n",
       "      <td>1623346986749</td>\n",
       "      <td>false</td>\n",
       "      <td>CALL_RETURN</td>\n",
       "    </tr>\n",
       "    <tr>\n",
       "      <th>111951</th>\n",
       "      <td>1623346986749</td>\n",
       "      <td>411342</td>\n",
       "      <td>LABEL</td>\n",
       "    </tr>\n",
       "    <tr>\n",
       "      <th>111952</th>\n",
       "      <td>1623346986749</td>\n",
       "      <td>0</td>\n",
       "      <td>LINE_NUMBER</td>\n",
       "    </tr>\n",
       "    <tr>\n",
       "      <th>111953</th>\n",
       "      <td>1623346986749</td>\n",
       "      <td>java.util.ArrayList@6211133a</td>\n",
       "      <td>LOCAL_LOAD</td>\n",
       "    </tr>\n",
       "    <tr>\n",
       "      <th>111954</th>\n",
       "      <td>1623346986749</td>\n",
       "      <td>java.util.ArrayList@6211133a</td>\n",
       "      <td>METHOD_NORMAL_EXIT</td>\n",
       "    </tr>\n",
       "  </tbody>\n",
       "</table>\n",
       "<p>111955 rows × 3 columns</p>\n",
       "</div>"
      ],
      "text/plain": [
       "                  3_x                           4_x                 5_y\n",
       "0       1623346986062                             0        METHOD_ENTRY\n",
       "1       1623346986062                             0               LABEL\n",
       "2       1623346986062                             0         LINE_NUMBER\n",
       "3       1623346986062                             0                CALL\n",
       "4       1623346986062                             0         CALL_RETURN\n",
       "...               ...                           ...                 ...\n",
       "111950  1623346986749                         false         CALL_RETURN\n",
       "111951  1623346986749                        411342               LABEL\n",
       "111952  1623346986749                             0         LINE_NUMBER\n",
       "111953  1623346986749  java.util.ArrayList@6211133a          LOCAL_LOAD\n",
       "111954  1623346986749  java.util.ArrayList@6211133a  METHOD_NORMAL_EXIT\n",
       "\n",
       "[111955 rows x 3 columns]"
      ]
     },
     "execution_count": 26,
     "metadata": {},
     "output_type": "execute_result"
    }
   ],
   "source": [
    "df_merged[['3_x','4_x','5_y']]"
   ]
  },
  {
   "cell_type": "code",
   "execution_count": 27,
   "id": "reflected-business",
   "metadata": {},
   "outputs": [],
   "source": [
    "np_dataset = df_merged[['3_x','4_x','5_y']].values"
   ]
  },
  {
   "cell_type": "code",
   "execution_count": 28,
   "id": "fossil-forest",
   "metadata": {},
   "outputs": [],
   "source": [
    "# minimal cleansing - drop NaNs\n",
    "dataset = []\n",
    "for row in np_dataset:\n",
    "    dataset.append([x for x in row if pd.isnull(x) == False])"
   ]
  },
  {
   "cell_type": "code",
   "execution_count": 48,
   "id": "dutch-memphis",
   "metadata": {},
   "outputs": [],
   "source": [
    "# dataset"
   ]
  },
  {
   "cell_type": "code",
   "execution_count": 31,
   "id": "spanish-validation",
   "metadata": {},
   "outputs": [
    {
     "name": "stdout",
     "output_type": "stream",
     "text": [
      "2021-06-11T18:13:24.908 INFO gensim.models.word2vec.scan_vocab collecting all words and their counts\n",
      "2021-06-11T18:13:24.912 INFO gensim.models.word2vec._scan_vocab PROGRESS: at sentence #0, processed 0 words, keeping 0 word types\n",
      "2021-06-11T18:13:24.934 INFO gensim.models.word2vec._scan_vocab PROGRESS: at sentence #10000, processed 30000 words, keeping 1400 word types\n",
      "2021-06-11T18:13:24.948 INFO gensim.models.word2vec._scan_vocab PROGRESS: at sentence #20000, processed 60000 words, keeping 2570 word types\n",
      "2021-06-11T18:13:24.956 INFO gensim.models.word2vec._scan_vocab PROGRESS: at sentence #30000, processed 90000 words, keeping 3801 word types\n",
      "2021-06-11T18:13:24.964 INFO gensim.models.word2vec._scan_vocab PROGRESS: at sentence #40000, processed 120000 words, keeping 4708 word types\n",
      "2021-06-11T18:13:24.972 INFO gensim.models.word2vec._scan_vocab PROGRESS: at sentence #50000, processed 150000 words, keeping 5697 word types\n",
      "2021-06-11T18:13:24.980 INFO gensim.models.word2vec._scan_vocab PROGRESS: at sentence #60000, processed 180000 words, keeping 6740 word types\n",
      "2021-06-11T18:13:24.988 INFO gensim.models.word2vec._scan_vocab PROGRESS: at sentence #70000, processed 210000 words, keeping 7980 word types\n",
      "2021-06-11T18:13:24.996 INFO gensim.models.word2vec._scan_vocab PROGRESS: at sentence #80000, processed 240000 words, keeping 9331 word types\n",
      "2021-06-11T18:13:25.003 INFO gensim.models.word2vec._scan_vocab PROGRESS: at sentence #90000, processed 270000 words, keeping 11155 word types\n",
      "2021-06-11T18:13:25.012 INFO gensim.models.word2vec._scan_vocab PROGRESS: at sentence #100000, processed 300000 words, keeping 13074 word types\n",
      "2021-06-11T18:13:25.022 INFO gensim.models.word2vec._scan_vocab PROGRESS: at sentence #110000, processed 330000 words, keeping 14096 word types\n",
      "2021-06-11T18:13:25.023 INFO gensim.models.word2vec.scan_vocab collected 14297 word types from a corpus of 335865 raw words and 111955 sentences\n",
      "2021-06-11T18:13:25.024 INFO gensim.models.word2vec.prepare_vocab Creating a fresh vocabulary\n",
      "2021-06-11T18:13:25.056 INFO gensim.utils.add_lifecycle_event Word2Vec lifecycle event {'msg': 'effective_min_count=1 retains 14297 unique words (100.0%% of original 14297, drops 0)', 'datetime': '2021-06-11T18:13:25.056219', 'gensim': '4.0.1', 'python': '3.9.5 (default, May 11 2021, 08:20:37) \\n[GCC 10.3.0]', 'platform': 'Linux-5.11.0-18-generic-x86_64-with-glibc2.33', 'event': 'prepare_vocab'}\n",
      "2021-06-11T18:13:25.056 INFO gensim.utils.add_lifecycle_event Word2Vec lifecycle event {'msg': 'effective_min_count=1 leaves 335865 word corpus (100.0%% of original 335865, drops 0)', 'datetime': '2021-06-11T18:13:25.056812', 'gensim': '4.0.1', 'python': '3.9.5 (default, May 11 2021, 08:20:37) \\n[GCC 10.3.0]', 'platform': 'Linux-5.11.0-18-generic-x86_64-with-glibc2.33', 'event': 'prepare_vocab'}\n",
      "2021-06-11T18:13:25.111 INFO gensim.models.word2vec.prepare_vocab deleting the raw counts dictionary of 14297 items\n",
      "2021-06-11T18:13:25.112 INFO gensim.models.word2vec.prepare_vocab sample=0.001 downsamples 29 most-common words\n",
      "2021-06-11T18:13:25.113 INFO gensim.utils.add_lifecycle_event Word2Vec lifecycle event {'msg': 'downsampling leaves estimated 219830.3121177091 word corpus (65.5%% of prior 335865)', 'datetime': '2021-06-11T18:13:25.113030', 'gensim': '4.0.1', 'python': '3.9.5 (default, May 11 2021, 08:20:37) \\n[GCC 10.3.0]', 'platform': 'Linux-5.11.0-18-generic-x86_64-with-glibc2.33', 'event': 'prepare_vocab'}\n",
      "2021-06-11T18:13:25.209 INFO gensim.models.word2vec.estimate_memory estimated required memory for 14297 words and 300 dimensions: 41461300 bytes\n",
      "2021-06-11T18:13:25.210 INFO gensim.models.word2vec.init_weights resetting layer weights\n",
      "2021-06-11T18:13:25.228 INFO gensim.utils.add_lifecycle_event Word2Vec lifecycle event {'update': False, 'trim_rule': 'None', 'datetime': '2021-06-11T18:13:25.228402', 'gensim': '4.0.1', 'python': '3.9.5 (default, May 11 2021, 08:20:37) \\n[GCC 10.3.0]', 'platform': 'Linux-5.11.0-18-generic-x86_64-with-glibc2.33', 'event': 'build_vocab'}\n",
      "2021-06-11T18:13:25.229 INFO gensim.utils.add_lifecycle_event Word2Vec lifecycle event {'msg': 'training model with 3 workers on 14297 vocabulary and 300 features, using sg=0 hs=0 sample=0.001 negative=5 window=5', 'datetime': '2021-06-11T18:13:25.229112', 'gensim': '4.0.1', 'python': '3.9.5 (default, May 11 2021, 08:20:37) \\n[GCC 10.3.0]', 'platform': 'Linux-5.11.0-18-generic-x86_64-with-glibc2.33', 'event': 'train'}\n",
      "2021-06-11T18:13:25.412 INFO gensim.models.word2vec._log_epoch_progress worker thread finished; awaiting finish of 2 more threads\n",
      "2021-06-11T18:13:25.416 INFO gensim.models.word2vec._log_epoch_progress worker thread finished; awaiting finish of 1 more threads\n",
      "2021-06-11T18:13:25.417 INFO gensim.models.word2vec._log_epoch_progress worker thread finished; awaiting finish of 0 more threads\n",
      "2021-06-11T18:13:25.417 INFO gensim.models.word2vec._log_epoch_end EPOCH - 1 : training on 335865 raw words (219989 effective words) took 0.2s, 1207943 effective words/s\n",
      "2021-06-11T18:13:25.605 INFO gensim.models.word2vec._log_epoch_progress worker thread finished; awaiting finish of 2 more threads\n",
      "2021-06-11T18:13:25.609 INFO gensim.models.word2vec._log_epoch_progress worker thread finished; awaiting finish of 1 more threads\n",
      "2021-06-11T18:13:25.611 INFO gensim.models.word2vec._log_epoch_progress worker thread finished; awaiting finish of 0 more threads\n",
      "2021-06-11T18:13:25.611 INFO gensim.models.word2vec._log_epoch_end EPOCH - 2 : training on 335865 raw words (219979 effective words) took 0.2s, 1172123 effective words/s\n",
      "2021-06-11T18:13:25.803 INFO gensim.models.word2vec._log_epoch_progress worker thread finished; awaiting finish of 2 more threads\n",
      "2021-06-11T18:13:25.807 INFO gensim.models.word2vec._log_epoch_progress worker thread finished; awaiting finish of 1 more threads\n",
      "2021-06-11T18:13:25.808 INFO gensim.models.word2vec._log_epoch_progress worker thread finished; awaiting finish of 0 more threads\n",
      "2021-06-11T18:13:25.809 INFO gensim.models.word2vec._log_epoch_end EPOCH - 3 : training on 335865 raw words (219687 effective words) took 0.2s, 1147602 effective words/s\n",
      "2021-06-11T18:13:26.020 INFO gensim.models.word2vec._log_epoch_progress worker thread finished; awaiting finish of 2 more threads\n",
      "2021-06-11T18:13:26.024 INFO gensim.models.word2vec._log_epoch_progress worker thread finished; awaiting finish of 1 more threads\n",
      "2021-06-11T18:13:26.026 INFO gensim.models.word2vec._log_epoch_progress worker thread finished; awaiting finish of 0 more threads\n",
      "2021-06-11T18:13:26.026 INFO gensim.models.word2vec._log_epoch_end EPOCH - 4 : training on 335865 raw words (219767 effective words) took 0.2s, 1040685 effective words/s\n",
      "2021-06-11T18:13:26.236 INFO gensim.models.word2vec._log_epoch_progress worker thread finished; awaiting finish of 2 more threads\n",
      "2021-06-11T18:13:26.240 INFO gensim.models.word2vec._log_epoch_progress worker thread finished; awaiting finish of 1 more threads\n",
      "2021-06-11T18:13:26.242 INFO gensim.models.word2vec._log_epoch_progress worker thread finished; awaiting finish of 0 more threads\n",
      "2021-06-11T18:13:26.242 INFO gensim.models.word2vec._log_epoch_end EPOCH - 5 : training on 335865 raw words (219845 effective words) took 0.2s, 1062515 effective words/s\n",
      "2021-06-11T18:13:26.243 INFO gensim.utils.add_lifecycle_event Word2Vec lifecycle event {'msg': 'training on 1679325 raw words (1099267 effective words) took 1.0s, 1084190 effective words/s', 'datetime': '2021-06-11T18:13:26.243392', 'gensim': '4.0.1', 'python': '3.9.5 (default, May 11 2021, 08:20:37) \\n[GCC 10.3.0]', 'platform': 'Linux-5.11.0-18-generic-x86_64-with-glibc2.33', 'event': 'train'}\n",
      "2021-06-11T18:13:26.243 INFO gensim.utils.add_lifecycle_event Word2Vec lifecycle event {'params': 'Word2Vec(vocab=14297, vector_size=300, alpha=0.025)', 'datetime': '2021-06-11T18:13:26.243761', 'gensim': '4.0.1', 'python': '3.9.5 (default, May 11 2021, 08:20:37) \\n[GCC 10.3.0]', 'platform': 'Linux-5.11.0-18-generic-x86_64-with-glibc2.33', 'event': 'created'}\n"
     ]
    }
   ],
   "source": [
    "\n",
    "w2v = Word2Vec(dataset, vector_size=300, window=5, min_count=1) #, workers=4)"
   ]
  },
  {
   "cell_type": "code",
   "execution_count": 32,
   "id": "challenging-desperate",
   "metadata": {},
   "outputs": [
    {
     "data": {
      "text/plain": [
       "array([ 1.73638061e-01,  3.06997210e-01,  4.37911242e-01, -2.68451184e-01,\n",
       "        1.94756195e-01,  3.54577661e-01,  3.86496514e-01,  4.76750955e-02,\n",
       "        7.72646010e-01,  1.91685766e-01, -7.64462292e-01, -5.71463764e-01,\n",
       "        3.42088670e-01, -4.46078330e-02, -1.02250680e-01,  8.68509561e-02,\n",
       "       -1.08085960e-01,  5.79202652e-01,  4.00576800e-01,  3.01814169e-01,\n",
       "        1.32897809e-01, -3.46030384e-01, -1.57796144e-01,  1.81340322e-01,\n",
       "       -2.20318109e-01,  4.37474668e-01, -3.88083905e-01,  2.93467611e-01,\n",
       "        2.01765031e-01, -3.50402355e-01,  5.91934800e-01, -4.23004985e-01,\n",
       "        1.69056192e-01,  1.51882544e-01,  1.89540148e-01, -1.73848197e-01,\n",
       "        1.25225931e-01,  4.52896319e-02, -4.42381918e-01,  2.13816628e-01,\n",
       "        1.44395947e-01,  1.57314792e-01,  4.86768007e-01,  2.10755337e-02,\n",
       "       -1.48921907e-01,  4.29117888e-01,  3.84583622e-01,  3.15115750e-01,\n",
       "       -4.60337579e-01, -1.55685423e-02, -1.13828093e-01, -6.31041452e-02,\n",
       "        3.89936268e-01, -8.22894101e-04, -7.08353460e-01,  6.09185211e-02,\n",
       "       -7.15472561e-04,  4.80298251e-01,  2.99822893e-02, -5.74051082e-01,\n",
       "        1.13529705e-01,  6.58429489e-02, -1.32387221e-01,  5.76913536e-01,\n",
       "       -1.19438924e-01, -5.76171018e-02, -1.96085870e-01, -2.38282785e-01,\n",
       "       -1.77708298e-01,  2.32464164e-01, -1.71992108e-01, -9.44623724e-02,\n",
       "        3.78443271e-01, -1.07132569e-01, -5.33292413e-01,  5.79855815e-02,\n",
       "       -1.39859319e-01, -1.49674848e-01,  2.33713873e-02,  1.74294040e-01,\n",
       "       -2.89737344e-01,  1.05380036e-01, -4.69599627e-02, -7.78953433e-02,\n",
       "        3.04075688e-01, -4.45738256e-01,  4.07603290e-03,  2.00019285e-01,\n",
       "        3.24242800e-01,  1.46831810e-01, -5.52100800e-02, -3.61663610e-01,\n",
       "        1.37593910e-01, -1.05005488e-01,  1.64304733e-01, -1.35225534e-01,\n",
       "        6.79133773e-01,  3.96223545e-01,  2.03011185e-01, -2.19186302e-02,\n",
       "       -6.05245074e-03, -1.04733422e-01,  1.84962489e-02, -2.19413295e-01,\n",
       "       -2.00341672e-01,  3.50810826e-01,  2.31735513e-01, -2.76756614e-01,\n",
       "       -6.60285726e-02,  4.73754615e-01, -3.62555794e-02,  4.86645222e-01,\n",
       "       -2.37231538e-01,  5.38931452e-02, -1.37898013e-01,  2.13132635e-01,\n",
       "       -1.49714649e-01, -5.18482506e-01,  1.93779618e-01, -1.42705562e-02,\n",
       "       -1.48470223e-01,  2.52092838e-01,  2.42268518e-01, -2.47578204e-01,\n",
       "       -2.78838575e-01,  2.86740065e-01, -4.02102649e-01, -5.36110044e-01,\n",
       "        4.33049649e-02, -9.78403315e-02, -1.63547307e-01,  7.76127756e-01,\n",
       "       -2.08378062e-01, -1.15581430e-01,  1.51495084e-01, -1.07977323e-01,\n",
       "       -3.09752285e-01, -1.48965582e-01, -4.81330037e-01, -3.71182770e-01,\n",
       "       -2.65923925e-02, -1.20243736e-01,  3.70586693e-01,  2.62759149e-01,\n",
       "        2.84119129e-01, -4.24439430e-01, -8.34554851e-01, -1.15623921e-01,\n",
       "       -9.56114847e-03, -5.88834882e-02, -3.02499086e-01, -3.07083994e-01,\n",
       "       -3.06139830e-02, -9.11699384e-02,  3.66237253e-01, -1.30936103e-02,\n",
       "       -6.97744131e-01,  1.67256668e-01, -2.16240659e-01, -1.58643708e-01,\n",
       "        5.68187833e-01, -1.54423609e-01,  2.77354717e-01,  3.37334692e-01,\n",
       "       -1.23213662e-03,  1.29819773e-02, -3.79650384e-01,  1.87365249e-01,\n",
       "        1.48277760e-01, -2.84750342e-01, -1.02423795e-01,  2.43762150e-01,\n",
       "       -1.64518207e-01,  3.48172784e-01,  1.05589770e-01,  8.34821761e-02,\n",
       "        1.91232190e-01,  7.75694624e-02, -2.15370476e-01,  1.58620849e-01,\n",
       "        2.31576160e-01,  3.16751987e-01, -2.28661284e-01,  6.63444549e-02,\n",
       "        1.89033538e-01,  3.98409128e-01,  4.58166413e-02,  3.73742253e-01,\n",
       "       -2.59910524e-01,  2.99271226e-01,  1.38471991e-01, -1.76844478e-01,\n",
       "        6.37152605e-03, -1.56154141e-01, -1.02332734e-01, -4.14850950e-01,\n",
       "       -2.05255538e-01, -8.14544559e-02, -1.01188302e-01,  1.40775308e-01,\n",
       "        7.42916530e-03, -1.12316109e-01,  2.66187519e-01, -6.38155222e-01,\n",
       "       -3.44992787e-01, -1.65130168e-01, -1.32545203e-01, -2.30674833e-01,\n",
       "       -6.93779215e-02,  6.54885406e-03,  6.08536638e-02,  2.44905323e-01,\n",
       "       -7.18144298e-01, -4.04069014e-03, -2.53468573e-01, -1.26709089e-01,\n",
       "        4.69124436e-01, -6.25193715e-01, -1.48386359e-01,  5.79462759e-03,\n",
       "        8.87899280e-01, -1.74479127e-01,  1.75913945e-01,  8.24652240e-02,\n",
       "       -9.06420350e-02, -3.18795174e-01,  2.51516253e-01, -2.93415248e-01,\n",
       "        2.50126362e-01, -2.88496494e-01, -4.23840225e-01,  3.62685800e-01,\n",
       "        1.03529356e-01,  2.09542140e-01,  3.25785220e-01,  1.48158610e-01,\n",
       "       -2.63934344e-01, -1.39649631e-02, -8.27313811e-02, -6.96684301e-01,\n",
       "        3.20065469e-01, -8.17530036e-01, -8.18188190e-02,  3.15537959e-01,\n",
       "       -3.81263345e-01, -2.37444133e-01, -7.02238977e-02, -1.94386154e-01,\n",
       "        2.52485186e-01,  5.27257562e-01,  2.69325729e-02,  2.59417355e-01,\n",
       "        5.78602910e-01,  1.07263483e-01, -1.31680742e-01,  9.72016752e-02,\n",
       "        5.33688962e-01,  1.49385318e-01, -2.68097818e-01,  2.57729381e-01,\n",
       "        2.62609601e-01,  2.40951434e-01,  1.46558389e-01, -5.49647570e-01,\n",
       "        2.70662278e-01, -5.03941849e-02, -4.83719230e-01,  9.73937809e-02,\n",
       "        6.98442236e-02,  2.26460680e-01, -3.93544585e-02,  1.45498484e-01,\n",
       "        2.95645416e-01,  7.90522769e-02,  2.99220324e-01, -2.35358685e-01,\n",
       "        7.89692178e-02,  7.05908686e-02, -3.69034678e-01,  1.64665878e-01,\n",
       "       -1.79964066e-01,  4.05393243e-01,  1.54701561e-01, -2.95802742e-01,\n",
       "        7.38357827e-02,  6.49075136e-02,  2.23501518e-01,  6.83268253e-03,\n",
       "        2.06972063e-01,  2.72133887e-01,  2.27470323e-02,  3.12313531e-02,\n",
       "        1.66758791e-01,  1.31131634e-01,  5.57851903e-02, -1.50981307e-01,\n",
       "        1.79083109e-01,  6.34643137e-02, -4.08079848e-02,  4.55913514e-01],\n",
       "      dtype=float32)"
      ]
     },
     "execution_count": 32,
     "metadata": {},
     "output_type": "execute_result"
    }
   ],
   "source": [
    "w2v.wv['METHOD_NORMAL_EXIT']"
   ]
  },
  {
   "cell_type": "code",
   "execution_count": 33,
   "id": "blessed-imperial",
   "metadata": {},
   "outputs": [],
   "source": [
    "# for the sake of it\n",
    "vocab = list(w2v.wv.key_to_index)\n",
    "X = w2v.wv[vocab]"
   ]
  },
  {
   "cell_type": "code",
   "execution_count": 49,
   "id": "inappropriate-initial",
   "metadata": {},
   "outputs": [
    {
     "data": {
      "text/plain": [
       "'java.lang.String@3b588591:\"jsp\"'"
      ]
     },
     "execution_count": 49,
     "metadata": {},
     "output_type": "execute_result"
    }
   ],
   "source": [
    "vocab[799]"
   ]
  },
  {
   "cell_type": "code",
   "execution_count": 42,
   "id": "naked-species",
   "metadata": {},
   "outputs": [
    {
     "data": {
      "text/plain": [
       "(10000, 300)"
      ]
     },
     "execution_count": 42,
     "metadata": {},
     "output_type": "execute_result"
    }
   ],
   "source": [
    "X[0:10000].shape"
   ]
  },
  {
   "cell_type": "code",
   "execution_count": 43,
   "id": "uniform-seeking",
   "metadata": {},
   "outputs": [],
   "source": [
    "import umap\n",
    "vec_umap = umap.UMAP()\n",
    "X_umap = vec_umap.fit_transform(X[0:1000])\n"
   ]
  },
  {
   "cell_type": "code",
   "execution_count": 54,
   "id": "fiscal-tennessee",
   "metadata": {},
   "outputs": [
    {
     "data": {
      "text/plain": [
       "'LINE_NUMBER'"
      ]
     },
     "execution_count": 54,
     "metadata": {},
     "output_type": "execute_result"
    }
   ],
   "source": [
    "vocab[2]"
   ]
  },
  {
   "cell_type": "code",
   "execution_count": 67,
   "id": "objective-trigger",
   "metadata": {
    "scrolled": true
   },
   "outputs": [
    {
     "data": {
      "text/plain": [
       "'\\nnr = 1\\nadjust_text(texts, arrowprops=dict(arrowstyle=\\'->\\', color=\\'red\\'))\\nax.annotate(vocab[nr], xy=(X_umap.T[0][nr], X_umap.T[1][nr]), xytext=(X_umap.T[0][nr]+4, X_umap.T[1][nr] + 4),\\n            annotation_clip=False,\\n            arrowprops=dict(arrowstyle=\"->\",connectionstyle=\"angle3,angleA=0,angleB=-90\"));\\nnr = 2\\nax.annotate(vocab[nr], xy=(X_umap.T[0][nr], X_umap.T[1][nr]), xytext=(X_umap.T[0][nr]-7, X_umap.T[1][nr]+1),\\n            arrowprops=dict(arrowstyle=\"->\",connectionstyle=\"angle3,angleA=0,angleB=-90\"));\\nnr = 3\\nax.annotate(vocab[nr], xy=(X_umap.T[0][nr], X_umap.T[1][nr]), xytext=(X_umap.T[0][nr]-7, X_umap.T[1][nr]-2),\\n            arrowprops=dict(arrowstyle=\"->\",connectionstyle=\"angle3,angleA=0,angleB=-90\"));\\n'"
      ]
     },
     "execution_count": 67,
     "metadata": {},
     "output_type": "execute_result"
    },
    {
     "data": {
      "image/png": "[encoded data removed]",
      "text/plain": [
       "<Figure size 432x288 with 1 Axes>"
      ]
     },
     "metadata": {
      "needs_background": "light"
     },
     "output_type": "display_data"
    }
   ],
   "source": [
    "from adjustText import adjust_text\n",
    "# hmm, a Rorschach test\n",
    "# at least it turns out that CALL_RETURN and LABEL are more similar than 'Ljava/lang/Object;'\n",
    "fig, ax = plt.subplots()\n",
    "ax.scatter(X_umap.T[0],X_umap.T[1])\n",
    "\n",
    "texts = [plt.text(X_umap.T[0][nr], X_umap.T[1][nr], vocab[nr], ha='center', va='center') for nr in range(1,15)]\n",
    "adjust_text(texts, arrowprops=dict(arrowstyle='->', connectionstyle=\"angle3,angleA=0,angleB=-90\", color='red'))\n",
    "'''\n",
    "nr = 1\n",
    "adjust_text(texts, arrowprops=dict(arrowstyle='->', color='red'))\n",
    "ax.annotate(vocab[nr], xy=(X_umap.T[0][nr], X_umap.T[1][nr]), xytext=(X_umap.T[0][nr]+4, X_umap.T[1][nr] + 4),\n",
    "            annotation_clip=False,\n",
    "            arrowprops=dict(arrowstyle=\"->\",connectionstyle=\"angle3,angleA=0,angleB=-90\"));\n",
    "nr = 2\n",
    "ax.annotate(vocab[nr], xy=(X_umap.T[0][nr], X_umap.T[1][nr]), xytext=(X_umap.T[0][nr]-7, X_umap.T[1][nr]+1),\n",
    "            arrowprops=dict(arrowstyle=\"->\",connectionstyle=\"angle3,angleA=0,angleB=-90\"));\n",
    "nr = 3\n",
    "ax.annotate(vocab[nr], xy=(X_umap.T[0][nr], X_umap.T[1][nr]), xytext=(X_umap.T[0][nr]-7, X_umap.T[1][nr]-2),\n",
    "            arrowprops=dict(arrowstyle=\"->\",connectionstyle=\"angle3,angleA=0,angleB=-90\"));\n",
    "'''"
   ]
  },
  {
   "cell_type": "code",
   "execution_count": 69,
   "id": "cubic-secondary",
   "metadata": {},
   "outputs": [
    {
     "data": {
      "text/plain": [
       "('LABEL', 'CALL', 'CALL_RETURN', 'PUT_INSTANCE_FIELD')"
      ]
     },
     "execution_count": 69,
     "metadata": {},
     "output_type": "execute_result"
    }
   ],
   "source": [
    "# it appears I still have to do some cleansing, but it's getting better\n",
    "vocab[1], vocab[3], vocab[4], vocab[14]"
   ]
  },
  {
   "cell_type": "code",
   "execution_count": null,
   "id": "increased-transformation",
   "metadata": {},
   "outputs": [],
   "source": []
  },
  {
   "cell_type": "markdown",
   "id": "second-snake",
   "metadata": {},
   "source": [
    "### Just ignore everything below\n",
    "---------------- snip ---------------- snip ---------------- snip ----------------"
   ]
  },
  {
   "cell_type": "code",
   "execution_count": 21,
   "id": "automotive-relevance",
   "metadata": {},
   "outputs": [
    {
     "name": "stderr",
     "output_type": "stream",
     "text": [
      "/usr/lib/python3/dist-packages/ipykernel/ipkernel.py:283: DeprecationWarning: `should_run_async` will not call `transform_cell` automatically in the future. Please pass the result to `transformed_cell` argument and any exception that happen during thetransform in `preprocessing_exc_tuple` in IPython 7.17 and above.\n",
      "  and should_run_async(code)\n"
     ]
    },
    {
     "name": "stdout",
     "output_type": "stream",
     "text": [
      "2021-06-10T11:37:01.665 INFO gensim.corpora.dictionary.add_documents adding document #0 to Dictionary(0 unique tokens: [])\n",
      "2021-06-10T11:37:01.777 INFO gensim.corpora.dictionary.add_documents adding document #10000 to Dictionary(13948 unique tokens: ['', '-1', '0', 'RESERVED', 'V']...)\n",
      "2021-06-10T11:37:01.895 INFO gensim.corpora.dictionary.add_documents adding document #20000 to Dictionary(26873 unique tokens: ['', '-1', '0', 'RESERVED', 'V']...)\n",
      "2021-06-10T11:37:02.012 INFO gensim.corpora.dictionary.add_documents adding document #30000 to Dictionary(40009 unique tokens: ['', '-1', '0', 'RESERVED', 'V']...)\n",
      "2021-06-10T11:37:02.131 INFO gensim.corpora.dictionary.add_documents adding document #40000 to Dictionary(52744 unique tokens: ['', '-1', '0', 'RESERVED', 'V']...)\n",
      "2021-06-10T11:37:02.246 INFO gensim.corpora.dictionary.add_documents adding document #50000 to Dictionary(65611 unique tokens: ['', '-1', '0', 'RESERVED', 'V']...)\n",
      "2021-06-10T11:37:02.372 INFO gensim.corpora.dictionary.add_documents adding document #60000 to Dictionary(78377 unique tokens: ['', '-1', '0', 'RESERVED', 'V']...)\n",
      "2021-06-10T11:37:02.493 INFO gensim.corpora.dictionary.add_documents adding document #70000 to Dictionary(90913 unique tokens: ['', '-1', '0', 'RESERVED', 'V']...)\n",
      "2021-06-10T11:37:02.613 INFO gensim.corpora.dictionary.add_documents adding document #80000 to Dictionary(103367 unique tokens: ['', '-1', '0', 'RESERVED', 'V']...)\n",
      "2021-06-10T11:37:02.732 INFO gensim.corpora.dictionary.add_documents adding document #90000 to Dictionary(115987 unique tokens: ['', '-1', '0', 'RESERVED', 'V']...)\n",
      "2021-06-10T11:37:02.852 INFO gensim.corpora.dictionary.add_documents adding document #100000 to Dictionary(129052 unique tokens: ['', '-1', '0', 'RESERVED', 'V']...)\n",
      "2021-06-10T11:37:02.970 INFO gensim.corpora.dictionary.add_documents adding document #110000 to Dictionary(141840 unique tokens: ['', '-1', '0', 'RESERVED', 'V']...)\n",
      "2021-06-10T11:37:03.087 INFO gensim.corpora.dictionary.add_documents adding document #120000 to Dictionary(154567 unique tokens: ['', '-1', '0', 'RESERVED', 'V']...)\n",
      "2021-06-10T11:37:03.199 INFO gensim.corpora.dictionary.add_documents adding document #130000 to Dictionary(166995 unique tokens: ['', '-1', '0', 'RESERVED', 'V']...)\n",
      "2021-06-10T11:37:03.320 INFO gensim.corpora.dictionary.add_documents adding document #140000 to Dictionary(179385 unique tokens: ['', '-1', '0', 'RESERVED', 'V']...)\n",
      "2021-06-10T11:37:03.432 INFO gensim.corpora.dictionary.add_documents adding document #150000 to Dictionary(192248 unique tokens: ['', '-1', '0', 'RESERVED', 'V']...)\n",
      "2021-06-10T11:37:03.545 INFO gensim.corpora.dictionary.add_documents adding document #160000 to Dictionary(204649 unique tokens: ['', '-1', '0', 'RESERVED', 'V']...)\n",
      "2021-06-10T11:37:03.656 INFO gensim.corpora.dictionary.add_documents adding document #170000 to Dictionary(216860 unique tokens: ['', '-1', '0', 'RESERVED', 'V']...)\n",
      "2021-06-10T11:37:03.766 INFO gensim.corpora.dictionary.add_documents adding document #180000 to Dictionary(229141 unique tokens: ['', '-1', '0', 'RESERVED', 'V']...)\n",
      "2021-06-10T11:37:03.918 INFO gensim.corpora.dictionary.add_documents adding document #190000 to Dictionary(241504 unique tokens: ['', '-1', '0', 'RESERVED', 'V']...)\n",
      "2021-06-10T11:37:04.027 INFO gensim.corpora.dictionary.add_documents adding document #200000 to Dictionary(254063 unique tokens: ['', '-1', '0', 'RESERVED', 'V']...)\n",
      "2021-06-10T11:37:04.138 INFO gensim.corpora.dictionary.add_documents adding document #210000 to Dictionary(266839 unique tokens: ['', '-1', '0', 'RESERVED', 'V']...)\n",
      "2021-06-10T11:37:04.246 INFO gensim.corpora.dictionary.add_documents adding document #220000 to Dictionary(279072 unique tokens: ['', '-1', '0', 'RESERVED', 'V']...)\n",
      "2021-06-10T11:37:04.353 INFO gensim.corpora.dictionary.add_documents adding document #230000 to Dictionary(291448 unique tokens: ['', '-1', '0', 'RESERVED', 'V']...)\n",
      "2021-06-10T11:37:04.464 INFO gensim.corpora.dictionary.add_documents adding document #240000 to Dictionary(303860 unique tokens: ['', '-1', '0', 'RESERVED', 'V']...)\n",
      "2021-06-10T11:37:04.574 INFO gensim.corpora.dictionary.add_documents adding document #250000 to Dictionary(316278 unique tokens: ['', '-1', '0', 'RESERVED', 'V']...)\n",
      "2021-06-10T11:37:04.685 INFO gensim.corpora.dictionary.add_documents adding document #260000 to Dictionary(329112 unique tokens: ['', '-1', '0', 'RESERVED', 'V']...)\n",
      "2021-06-10T11:37:04.806 INFO gensim.corpora.dictionary.add_documents adding document #270000 to Dictionary(342286 unique tokens: ['', '-1', '0', 'RESERVED', 'V']...)\n",
      "2021-06-10T11:37:04.945 INFO gensim.corpora.dictionary.add_documents adding document #280000 to Dictionary(354761 unique tokens: ['', '-1', '0', 'RESERVED', 'V']...)\n",
      "2021-06-10T11:37:05.064 INFO gensim.corpora.dictionary.add_documents adding document #290000 to Dictionary(367457 unique tokens: ['', '-1', '0', 'RESERVED', 'V']...)\n",
      "2021-06-10T11:37:05.188 INFO gensim.corpora.dictionary.add_documents adding document #300000 to Dictionary(379807 unique tokens: ['', '-1', '0', 'RESERVED', 'V']...)\n",
      "2021-06-10T11:37:05.316 INFO gensim.corpora.dictionary.add_documents adding document #310000 to Dictionary(392422 unique tokens: ['', '-1', '0', 'RESERVED', 'V']...)\n",
      "2021-06-10T11:37:05.440 INFO gensim.corpora.dictionary.add_documents adding document #320000 to Dictionary(404777 unique tokens: ['', '-1', '0', 'RESERVED', 'V']...)\n",
      "2021-06-10T11:37:05.570 INFO gensim.corpora.dictionary.add_documents adding document #330000 to Dictionary(417516 unique tokens: ['', '-1', '0', 'RESERVED', 'V']...)\n",
      "2021-06-10T11:37:05.691 INFO gensim.corpora.dictionary.add_documents adding document #340000 to Dictionary(429939 unique tokens: ['', '-1', '0', 'RESERVED', 'V']...)\n",
      "2021-06-10T11:37:05.809 INFO gensim.corpora.dictionary.add_documents adding document #350000 to Dictionary(442218 unique tokens: ['', '-1', '0', 'RESERVED', 'V']...)\n",
      "2021-06-10T11:37:05.934 INFO gensim.corpora.dictionary.add_documents adding document #360000 to Dictionary(454845 unique tokens: ['', '-1', '0', 'RESERVED', 'V']...)\n",
      "2021-06-10T11:37:06.051 INFO gensim.corpora.dictionary.add_documents adding document #370000 to Dictionary(467334 unique tokens: ['', '-1', '0', 'RESERVED', 'V']...)\n",
      "2021-06-10T11:37:06.164 INFO gensim.corpora.dictionary.add_documents adding document #380000 to Dictionary(480025 unique tokens: ['', '-1', '0', 'RESERVED', 'V']...)\n",
      "2021-06-10T11:37:06.274 INFO gensim.corpora.dictionary.add_documents adding document #390000 to Dictionary(492651 unique tokens: ['', '-1', '0', 'RESERVED', 'V']...)\n",
      "2021-06-10T11:37:06.310 INFO gensim.corpora.dictionary.add_documents built Dictionary(496393 unique tokens: ['', '-1', '0', 'RESERVED', 'V']...) from 393013 documents (total 5109169 corpus positions)\n",
      "2021-06-10T11:37:06.310 INFO gensim.utils.add_lifecycle_event Dictionary lifecycle event {'msg': \"built Dictionary(496393 unique tokens: ['', '-1', '0', 'RESERVED', 'V']...) from 393013 documents (total 5109169 corpus positions)\", 'datetime': '2021-06-10T11:37:06.310575', 'gensim': '4.0.1', 'python': '3.9.5 (default, May 11 2021, 08:20:37) \\n[GCC 10.3.0]', 'platform': 'Linux-5.11.0-18-generic-x86_64-with-glibc2.33', 'event': 'created'}\n"
     ]
    }
   ],
   "source": [
    "from gensim.models import TfidfModel\n",
    "from gensim.corpora import Dictionary\n",
    "\n",
    "np_dataset = df.fillna('').values\n",
    "\n",
    "dct = Dictionary(np_dataset)\n",
    "\n"
   ]
  },
  {
   "cell_type": "code",
   "execution_count": 47,
   "id": "varying-there",
   "metadata": {},
   "outputs": [
    {
     "name": "stderr",
     "output_type": "stream",
     "text": [
      "/usr/lib/python3/dist-packages/ipykernel/ipkernel.py:283: DeprecationWarning: `should_run_async` will not call `transform_cell` automatically in the future. Please pass the result to `transformed_cell` argument and any exception that happen during thetransform in `preprocessing_exc_tuple` in IPython 7.17 and above.\n",
      "  and should_run_async(code)\n"
     ]
    },
    {
     "ename": "AttributeError",
     "evalue": "'TfidfModel' object has no attribute 'wv'",
     "output_type": "error",
     "traceback": [
      "\u001b[0;31m---------------------------------------------------------------------------\u001b[0m",
      "\u001b[0;31mAttributeError\u001b[0m                            Traceback (most recent call last)",
      "\u001b[0;32m<ipython-input-47-eafe1876b135>\u001b[0m in \u001b[0;36m<module>\u001b[0;34m\u001b[0m\n\u001b[0;32m----> 1\u001b[0;31m \u001b[0mmodel\u001b[0m\u001b[0;34m.\u001b[0m\u001b[0mwv\u001b[0m\u001b[0;34m\u001b[0m\u001b[0;34m\u001b[0m\u001b[0m\n\u001b[0m",
      "\u001b[0;31mAttributeError\u001b[0m: 'TfidfModel' object has no attribute 'wv'"
     ]
    }
   ],
   "source": [
    "model.wv"
   ]
  },
  {
   "cell_type": "code",
   "execution_count": 22,
   "id": "incorrect-alcohol",
   "metadata": {},
   "outputs": [
    {
     "name": "stderr",
     "output_type": "stream",
     "text": [
      "/usr/lib/python3/dist-packages/ipykernel/ipkernel.py:283: DeprecationWarning: `should_run_async` will not call `transform_cell` automatically in the future. Please pass the result to `transformed_cell` argument and any exception that happen during thetransform in `preprocessing_exc_tuple` in IPython 7.17 and above.\n",
      "  and should_run_async(code)\n"
     ]
    }
   ],
   "source": [
    "corpus = [dct.doc2bow(line) for line in np_dataset]"
   ]
  },
  {
   "cell_type": "code",
   "execution_count": 23,
   "id": "protecting-bidding",
   "metadata": {},
   "outputs": [
    {
     "name": "stdout",
     "output_type": "stream",
     "text": [
      "2021-06-10T11:37:32.567 INFO gensim.models.tfidfmodel.initialize collecting document frequencies\n",
      "2021-06-10T11:37:32.570 INFO gensim.models.tfidfmodel.initialize PROGRESS: processing document #0\n",
      "2021-06-10T11:37:32.606 INFO gensim.models.tfidfmodel.initialize PROGRESS: processing document #10000\n",
      "2021-06-10T11:37:32.627 INFO gensim.models.tfidfmodel.initialize PROGRESS: processing document #20000\n",
      "2021-06-10T11:37:32.645 INFO gensim.models.tfidfmodel.initialize PROGRESS: processing document #30000\n",
      "2021-06-10T11:37:32.662 INFO gensim.models.tfidfmodel.initialize PROGRESS: processing document #40000\n",
      "2021-06-10T11:37:32.675 INFO gensim.models.tfidfmodel.initialize PROGRESS: processing document #50000\n",
      "2021-06-10T11:37:32.690 INFO gensim.models.tfidfmodel.initialize PROGRESS: processing document #60000\n",
      "2021-06-10T11:37:32.703 INFO gensim.models.tfidfmodel.initialize PROGRESS: processing document #70000\n",
      "2021-06-10T11:37:32.716 INFO gensim.models.tfidfmodel.initialize PROGRESS: processing document #80000\n",
      "2021-06-10T11:37:32.729 INFO gensim.models.tfidfmodel.initialize PROGRESS: processing document #90000\n",
      "2021-06-10T11:37:32.742 INFO gensim.models.tfidfmodel.initialize PROGRESS: processing document #100000\n",
      "2021-06-10T11:37:32.757 INFO gensim.models.tfidfmodel.initialize PROGRESS: processing document #110000\n",
      "2021-06-10T11:37:32.770 INFO gensim.models.tfidfmodel.initialize PROGRESS: processing document #120000\n"
     ]
    },
    {
     "name": "stderr",
     "output_type": "stream",
     "text": [
      "/usr/lib/python3/dist-packages/ipykernel/ipkernel.py:283: DeprecationWarning: `should_run_async` will not call `transform_cell` automatically in the future. Please pass the result to `transformed_cell` argument and any exception that happen during thetransform in `preprocessing_exc_tuple` in IPython 7.17 and above.\n",
      "  and should_run_async(code)\n"
     ]
    },
    {
     "name": "stdout",
     "output_type": "stream",
     "text": [
      "2021-06-10T11:37:32.784 INFO gensim.models.tfidfmodel.initialize PROGRESS: processing document #130000\n",
      "2021-06-10T11:37:32.802 INFO gensim.models.tfidfmodel.initialize PROGRESS: processing document #140000\n",
      "2021-06-10T11:37:32.816 INFO gensim.models.tfidfmodel.initialize PROGRESS: processing document #150000\n",
      "2021-06-10T11:37:32.828 INFO gensim.models.tfidfmodel.initialize PROGRESS: processing document #160000\n",
      "2021-06-10T11:37:32.845 INFO gensim.models.tfidfmodel.initialize PROGRESS: processing document #170000\n",
      "2021-06-10T11:37:32.859 INFO gensim.models.tfidfmodel.initialize PROGRESS: processing document #180000\n",
      "2021-06-10T11:37:32.872 INFO gensim.models.tfidfmodel.initialize PROGRESS: processing document #190000\n",
      "2021-06-10T11:37:32.885 INFO gensim.models.tfidfmodel.initialize PROGRESS: processing document #200000\n",
      "2021-06-10T11:37:32.899 INFO gensim.models.tfidfmodel.initialize PROGRESS: processing document #210000\n",
      "2021-06-10T11:37:32.912 INFO gensim.models.tfidfmodel.initialize PROGRESS: processing document #220000\n",
      "2021-06-10T11:37:32.924 INFO gensim.models.tfidfmodel.initialize PROGRESS: processing document #230000\n",
      "2021-06-10T11:37:32.940 INFO gensim.models.tfidfmodel.initialize PROGRESS: processing document #240000\n",
      "2021-06-10T11:37:32.953 INFO gensim.models.tfidfmodel.initialize PROGRESS: processing document #250000\n",
      "2021-06-10T11:37:32.966 INFO gensim.models.tfidfmodel.initialize PROGRESS: processing document #260000\n",
      "2021-06-10T11:37:32.979 INFO gensim.models.tfidfmodel.initialize PROGRESS: processing document #270000\n",
      "2021-06-10T11:37:33.001 INFO gensim.models.tfidfmodel.initialize PROGRESS: processing document #280000\n",
      "2021-06-10T11:37:33.014 INFO gensim.models.tfidfmodel.initialize PROGRESS: processing document #290000\n",
      "2021-06-10T11:37:33.028 INFO gensim.models.tfidfmodel.initialize PROGRESS: processing document #300000\n",
      "2021-06-10T11:37:33.041 INFO gensim.models.tfidfmodel.initialize PROGRESS: processing document #310000\n",
      "2021-06-10T11:37:33.053 INFO gensim.models.tfidfmodel.initialize PROGRESS: processing document #320000\n",
      "2021-06-10T11:37:33.066 INFO gensim.models.tfidfmodel.initialize PROGRESS: processing document #330000\n",
      "2021-06-10T11:37:33.079 INFO gensim.models.tfidfmodel.initialize PROGRESS: processing document #340000\n",
      "2021-06-10T11:37:33.092 INFO gensim.models.tfidfmodel.initialize PROGRESS: processing document #350000\n",
      "2021-06-10T11:37:33.107 INFO gensim.models.tfidfmodel.initialize PROGRESS: processing document #360000\n",
      "2021-06-10T11:37:33.121 INFO gensim.models.tfidfmodel.initialize PROGRESS: processing document #370000\n",
      "2021-06-10T11:37:33.135 INFO gensim.models.tfidfmodel.initialize PROGRESS: processing document #380000\n",
      "2021-06-10T11:37:33.148 INFO gensim.models.tfidfmodel.initialize PROGRESS: processing document #390000\n",
      "2021-06-10T11:37:33.861 INFO gensim.utils.add_lifecycle_event TfidfModel lifecycle event {'msg': 'calculated IDF weights for 393013 documents and 496393 features (3996985 matrix non-zeros)', 'datetime': '2021-06-10T11:37:33.861192', 'gensim': '4.0.1', 'python': '3.9.5 (default, May 11 2021, 08:20:37) \\n[GCC 10.3.0]', 'platform': 'Linux-5.11.0-18-generic-x86_64-with-glibc2.33', 'event': 'initialize'}\n"
     ]
    }
   ],
   "source": [
    "model = TfidfModel(corpus)"
   ]
  },
  {
   "cell_type": "code",
   "execution_count": 28,
   "id": "middle-theme",
   "metadata": {},
   "outputs": [
    {
     "name": "stderr",
     "output_type": "stream",
     "text": [
      "/usr/lib/python3/dist-packages/ipykernel/ipkernel.py:283: DeprecationWarning: `should_run_async` will not call `transform_cell` automatically in the future. Please pass the result to `transformed_cell` argument and any exception that happen during thetransform in `preprocessing_exc_tuple` in IPython 7.17 and above.\n",
      "  and should_run_async(code)\n"
     ]
    },
    {
     "data": {
      "text/plain": [
       "array([['0', '0', '0', ..., '', '', ''],\n",
       "       ['1', '0', '0', ..., '', '', ''],\n",
       "       ['2', '0', '0', ..., '', '', ''],\n",
       "       ...,\n",
       "       ['393010', '663', '8562', ..., '', '', ''],\n",
       "       ['393011', '663', '8562', ..., '', '', ''],\n",
       "       ['393012', '663', '8562', ..., '', '', '']], dtype=object)"
      ]
     },
     "execution_count": 28,
     "metadata": {},
     "output_type": "execute_result"
    }
   ],
   "source": [
    "np_dataset"
   ]
  },
  {
   "cell_type": "code",
   "execution_count": 36,
   "id": "hawaiian-century",
   "metadata": {
    "scrolled": false
   },
   "outputs": [
    {
     "name": "stdout",
     "output_type": "stream",
     "text": [
      "2021-06-10T11:45:28.605 INFO gensim.models.word2vec.scan_vocab collecting all words and their counts\n",
      "2021-06-10T11:45:28.606 INFO gensim.models.word2vec._scan_vocab PROGRESS: at sentence #0, processed 0 words, keeping 0 word types\n",
      "2021-06-10T11:45:28.642 INFO gensim.models.word2vec._scan_vocab PROGRESS: at sentence #10000, processed 130000 words, keeping 13948 word types\n",
      "2021-06-10T11:45:28.665 INFO gensim.models.word2vec._scan_vocab PROGRESS: at sentence #20000, processed 260000 words, keeping 26873 word types\n",
      "2021-06-10T11:45:28.692 INFO gensim.models.word2vec._scan_vocab PROGRESS: at sentence #30000, processed 390000 words, keeping 40009 word types\n",
      "2021-06-10T11:45:28.719 INFO gensim.models.word2vec._scan_vocab PROGRESS: at sentence #40000, processed 520000 words, keeping 52744 word types\n",
      "2021-06-10T11:45:28.743 INFO gensim.models.word2vec._scan_vocab PROGRESS: at sentence #50000, processed 650000 words, keeping 65611 word types\n",
      "2021-06-10T11:45:28.769 INFO gensim.models.word2vec._scan_vocab PROGRESS: at sentence #60000, processed 780000 words, keeping 78377 word types\n",
      "2021-06-10T11:45:28.795 INFO gensim.models.word2vec._scan_vocab PROGRESS: at sentence #70000, processed 910000 words, keeping 90913 word types\n"
     ]
    },
    {
     "name": "stderr",
     "output_type": "stream",
     "text": [
      "/usr/lib/python3/dist-packages/ipykernel/ipkernel.py:283: DeprecationWarning: `should_run_async` will not call `transform_cell` automatically in the future. Please pass the result to `transformed_cell` argument and any exception that happen during thetransform in `preprocessing_exc_tuple` in IPython 7.17 and above.\n",
      "  and should_run_async(code)\n"
     ]
    },
    {
     "name": "stdout",
     "output_type": "stream",
     "text": [
      "2021-06-10T11:45:28.822 INFO gensim.models.word2vec._scan_vocab PROGRESS: at sentence #80000, processed 1040000 words, keeping 103367 word types\n",
      "2021-06-10T11:45:28.850 INFO gensim.models.word2vec._scan_vocab PROGRESS: at sentence #90000, processed 1170000 words, keeping 115987 word types\n",
      "2021-06-10T11:45:28.877 INFO gensim.models.word2vec._scan_vocab PROGRESS: at sentence #100000, processed 1300000 words, keeping 129052 word types\n",
      "2021-06-10T11:45:28.904 INFO gensim.models.word2vec._scan_vocab PROGRESS: at sentence #110000, processed 1430000 words, keeping 141840 word types\n",
      "2021-06-10T11:45:28.929 INFO gensim.models.word2vec._scan_vocab PROGRESS: at sentence #120000, processed 1560000 words, keeping 154567 word types\n",
      "2021-06-10T11:45:28.955 INFO gensim.models.word2vec._scan_vocab PROGRESS: at sentence #130000, processed 1690000 words, keeping 166995 word types\n",
      "2021-06-10T11:45:28.983 INFO gensim.models.word2vec._scan_vocab PROGRESS: at sentence #140000, processed 1820000 words, keeping 179385 word types\n",
      "2021-06-10T11:45:29.011 INFO gensim.models.word2vec._scan_vocab PROGRESS: at sentence #150000, processed 1950000 words, keeping 192248 word types\n",
      "2021-06-10T11:45:29.038 INFO gensim.models.word2vec._scan_vocab PROGRESS: at sentence #160000, processed 2080000 words, keeping 204649 word types\n",
      "2021-06-10T11:45:29.065 INFO gensim.models.word2vec._scan_vocab PROGRESS: at sentence #170000, processed 2210000 words, keeping 216860 word types\n",
      "2021-06-10T11:45:29.094 INFO gensim.models.word2vec._scan_vocab PROGRESS: at sentence #180000, processed 2340000 words, keeping 229141 word types\n",
      "2021-06-10T11:45:29.122 INFO gensim.models.word2vec._scan_vocab PROGRESS: at sentence #190000, processed 2470000 words, keeping 241504 word types\n",
      "2021-06-10T11:45:29.151 INFO gensim.models.word2vec._scan_vocab PROGRESS: at sentence #200000, processed 2600000 words, keeping 254063 word types\n",
      "2021-06-10T11:45:29.180 INFO gensim.models.word2vec._scan_vocab PROGRESS: at sentence #210000, processed 2730000 words, keeping 266839 word types\n",
      "2021-06-10T11:45:29.210 INFO gensim.models.word2vec._scan_vocab PROGRESS: at sentence #220000, processed 2860000 words, keeping 279072 word types\n",
      "2021-06-10T11:45:29.240 INFO gensim.models.word2vec._scan_vocab PROGRESS: at sentence #230000, processed 2990000 words, keeping 291448 word types\n",
      "2021-06-10T11:45:29.270 INFO gensim.models.word2vec._scan_vocab PROGRESS: at sentence #240000, processed 3120000 words, keeping 303860 word types\n",
      "2021-06-10T11:45:29.297 INFO gensim.models.word2vec._scan_vocab PROGRESS: at sentence #250000, processed 3250000 words, keeping 316278 word types\n",
      "2021-06-10T11:45:29.323 INFO gensim.models.word2vec._scan_vocab PROGRESS: at sentence #260000, processed 3380000 words, keeping 329112 word types\n",
      "2021-06-10T11:45:29.351 INFO gensim.models.word2vec._scan_vocab PROGRESS: at sentence #270000, processed 3510000 words, keeping 342286 word types\n",
      "2021-06-10T11:45:29.383 INFO gensim.models.word2vec._scan_vocab PROGRESS: at sentence #280000, processed 3640000 words, keeping 354761 word types\n",
      "2021-06-10T11:45:29.409 INFO gensim.models.word2vec._scan_vocab PROGRESS: at sentence #290000, processed 3770000 words, keeping 367457 word types\n",
      "2021-06-10T11:45:29.437 INFO gensim.models.word2vec._scan_vocab PROGRESS: at sentence #300000, processed 3900000 words, keeping 379807 word types\n",
      "2021-06-10T11:45:29.464 INFO gensim.models.word2vec._scan_vocab PROGRESS: at sentence #310000, processed 4030000 words, keeping 392422 word types\n",
      "2021-06-10T11:45:29.490 INFO gensim.models.word2vec._scan_vocab PROGRESS: at sentence #320000, processed 4160000 words, keeping 404777 word types\n",
      "2021-06-10T11:45:29.517 INFO gensim.models.word2vec._scan_vocab PROGRESS: at sentence #330000, processed 4290000 words, keeping 417516 word types\n",
      "2021-06-10T11:45:29.545 INFO gensim.models.word2vec._scan_vocab PROGRESS: at sentence #340000, processed 4420000 words, keeping 429939 word types\n",
      "2021-06-10T11:45:29.572 INFO gensim.models.word2vec._scan_vocab PROGRESS: at sentence #350000, processed 4550000 words, keeping 442218 word types\n",
      "2021-06-10T11:45:29.598 INFO gensim.models.word2vec._scan_vocab PROGRESS: at sentence #360000, processed 4680000 words, keeping 454845 word types\n",
      "2021-06-10T11:45:29.629 INFO gensim.models.word2vec._scan_vocab PROGRESS: at sentence #370000, processed 4810000 words, keeping 467334 word types\n",
      "2021-06-10T11:45:29.660 INFO gensim.models.word2vec._scan_vocab PROGRESS: at sentence #380000, processed 4940000 words, keeping 480025 word types\n",
      "2021-06-10T11:45:29.690 INFO gensim.models.word2vec._scan_vocab PROGRESS: at sentence #390000, processed 5070000 words, keeping 492651 word types\n",
      "2021-06-10T11:45:29.698 INFO gensim.models.word2vec.scan_vocab collected 496393 word types from a corpus of 5109169 raw words and 393013 sentences\n",
      "2021-06-10T11:45:29.699 INFO gensim.models.word2vec.prepare_vocab Creating a fresh vocabulary\n",
      "2021-06-10T11:45:31.004 INFO gensim.utils.add_lifecycle_event Word2Vec lifecycle event {'msg': 'effective_min_count=1 retains 496393 unique words (100.0%% of original 496393, drops 0)', 'datetime': '2021-06-10T11:45:31.004575', 'gensim': '4.0.1', 'python': '3.9.5 (default, May 11 2021, 08:20:37) \\n[GCC 10.3.0]', 'platform': 'Linux-5.11.0-18-generic-x86_64-with-glibc2.33', 'event': 'prepare_vocab'}\n",
      "2021-06-10T11:45:31.005 INFO gensim.utils.add_lifecycle_event Word2Vec lifecycle event {'msg': 'effective_min_count=1 leaves 5109169 word corpus (100.0%% of original 5109169, drops 0)', 'datetime': '2021-06-10T11:45:31.005235', 'gensim': '4.0.1', 'python': '3.9.5 (default, May 11 2021, 08:20:37) \\n[GCC 10.3.0]', 'platform': 'Linux-5.11.0-18-generic-x86_64-with-glibc2.33', 'event': 'prepare_vocab'}\n",
      "2021-06-10T11:45:33.048 INFO gensim.models.word2vec.prepare_vocab deleting the raw counts dictionary of 496393 items\n",
      "2021-06-10T11:45:33.057 INFO gensim.models.word2vec.prepare_vocab sample=0.001 downsamples 22 most-common words\n",
      "2021-06-10T11:45:33.057 INFO gensim.utils.add_lifecycle_event Word2Vec lifecycle event {'msg': 'downsampling leaves estimated 3234111.0934083103 word corpus (63.3%% of prior 5109169)', 'datetime': '2021-06-10T11:45:33.057592', 'gensim': '4.0.1', 'python': '3.9.5 (default, May 11 2021, 08:20:37) \\n[GCC 10.3.0]', 'platform': 'Linux-5.11.0-18-generic-x86_64-with-glibc2.33', 'event': 'prepare_vocab'}\n",
      "2021-06-10T11:45:36.422 INFO gensim.models.word2vec.estimate_memory estimated required memory for 496393 words and 100 dimensions: 645310900 bytes\n",
      "2021-06-10T11:45:36.423 INFO gensim.models.word2vec.init_weights resetting layer weights\n",
      "2021-06-10T11:45:36.743 INFO gensim.utils.add_lifecycle_event Word2Vec lifecycle event {'update': False, 'trim_rule': 'None', 'datetime': '2021-06-10T11:45:36.743060', 'gensim': '4.0.1', 'python': '3.9.5 (default, May 11 2021, 08:20:37) \\n[GCC 10.3.0]', 'platform': 'Linux-5.11.0-18-generic-x86_64-with-glibc2.33', 'event': 'build_vocab'}\n",
      "2021-06-10T11:45:36.743 INFO gensim.utils.add_lifecycle_event Word2Vec lifecycle event {'msg': 'training model with 3 workers on 496393 vocabulary and 100 features, using sg=0 hs=0 sample=0.001 negative=5 window=5', 'datetime': '2021-06-10T11:45:36.743984', 'gensim': '4.0.1', 'python': '3.9.5 (default, May 11 2021, 08:20:37) \\n[GCC 10.3.0]', 'platform': 'Linux-5.11.0-18-generic-x86_64-with-glibc2.33', 'event': 'train'}\n"
     ]
    },
    {
     "name": "stderr",
     "output_type": "stream",
     "text": [
      "Exception in thread Thread-9:\n",
      "Traceback (most recent call last):\n",
      "  File \"/usr/lib/python3.9/threading.py\", line 954, in _bootstrap_inner\n",
      "Exception in thread Thread-10:\n",
      "Traceback (most recent call last):\n",
      "  File \"/usr/lib/python3.9/threading.py\", line 954, in _bootstrap_inner\n",
      "Exception in thread Thread-11:\n",
      "Traceback (most recent call last):\n",
      "  File \"/usr/lib/python3.9/threading.py\", line 954, in _bootstrap_inner\n",
      "        self.run()\n",
      "self.run()\n",
      "  File \"/usr/lib/python3.9/threading.py\", line 892, in run\n",
      "  File \"/usr/lib/python3.9/threading.py\", line 892, in run\n",
      "        self._target(*self._args, **self._kwargs)\n",
      "  File \"/home/markus/.local/lib/python3.9/site-packages/gensim/models/word2vec.py\", line 1155, in _worker_loop\n",
      "    self.run()\n",
      "  File \"/usr/lib/python3.9/threading.py\", line 892, in run\n",
      "self._target(*self._args, **self._kwargs)\n",
      "    self._target(*self._args, **self._kwargs)\n",
      "  File \"/home/markus/.local/lib/python3.9/site-packages/gensim/models/word2vec.py\", line 1155, in _worker_loop\n",
      "  File \"/home/markus/.local/lib/python3.9/site-packages/gensim/models/word2vec.py\", line 1155, in _worker_loop\n",
      "        tally, raw_tally = self._do_train_job(data_iterable, alpha, thread_private_mem)\n",
      "  File \"/home/markus/.local/lib/python3.9/site-packages/gensim/models/word2vec.py\", line 946, in _do_train_job\n",
      "tally, raw_tally = self._do_train_job(data_iterable, alpha, thread_private_mem)\n",
      "  File \"/home/markus/.local/lib/python3.9/site-packages/gensim/models/word2vec.py\", line 946, in _do_train_job\n",
      "    tally, raw_tally = self._do_train_job(data_iterable, alpha, thread_private_mem)\n",
      "  File \"/home/markus/.local/lib/python3.9/site-packages/gensim/models/word2vec.py\", line 946, in _do_train_job\n",
      "    tally += train_batch_cbow(self, sentences, alpha, work, neu1, self.compute_loss)\n",
      "  File \"gensim/models/word2vec_inner.pyx\", line 638, in gensim.models.word2vec_inner.train_batch_cbow\n",
      "    tally += train_batch_cbow(self, sentences, alpha, work, neu1, self.compute_loss)\n",
      "  File \"gensim/models/word2vec_inner.pyx\", line 638, in gensim.models.word2vec_inner.train_batch_cbow\n",
      "    tally += train_batch_cbow(self, sentences, alpha, work, neu1, self.compute_loss)\n",
      "  File \"gensim/models/word2vec_inner.pyx\", line 638, in gensim.models.word2vec_inner.train_batch_cbow\n",
      "ValueError: The truth value of an array with more than one element is ambiguous. Use a.any() or a.all()\n",
      "ValueErrorValueError: The truth value of an array with more than one element is ambiguous. Use a.any() or a.all()\n",
      ": The truth value of an array with more than one element is ambiguous. Use a.any() or a.all()\n"
     ]
    },
    {
     "ename": "KeyboardInterrupt",
     "evalue": "",
     "output_type": "error",
     "traceback": [
      "\u001b[0;31m---------------------------------------------------------------------------\u001b[0m",
      "\u001b[0;31mKeyboardInterrupt\u001b[0m                         Traceback (most recent call last)",
      "\u001b[0;32m<ipython-input-36-0b3f2a4361a9>\u001b[0m in \u001b[0;36m<module>\u001b[0;34m\u001b[0m\n\u001b[1;32m      1\u001b[0m \u001b[0;32mfrom\u001b[0m \u001b[0mgensim\u001b[0m\u001b[0;34m.\u001b[0m\u001b[0mmodels\u001b[0m \u001b[0;32mimport\u001b[0m \u001b[0mWord2Vec\u001b[0m\u001b[0;34m,\u001b[0m \u001b[0mFastText\u001b[0m\u001b[0;34m\u001b[0m\u001b[0;34m\u001b[0m\u001b[0m\n\u001b[0;32m----> 2\u001b[0;31m \u001b[0mw2v\u001b[0m \u001b[0;34m=\u001b[0m \u001b[0mWord2Vec\u001b[0m\u001b[0;34m(\u001b[0m\u001b[0mnp_dataset\u001b[0m\u001b[0;34m,\u001b[0m \u001b[0mvector_size\u001b[0m\u001b[0;34m=\u001b[0m\u001b[0;36m100\u001b[0m\u001b[0;34m,\u001b[0m \u001b[0mwindow\u001b[0m\u001b[0;34m=\u001b[0m\u001b[0;36m5\u001b[0m\u001b[0;34m,\u001b[0m \u001b[0mmin_count\u001b[0m\u001b[0;34m=\u001b[0m\u001b[0;36m1\u001b[0m\u001b[0;34m)\u001b[0m \u001b[0;31m#, workers=4)\u001b[0m\u001b[0;34m\u001b[0m\u001b[0;34m\u001b[0m\u001b[0m\n\u001b[0m",
      "\u001b[0;32m~/.local/lib/python3.9/site-packages/gensim/models/word2vec.py\u001b[0m in \u001b[0;36m__init__\u001b[0;34m(self, sentences, corpus_file, vector_size, alpha, window, min_count, max_vocab_size, sample, seed, workers, min_alpha, sg, hs, negative, ns_exponent, cbow_mean, hashfxn, epochs, null_word, trim_rule, sorted_vocab, batch_words, compute_loss, callbacks, comment, max_final_vocab)\u001b[0m\n\u001b[1;32m    417\u001b[0m             \u001b[0mself\u001b[0m\u001b[0;34m.\u001b[0m\u001b[0m_check_corpus_sanity\u001b[0m\u001b[0;34m(\u001b[0m\u001b[0mcorpus_iterable\u001b[0m\u001b[0;34m=\u001b[0m\u001b[0mcorpus_iterable\u001b[0m\u001b[0;34m,\u001b[0m \u001b[0mcorpus_file\u001b[0m\u001b[0;34m=\u001b[0m\u001b[0mcorpus_file\u001b[0m\u001b[0;34m,\u001b[0m \u001b[0mpasses\u001b[0m\u001b[0;34m=\u001b[0m\u001b[0;34m(\u001b[0m\u001b[0mepochs\u001b[0m \u001b[0;34m+\u001b[0m \u001b[0;36m1\u001b[0m\u001b[0;34m)\u001b[0m\u001b[0;34m)\u001b[0m\u001b[0;34m\u001b[0m\u001b[0;34m\u001b[0m\u001b[0m\n\u001b[1;32m    418\u001b[0m             \u001b[0mself\u001b[0m\u001b[0;34m.\u001b[0m\u001b[0mbuild_vocab\u001b[0m\u001b[0;34m(\u001b[0m\u001b[0mcorpus_iterable\u001b[0m\u001b[0;34m=\u001b[0m\u001b[0mcorpus_iterable\u001b[0m\u001b[0;34m,\u001b[0m \u001b[0mcorpus_file\u001b[0m\u001b[0;34m=\u001b[0m\u001b[0mcorpus_file\u001b[0m\u001b[0;34m,\u001b[0m \u001b[0mtrim_rule\u001b[0m\u001b[0;34m=\u001b[0m\u001b[0mtrim_rule\u001b[0m\u001b[0;34m)\u001b[0m\u001b[0;34m\u001b[0m\u001b[0;34m\u001b[0m\u001b[0m\n\u001b[0;32m--> 419\u001b[0;31m             self.train(\n\u001b[0m\u001b[1;32m    420\u001b[0m                 \u001b[0mcorpus_iterable\u001b[0m\u001b[0;34m=\u001b[0m\u001b[0mcorpus_iterable\u001b[0m\u001b[0;34m,\u001b[0m \u001b[0mcorpus_file\u001b[0m\u001b[0;34m=\u001b[0m\u001b[0mcorpus_file\u001b[0m\u001b[0;34m,\u001b[0m \u001b[0mtotal_examples\u001b[0m\u001b[0;34m=\u001b[0m\u001b[0mself\u001b[0m\u001b[0;34m.\u001b[0m\u001b[0mcorpus_count\u001b[0m\u001b[0;34m,\u001b[0m\u001b[0;34m\u001b[0m\u001b[0;34m\u001b[0m\u001b[0m\n\u001b[1;32m    421\u001b[0m                 \u001b[0mtotal_words\u001b[0m\u001b[0;34m=\u001b[0m\u001b[0mself\u001b[0m\u001b[0;34m.\u001b[0m\u001b[0mcorpus_total_words\u001b[0m\u001b[0;34m,\u001b[0m \u001b[0mepochs\u001b[0m\u001b[0;34m=\u001b[0m\u001b[0mself\u001b[0m\u001b[0;34m.\u001b[0m\u001b[0mepochs\u001b[0m\u001b[0;34m,\u001b[0m \u001b[0mstart_alpha\u001b[0m\u001b[0;34m=\u001b[0m\u001b[0mself\u001b[0m\u001b[0;34m.\u001b[0m\u001b[0malpha\u001b[0m\u001b[0;34m,\u001b[0m\u001b[0;34m\u001b[0m\u001b[0;34m\u001b[0m\u001b[0m\n",
      "\u001b[0;32m~/.local/lib/python3.9/site-packages/gensim/models/word2vec.py\u001b[0m in \u001b[0;36mtrain\u001b[0;34m(self, corpus_iterable, corpus_file, total_examples, total_words, epochs, start_alpha, end_alpha, word_count, queue_factor, report_delay, compute_loss, callbacks, **kwargs)\u001b[0m\n\u001b[1;32m   1060\u001b[0m \u001b[0;34m\u001b[0m\u001b[0m\n\u001b[1;32m   1061\u001b[0m             \u001b[0;32mif\u001b[0m \u001b[0mcorpus_iterable\u001b[0m \u001b[0;32mis\u001b[0m \u001b[0;32mnot\u001b[0m \u001b[0;32mNone\u001b[0m\u001b[0;34m:\u001b[0m\u001b[0;34m\u001b[0m\u001b[0;34m\u001b[0m\u001b[0m\n\u001b[0;32m-> 1062\u001b[0;31m                 trained_word_count_epoch, raw_word_count_epoch, job_tally_epoch = self._train_epoch(\n\u001b[0m\u001b[1;32m   1063\u001b[0m                     \u001b[0mcorpus_iterable\u001b[0m\u001b[0;34m,\u001b[0m \u001b[0mcur_epoch\u001b[0m\u001b[0;34m=\u001b[0m\u001b[0mcur_epoch\u001b[0m\u001b[0;34m,\u001b[0m \u001b[0mtotal_examples\u001b[0m\u001b[0;34m=\u001b[0m\u001b[0mtotal_examples\u001b[0m\u001b[0;34m,\u001b[0m\u001b[0;34m\u001b[0m\u001b[0;34m\u001b[0m\u001b[0m\n\u001b[1;32m   1064\u001b[0m                     \u001b[0mtotal_words\u001b[0m\u001b[0;34m=\u001b[0m\u001b[0mtotal_words\u001b[0m\u001b[0;34m,\u001b[0m \u001b[0mqueue_factor\u001b[0m\u001b[0;34m=\u001b[0m\u001b[0mqueue_factor\u001b[0m\u001b[0;34m,\u001b[0m \u001b[0mreport_delay\u001b[0m\u001b[0;34m=\u001b[0m\u001b[0mreport_delay\u001b[0m\u001b[0;34m,\u001b[0m\u001b[0;34m\u001b[0m\u001b[0;34m\u001b[0m\u001b[0m\n",
      "\u001b[0;32m~/.local/lib/python3.9/site-packages/gensim/models/word2vec.py\u001b[0m in \u001b[0;36m_train_epoch\u001b[0;34m(self, data_iterable, cur_epoch, total_examples, total_words, queue_factor, report_delay, callbacks)\u001b[0m\n\u001b[1;32m   1421\u001b[0m             \u001b[0mthread\u001b[0m\u001b[0;34m.\u001b[0m\u001b[0mstart\u001b[0m\u001b[0;34m(\u001b[0m\u001b[0;34m)\u001b[0m\u001b[0;34m\u001b[0m\u001b[0;34m\u001b[0m\u001b[0m\n\u001b[1;32m   1422\u001b[0m \u001b[0;34m\u001b[0m\u001b[0m\n\u001b[0;32m-> 1423\u001b[0;31m         trained_word_count, raw_word_count, job_tally = self._log_epoch_progress(\n\u001b[0m\u001b[1;32m   1424\u001b[0m             \u001b[0mprogress_queue\u001b[0m\u001b[0;34m,\u001b[0m \u001b[0mjob_queue\u001b[0m\u001b[0;34m,\u001b[0m \u001b[0mcur_epoch\u001b[0m\u001b[0;34m=\u001b[0m\u001b[0mcur_epoch\u001b[0m\u001b[0;34m,\u001b[0m \u001b[0mtotal_examples\u001b[0m\u001b[0;34m=\u001b[0m\u001b[0mtotal_examples\u001b[0m\u001b[0;34m,\u001b[0m\u001b[0;34m\u001b[0m\u001b[0;34m\u001b[0m\u001b[0m\n\u001b[1;32m   1425\u001b[0m             \u001b[0mtotal_words\u001b[0m\u001b[0;34m=\u001b[0m\u001b[0mtotal_words\u001b[0m\u001b[0;34m,\u001b[0m \u001b[0mreport_delay\u001b[0m\u001b[0;34m=\u001b[0m\u001b[0mreport_delay\u001b[0m\u001b[0;34m,\u001b[0m \u001b[0mis_corpus_file_mode\u001b[0m\u001b[0;34m=\u001b[0m\u001b[0;32mFalse\u001b[0m\u001b[0;34m,\u001b[0m\u001b[0;34m\u001b[0m\u001b[0;34m\u001b[0m\u001b[0m\n",
      "\u001b[0;32m~/.local/lib/python3.9/site-packages/gensim/models/word2vec.py\u001b[0m in \u001b[0;36m_log_epoch_progress\u001b[0;34m(self, progress_queue, job_queue, cur_epoch, total_examples, total_words, report_delay, is_corpus_file_mode)\u001b[0m\n\u001b[1;32m   1276\u001b[0m \u001b[0;34m\u001b[0m\u001b[0m\n\u001b[1;32m   1277\u001b[0m         \u001b[0;32mwhile\u001b[0m \u001b[0munfinished_worker_count\u001b[0m \u001b[0;34m>\u001b[0m \u001b[0;36m0\u001b[0m\u001b[0;34m:\u001b[0m\u001b[0;34m\u001b[0m\u001b[0;34m\u001b[0m\u001b[0m\n\u001b[0;32m-> 1278\u001b[0;31m             \u001b[0mreport\u001b[0m \u001b[0;34m=\u001b[0m \u001b[0mprogress_queue\u001b[0m\u001b[0;34m.\u001b[0m\u001b[0mget\u001b[0m\u001b[0;34m(\u001b[0m\u001b[0;34m)\u001b[0m  \u001b[0;31m# blocks if workers too slow\u001b[0m\u001b[0;34m\u001b[0m\u001b[0;34m\u001b[0m\u001b[0m\n\u001b[0m\u001b[1;32m   1279\u001b[0m             \u001b[0;32mif\u001b[0m \u001b[0mreport\u001b[0m \u001b[0;32mis\u001b[0m \u001b[0;32mNone\u001b[0m\u001b[0;34m:\u001b[0m  \u001b[0;31m# a thread reporting that it finished\u001b[0m\u001b[0;34m\u001b[0m\u001b[0;34m\u001b[0m\u001b[0m\n\u001b[1;32m   1280\u001b[0m                 \u001b[0munfinished_worker_count\u001b[0m \u001b[0;34m-=\u001b[0m \u001b[0;36m1\u001b[0m\u001b[0;34m\u001b[0m\u001b[0;34m\u001b[0m\u001b[0m\n",
      "\u001b[0;32m/usr/lib/python3.9/queue.py\u001b[0m in \u001b[0;36mget\u001b[0;34m(self, block, timeout)\u001b[0m\n\u001b[1;32m    169\u001b[0m             \u001b[0;32melif\u001b[0m \u001b[0mtimeout\u001b[0m \u001b[0;32mis\u001b[0m \u001b[0;32mNone\u001b[0m\u001b[0;34m:\u001b[0m\u001b[0;34m\u001b[0m\u001b[0;34m\u001b[0m\u001b[0m\n\u001b[1;32m    170\u001b[0m                 \u001b[0;32mwhile\u001b[0m \u001b[0;32mnot\u001b[0m \u001b[0mself\u001b[0m\u001b[0;34m.\u001b[0m\u001b[0m_qsize\u001b[0m\u001b[0;34m(\u001b[0m\u001b[0;34m)\u001b[0m\u001b[0;34m:\u001b[0m\u001b[0;34m\u001b[0m\u001b[0;34m\u001b[0m\u001b[0m\n\u001b[0;32m--> 171\u001b[0;31m                     \u001b[0mself\u001b[0m\u001b[0;34m.\u001b[0m\u001b[0mnot_empty\u001b[0m\u001b[0;34m.\u001b[0m\u001b[0mwait\u001b[0m\u001b[0;34m(\u001b[0m\u001b[0;34m)\u001b[0m\u001b[0;34m\u001b[0m\u001b[0;34m\u001b[0m\u001b[0m\n\u001b[0m\u001b[1;32m    172\u001b[0m             \u001b[0;32melif\u001b[0m \u001b[0mtimeout\u001b[0m \u001b[0;34m<\u001b[0m \u001b[0;36m0\u001b[0m\u001b[0;34m:\u001b[0m\u001b[0;34m\u001b[0m\u001b[0;34m\u001b[0m\u001b[0m\n\u001b[1;32m    173\u001b[0m                 \u001b[0;32mraise\u001b[0m \u001b[0mValueError\u001b[0m\u001b[0;34m(\u001b[0m\u001b[0;34m\"'timeout' must be a non-negative number\"\u001b[0m\u001b[0;34m)\u001b[0m\u001b[0;34m\u001b[0m\u001b[0;34m\u001b[0m\u001b[0m\n",
      "\u001b[0;32m/usr/lib/python3.9/threading.py\u001b[0m in \u001b[0;36mwait\u001b[0;34m(self, timeout)\u001b[0m\n\u001b[1;32m    310\u001b[0m         \u001b[0;32mtry\u001b[0m\u001b[0;34m:\u001b[0m    \u001b[0;31m# restore state no matter what (e.g., KeyboardInterrupt)\u001b[0m\u001b[0;34m\u001b[0m\u001b[0;34m\u001b[0m\u001b[0m\n\u001b[1;32m    311\u001b[0m             \u001b[0;32mif\u001b[0m \u001b[0mtimeout\u001b[0m \u001b[0;32mis\u001b[0m \u001b[0;32mNone\u001b[0m\u001b[0;34m:\u001b[0m\u001b[0;34m\u001b[0m\u001b[0;34m\u001b[0m\u001b[0m\n\u001b[0;32m--> 312\u001b[0;31m                 \u001b[0mwaiter\u001b[0m\u001b[0;34m.\u001b[0m\u001b[0macquire\u001b[0m\u001b[0;34m(\u001b[0m\u001b[0;34m)\u001b[0m\u001b[0;34m\u001b[0m\u001b[0;34m\u001b[0m\u001b[0m\n\u001b[0m\u001b[1;32m    313\u001b[0m                 \u001b[0mgotit\u001b[0m \u001b[0;34m=\u001b[0m \u001b[0;32mTrue\u001b[0m\u001b[0;34m\u001b[0m\u001b[0;34m\u001b[0m\u001b[0m\n\u001b[1;32m    314\u001b[0m             \u001b[0;32melse\u001b[0m\u001b[0;34m:\u001b[0m\u001b[0;34m\u001b[0m\u001b[0;34m\u001b[0m\u001b[0m\n",
      "\u001b[0;31mKeyboardInterrupt\u001b[0m: "
     ]
    }
   ],
   "source": [
    "from gensim.models import Word2Vec, FastText\n",
    "w2v = Word2Vec(np_dataset, vector_size=100, window=5, min_count=1) #, workers=4)"
   ]
  },
  {
   "cell_type": "code",
   "execution_count": 25,
   "id": "bottom-volunteer",
   "metadata": {},
   "outputs": [
    {
     "name": "stderr",
     "output_type": "stream",
     "text": [
      "/usr/lib/python3/dist-packages/ipykernel/ipkernel.py:283: DeprecationWarning: `should_run_async` will not call `transform_cell` automatically in the future. Please pass the result to `transformed_cell` argument and any exception that happen during thetransform in `preprocessing_exc_tuple` in IPython 7.17 and above.\n",
      "  and should_run_async(code)\n"
     ]
    },
    {
     "data": {
      "text/plain": [
       "[(0, 0.003180367836896374),\n",
       " (1, 0.43117049283736947),\n",
       " (2, 0.47904036863255917),\n",
       " (3, 0.21558524641868473),\n",
       " (4, 0.10668838349680328),\n",
       " (5, 0.7257704919191865)]"
      ]
     },
     "execution_count": 25,
     "metadata": {},
     "output_type": "execute_result"
    }
   ],
   "source": [
    "vector"
   ]
  },
  {
   "cell_type": "code",
   "execution_count": 15,
   "id": "preceding-thumb",
   "metadata": {},
   "outputs": [
    {
     "name": "stdout",
     "output_type": "stream",
     "text": [
      "2021-06-10T11:14:30.127 INFO gensim.utils.add_lifecycle_event FastText lifecycle event {'params': 'FastText(vocab=0, vector_size=100, alpha=0.025)', 'datetime': '2021-06-10T11:14:30.127270', 'gensim': '4.0.1', 'python': '3.9.5 (default, May 11 2021, 08:20:37) \\n[GCC 10.3.0]', 'platform': 'Linux-5.11.0-18-generic-x86_64-with-glibc2.33', 'event': 'created'}\n"
     ]
    },
    {
     "name": "stderr",
     "output_type": "stream",
     "text": [
      "/usr/lib/python3/dist-packages/ipykernel/ipkernel.py:283: DeprecationWarning: `should_run_async` will not call `transform_cell` automatically in the future. Please pass the result to `transformed_cell` argument and any exception that happen during thetransform in `preprocessing_exc_tuple` in IPython 7.17 and above.\n",
      "  and should_run_async(code)\n"
     ]
    },
    {
     "ename": "TypeError",
     "evalue": "stat: path should be string, bytes, os.PathLike or integer, not DataFrame",
     "output_type": "error",
     "traceback": [
      "\u001b[0;31m---------------------------------------------------------------------------\u001b[0m",
      "\u001b[0;31mTypeError\u001b[0m                                 Traceback (most recent call last)",
      "\u001b[0;32m<ipython-input-15-fd0865ee3752>\u001b[0m in \u001b[0;36m<module>\u001b[0;34m\u001b[0m\n\u001b[1;32m      3\u001b[0m \u001b[0mmodel\u001b[0m \u001b[0;34m=\u001b[0m \u001b[0mFastText\u001b[0m\u001b[0;34m(\u001b[0m\u001b[0mvector_size\u001b[0m\u001b[0;34m=\u001b[0m\u001b[0;36m100\u001b[0m\u001b[0;34m)\u001b[0m\u001b[0;34m\u001b[0m\u001b[0;34m\u001b[0m\u001b[0m\n\u001b[1;32m      4\u001b[0m \u001b[0;34m\u001b[0m\u001b[0m\n\u001b[0;32m----> 5\u001b[0;31m \u001b[0mmodel\u001b[0m\u001b[0;34m.\u001b[0m\u001b[0mbuild_vocab\u001b[0m\u001b[0;34m(\u001b[0m\u001b[0mcorpus_file\u001b[0m\u001b[0;34m=\u001b[0m\u001b[0mdf\u001b[0m\u001b[0;34m)\u001b[0m\u001b[0;34m\u001b[0m\u001b[0;34m\u001b[0m\u001b[0m\n\u001b[0m",
      "\u001b[0;32m~/.local/lib/python3.9/site-packages/gensim/models/word2vec.py\u001b[0m in \u001b[0;36mbuild_vocab\u001b[0;34m(self, corpus_iterable, corpus_file, update, progress_per, keep_raw_vocab, trim_rule, **kwargs)\u001b[0m\n\u001b[1;32m    477\u001b[0m \u001b[0;34m\u001b[0m\u001b[0m\n\u001b[1;32m    478\u001b[0m         \"\"\"\n\u001b[0;32m--> 479\u001b[0;31m         \u001b[0mself\u001b[0m\u001b[0;34m.\u001b[0m\u001b[0m_check_corpus_sanity\u001b[0m\u001b[0;34m(\u001b[0m\u001b[0mcorpus_iterable\u001b[0m\u001b[0;34m=\u001b[0m\u001b[0mcorpus_iterable\u001b[0m\u001b[0;34m,\u001b[0m \u001b[0mcorpus_file\u001b[0m\u001b[0;34m=\u001b[0m\u001b[0mcorpus_file\u001b[0m\u001b[0;34m,\u001b[0m \u001b[0mpasses\u001b[0m\u001b[0;34m=\u001b[0m\u001b[0;36m1\u001b[0m\u001b[0;34m)\u001b[0m\u001b[0;34m\u001b[0m\u001b[0;34m\u001b[0m\u001b[0m\n\u001b[0m\u001b[1;32m    480\u001b[0m         total_words, corpus_count = self.scan_vocab(\n\u001b[1;32m    481\u001b[0m             corpus_iterable=corpus_iterable, corpus_file=corpus_file, progress_per=progress_per, trim_rule=trim_rule)\n",
      "\u001b[0;32m~/.local/lib/python3.9/site-packages/gensim/models/word2vec.py\u001b[0m in \u001b[0;36m_check_corpus_sanity\u001b[0;34m(self, corpus_iterable, corpus_file, passes)\u001b[0m\n\u001b[1;32m   1487\u001b[0m         \u001b[0;32mif\u001b[0m \u001b[0mcorpus_file\u001b[0m \u001b[0;32mis\u001b[0m \u001b[0;32mnot\u001b[0m \u001b[0;32mNone\u001b[0m \u001b[0;32mand\u001b[0m \u001b[0mcorpus_iterable\u001b[0m \u001b[0;32mis\u001b[0m \u001b[0;32mnot\u001b[0m \u001b[0;32mNone\u001b[0m\u001b[0;34m:\u001b[0m\u001b[0;34m\u001b[0m\u001b[0;34m\u001b[0m\u001b[0m\n\u001b[1;32m   1488\u001b[0m             \u001b[0;32mraise\u001b[0m \u001b[0mTypeError\u001b[0m\u001b[0;34m(\u001b[0m\u001b[0;34m\"Both corpus_file and corpus_iterable must not be provided at the same time\"\u001b[0m\u001b[0;34m)\u001b[0m\u001b[0;34m\u001b[0m\u001b[0;34m\u001b[0m\u001b[0m\n\u001b[0;32m-> 1489\u001b[0;31m         \u001b[0;32mif\u001b[0m \u001b[0mcorpus_iterable\u001b[0m \u001b[0;32mis\u001b[0m \u001b[0;32mNone\u001b[0m \u001b[0;32mand\u001b[0m \u001b[0;32mnot\u001b[0m \u001b[0mos\u001b[0m\u001b[0;34m.\u001b[0m\u001b[0mpath\u001b[0m\u001b[0;34m.\u001b[0m\u001b[0misfile\u001b[0m\u001b[0;34m(\u001b[0m\u001b[0mcorpus_file\u001b[0m\u001b[0;34m)\u001b[0m\u001b[0;34m:\u001b[0m\u001b[0;34m\u001b[0m\u001b[0;34m\u001b[0m\u001b[0m\n\u001b[0m\u001b[1;32m   1490\u001b[0m             \u001b[0;32mraise\u001b[0m \u001b[0mTypeError\u001b[0m\u001b[0;34m(\u001b[0m\u001b[0;34m\"Parameter corpus_file must be a valid path to a file, got %r instead\"\u001b[0m \u001b[0;34m%\u001b[0m \u001b[0mcorpus_file\u001b[0m\u001b[0;34m)\u001b[0m\u001b[0;34m\u001b[0m\u001b[0;34m\u001b[0m\u001b[0m\n\u001b[1;32m   1491\u001b[0m         \u001b[0;32mif\u001b[0m \u001b[0mcorpus_iterable\u001b[0m \u001b[0;32mis\u001b[0m \u001b[0;32mnot\u001b[0m \u001b[0;32mNone\u001b[0m \u001b[0;32mand\u001b[0m \u001b[0;32mnot\u001b[0m \u001b[0misinstance\u001b[0m\u001b[0;34m(\u001b[0m\u001b[0mcorpus_iterable\u001b[0m\u001b[0;34m,\u001b[0m \u001b[0mIterable\u001b[0m\u001b[0;34m)\u001b[0m\u001b[0;34m:\u001b[0m\u001b[0;34m\u001b[0m\u001b[0;34m\u001b[0m\u001b[0m\n",
      "\u001b[0;32m/usr/lib/python3.9/genericpath.py\u001b[0m in \u001b[0;36misfile\u001b[0;34m(path)\u001b[0m\n\u001b[1;32m     28\u001b[0m     \u001b[0;34m\"\"\"Test whether a path is a regular file\"\"\"\u001b[0m\u001b[0;34m\u001b[0m\u001b[0;34m\u001b[0m\u001b[0m\n\u001b[1;32m     29\u001b[0m     \u001b[0;32mtry\u001b[0m\u001b[0;34m:\u001b[0m\u001b[0;34m\u001b[0m\u001b[0;34m\u001b[0m\u001b[0m\n\u001b[0;32m---> 30\u001b[0;31m         \u001b[0mst\u001b[0m \u001b[0;34m=\u001b[0m \u001b[0mos\u001b[0m\u001b[0;34m.\u001b[0m\u001b[0mstat\u001b[0m\u001b[0;34m(\u001b[0m\u001b[0mpath\u001b[0m\u001b[0;34m)\u001b[0m\u001b[0;34m\u001b[0m\u001b[0;34m\u001b[0m\u001b[0m\n\u001b[0m\u001b[1;32m     31\u001b[0m     \u001b[0;32mexcept\u001b[0m \u001b[0;34m(\u001b[0m\u001b[0mOSError\u001b[0m\u001b[0;34m,\u001b[0m \u001b[0mValueError\u001b[0m\u001b[0;34m)\u001b[0m\u001b[0;34m:\u001b[0m\u001b[0;34m\u001b[0m\u001b[0;34m\u001b[0m\u001b[0m\n\u001b[1;32m     32\u001b[0m         \u001b[0;32mreturn\u001b[0m \u001b[0;32mFalse\u001b[0m\u001b[0;34m\u001b[0m\u001b[0;34m\u001b[0m\u001b[0m\n",
      "\u001b[0;31mTypeError\u001b[0m: stat: path should be string, bytes, os.PathLike or integer, not DataFrame"
     ]
    }
   ],
   "source": [
    "from gensim.models.fasttext import FastText\n",
    "\n",
    "model = FastText(vector_size=100)\n",
    "\n",
    "model.build_vocab(corpus_file=df)"
   ]
  },
  {
   "cell_type": "code",
   "execution_count": null,
   "id": "smart-service",
   "metadata": {},
   "outputs": [],
   "source": []
  },
  {
   "cell_type": "code",
   "execution_count": 15,
   "id": "wound-donna",
   "metadata": {},
   "outputs": [],
   "source": [
    "# deviceid 56851666-8346-32f0-bd8b-d77d82f63028\n",
    "# tag path ca3e/hvac/scrubbers/shx7/at702/eu\n",
    "#\n",
    "# \n",
    "df_raw = pd.read_csv('IOT_TAGDATA_TYPE_202106141954.csv', parse_dates=['RCV_TIMESTAMP_UTC'],\n",
    "                     infer_datetime_format=True)\n",
    "df_raw['RCV_TIMESTAMP_UTC'] = pd.to_datetime(df_raw['RCV_TIMESTAMP_UTC'], \n",
    "                                            format='%Y-%m-%d-%H.%M.%S.%f')\n",
    "df_raw = df_raw.sort_values('RCV_TIMESTAMP_UTC')\n",
    "df_i = df_raw.set_index(['DEVICEID','RCV_TIMESTAMP_UTC'])"
   ]
  },
  {
   "cell_type": "code",
   "execution_count": 16,
   "id": "recreational-alias",
   "metadata": {},
   "outputs": [
    {
     "data": {
      "text/html": [
       "<div>\n",
       "<style scoped>\n",
       "    .dataframe tbody tr th:only-of-type {\n",
       "        vertical-align: middle;\n",
       "    }\n",
       "\n",
       "    .dataframe tbody tr th {\n",
       "        vertical-align: top;\n",
       "    }\n",
       "\n",
       "    .dataframe thead th {\n",
       "        text-align: right;\n",
       "    }\n",
       "</style>\n",
       "<table border=\"1\" class=\"dataframe\">\n",
       "  <thead>\n",
       "    <tr style=\"text-align: right;\">\n",
       "      <th></th>\n",
       "      <th></th>\n",
       "      <th>TAGID</th>\n",
       "      <th>INTVALUE</th>\n",
       "      <th>FLOATVALUE</th>\n",
       "      <th>STRINGVALUE</th>\n",
       "      <th>DATEVALUE</th>\n",
       "      <th>EVT_NAME</th>\n",
       "      <th>DEVICETYPE</th>\n",
       "      <th>LOGICALINTERFACE_ID</th>\n",
       "      <th>EVENTTYPE</th>\n",
       "      <th>FORMAT</th>\n",
       "      <th>UPDATED_UTC</th>\n",
       "    </tr>\n",
       "    <tr>\n",
       "      <th>DEVICEID</th>\n",
       "      <th>RCV_TIMESTAMP_UTC</th>\n",
       "      <th></th>\n",
       "      <th></th>\n",
       "      <th></th>\n",
       "      <th></th>\n",
       "      <th></th>\n",
       "      <th></th>\n",
       "      <th></th>\n",
       "      <th></th>\n",
       "      <th></th>\n",
       "      <th></th>\n",
       "      <th></th>\n",
       "    </tr>\n",
       "  </thead>\n",
       "  <tbody>\n",
       "    <tr>\n",
       "      <th rowspan=\"11\" valign=\"top\">81bad898-7be1-37fb-ae0c-036d49cdcd1f</th>\n",
       "      <th>2021-05-01 00:04:47.568</th>\n",
       "      <td>639226</td>\n",
       "      <td>0</td>\n",
       "      <td>9.458341</td>\n",
       "      <td>NaN</td>\n",
       "      <td>NaN</td>\n",
       "      <td>eu</td>\n",
       "      <td>TagData_Type</td>\n",
       "      <td>NaN</td>\n",
       "      <td>device</td>\n",
       "      <td>JSON</td>\n",
       "      <td>2021-05-01-00.04.47.568000</td>\n",
       "    </tr>\n",
       "    <tr>\n",
       "      <th>2021-05-01 00:21:04.566</th>\n",
       "      <td>639226</td>\n",
       "      <td>0</td>\n",
       "      <td>9.204920</td>\n",
       "      <td>NaN</td>\n",
       "      <td>NaN</td>\n",
       "      <td>eu</td>\n",
       "      <td>TagData_Type</td>\n",
       "      <td>NaN</td>\n",
       "      <td>device</td>\n",
       "      <td>JSON</td>\n",
       "      <td>2021-05-01-00.21.04.566000</td>\n",
       "    </tr>\n",
       "    <tr>\n",
       "      <th>2021-05-01 00:45:33.567</th>\n",
       "      <td>639226</td>\n",
       "      <td>0</td>\n",
       "      <td>8.787249</td>\n",
       "      <td>NaN</td>\n",
       "      <td>NaN</td>\n",
       "      <td>eu</td>\n",
       "      <td>TagData_Type</td>\n",
       "      <td>NaN</td>\n",
       "      <td>device</td>\n",
       "      <td>JSON</td>\n",
       "      <td>2021-05-01-00.45.33.567000</td>\n",
       "    </tr>\n",
       "    <tr>\n",
       "      <th>2021-05-01 00:48:09.570</th>\n",
       "      <td>639226</td>\n",
       "      <td>0</td>\n",
       "      <td>9.250445</td>\n",
       "      <td>NaN</td>\n",
       "      <td>NaN</td>\n",
       "      <td>eu</td>\n",
       "      <td>TagData_Type</td>\n",
       "      <td>NaN</td>\n",
       "      <td>device</td>\n",
       "      <td>JSON</td>\n",
       "      <td>2021-05-01-00.48.09.570000</td>\n",
       "    </tr>\n",
       "    <tr>\n",
       "      <th>2021-05-01 00:50:33.567</th>\n",
       "      <td>639226</td>\n",
       "      <td>0</td>\n",
       "      <td>9.475152</td>\n",
       "      <td>NaN</td>\n",
       "      <td>NaN</td>\n",
       "      <td>eu</td>\n",
       "      <td>TagData_Type</td>\n",
       "      <td>NaN</td>\n",
       "      <td>device</td>\n",
       "      <td>JSON</td>\n",
       "      <td>2021-05-01-00.50.33.567000</td>\n",
       "    </tr>\n",
       "    <tr>\n",
       "      <th>...</th>\n",
       "      <td>...</td>\n",
       "      <td>...</td>\n",
       "      <td>...</td>\n",
       "      <td>...</td>\n",
       "      <td>...</td>\n",
       "      <td>...</td>\n",
       "      <td>...</td>\n",
       "      <td>...</td>\n",
       "      <td>...</td>\n",
       "      <td>...</td>\n",
       "      <td>...</td>\n",
       "    </tr>\n",
       "    <tr>\n",
       "      <th>2021-05-25 03:31:51.530</th>\n",
       "      <td>639226</td>\n",
       "      <td>0</td>\n",
       "      <td>9.080981</td>\n",
       "      <td>NaN</td>\n",
       "      <td>NaN</td>\n",
       "      <td>eu</td>\n",
       "      <td>TagData_Type</td>\n",
       "      <td>NaN</td>\n",
       "      <td>device</td>\n",
       "      <td>JSON</td>\n",
       "      <td>2021-05-25-03.31.51.530000</td>\n",
       "    </tr>\n",
       "    <tr>\n",
       "      <th>2021-05-25 03:49:45.533</th>\n",
       "      <td>639226</td>\n",
       "      <td>0</td>\n",
       "      <td>8.928329</td>\n",
       "      <td>NaN</td>\n",
       "      <td>NaN</td>\n",
       "      <td>eu</td>\n",
       "      <td>TagData_Type</td>\n",
       "      <td>NaN</td>\n",
       "      <td>device</td>\n",
       "      <td>JSON</td>\n",
       "      <td>2021-05-25-03.49.45.533000</td>\n",
       "    </tr>\n",
       "    <tr>\n",
       "      <th>2021-05-25 03:55:33.534</th>\n",
       "      <td>639226</td>\n",
       "      <td>0</td>\n",
       "      <td>8.917723</td>\n",
       "      <td>NaN</td>\n",
       "      <td>NaN</td>\n",
       "      <td>eu</td>\n",
       "      <td>TagData_Type</td>\n",
       "      <td>NaN</td>\n",
       "      <td>device</td>\n",
       "      <td>JSON</td>\n",
       "      <td>2021-05-25-03.55.33.534000</td>\n",
       "    </tr>\n",
       "    <tr>\n",
       "      <th>2021-05-25 03:59:07.533</th>\n",
       "      <td>639226</td>\n",
       "      <td>0</td>\n",
       "      <td>9.179816</td>\n",
       "      <td>NaN</td>\n",
       "      <td>NaN</td>\n",
       "      <td>eu</td>\n",
       "      <td>TagData_Type</td>\n",
       "      <td>NaN</td>\n",
       "      <td>device</td>\n",
       "      <td>JSON</td>\n",
       "      <td>2021-05-25-03.59.07.533000</td>\n",
       "    </tr>\n",
       "    <tr>\n",
       "      <th>2021-05-25 04:07:52.534</th>\n",
       "      <td>639226</td>\n",
       "      <td>0</td>\n",
       "      <td>9.195967</td>\n",
       "      <td>NaN</td>\n",
       "      <td>NaN</td>\n",
       "      <td>eu</td>\n",
       "      <td>TagData_Type</td>\n",
       "      <td>NaN</td>\n",
       "      <td>device</td>\n",
       "      <td>JSON</td>\n",
       "      <td>2021-05-25-04.07.52.534000</td>\n",
       "    </tr>\n",
       "  </tbody>\n",
       "</table>\n",
       "<p>3714 rows × 11 columns</p>\n",
       "</div>"
      ],
      "text/plain": [
       "                                                               TAGID  \\\n",
       "DEVICEID                             RCV_TIMESTAMP_UTC                 \n",
       "81bad898-7be1-37fb-ae0c-036d49cdcd1f 2021-05-01 00:04:47.568  639226   \n",
       "                                     2021-05-01 00:21:04.566  639226   \n",
       "                                     2021-05-01 00:45:33.567  639226   \n",
       "                                     2021-05-01 00:48:09.570  639226   \n",
       "                                     2021-05-01 00:50:33.567  639226   \n",
       "...                                                              ...   \n",
       "                                     2021-05-25 03:31:51.530  639226   \n",
       "                                     2021-05-25 03:49:45.533  639226   \n",
       "                                     2021-05-25 03:55:33.534  639226   \n",
       "                                     2021-05-25 03:59:07.533  639226   \n",
       "                                     2021-05-25 04:07:52.534  639226   \n",
       "\n",
       "                                                              INTVALUE  \\\n",
       "DEVICEID                             RCV_TIMESTAMP_UTC                   \n",
       "81bad898-7be1-37fb-ae0c-036d49cdcd1f 2021-05-01 00:04:47.568         0   \n",
       "                                     2021-05-01 00:21:04.566         0   \n",
       "                                     2021-05-01 00:45:33.567         0   \n",
       "                                     2021-05-01 00:48:09.570         0   \n",
       "                                     2021-05-01 00:50:33.567         0   \n",
       "...                                                                ...   \n",
       "                                     2021-05-25 03:31:51.530         0   \n",
       "                                     2021-05-25 03:49:45.533         0   \n",
       "                                     2021-05-25 03:55:33.534         0   \n",
       "                                     2021-05-25 03:59:07.533         0   \n",
       "                                     2021-05-25 04:07:52.534         0   \n",
       "\n",
       "                                                              FLOATVALUE  \\\n",
       "DEVICEID                             RCV_TIMESTAMP_UTC                     \n",
       "81bad898-7be1-37fb-ae0c-036d49cdcd1f 2021-05-01 00:04:47.568    9.458341   \n",
       "                                     2021-05-01 00:21:04.566    9.204920   \n",
       "                                     2021-05-01 00:45:33.567    8.787249   \n",
       "                                     2021-05-01 00:48:09.570    9.250445   \n",
       "                                     2021-05-01 00:50:33.567    9.475152   \n",
       "...                                                                  ...   \n",
       "                                     2021-05-25 03:31:51.530    9.080981   \n",
       "                                     2021-05-25 03:49:45.533    8.928329   \n",
       "                                     2021-05-25 03:55:33.534    8.917723   \n",
       "                                     2021-05-25 03:59:07.533    9.179816   \n",
       "                                     2021-05-25 04:07:52.534    9.195967   \n",
       "\n",
       "                                                              STRINGVALUE  \\\n",
       "DEVICEID                             RCV_TIMESTAMP_UTC                      \n",
       "81bad898-7be1-37fb-ae0c-036d49cdcd1f 2021-05-01 00:04:47.568          NaN   \n",
       "                                     2021-05-01 00:21:04.566          NaN   \n",
       "                                     2021-05-01 00:45:33.567          NaN   \n",
       "                                     2021-05-01 00:48:09.570          NaN   \n",
       "                                     2021-05-01 00:50:33.567          NaN   \n",
       "...                                                                   ...   \n",
       "                                     2021-05-25 03:31:51.530          NaN   \n",
       "                                     2021-05-25 03:49:45.533          NaN   \n",
       "                                     2021-05-25 03:55:33.534          NaN   \n",
       "                                     2021-05-25 03:59:07.533          NaN   \n",
       "                                     2021-05-25 04:07:52.534          NaN   \n",
       "\n",
       "                                                              DATEVALUE  \\\n",
       "DEVICEID                             RCV_TIMESTAMP_UTC                    \n",
       "81bad898-7be1-37fb-ae0c-036d49cdcd1f 2021-05-01 00:04:47.568        NaN   \n",
       "                                     2021-05-01 00:21:04.566        NaN   \n",
       "                                     2021-05-01 00:45:33.567        NaN   \n",
       "                                     2021-05-01 00:48:09.570        NaN   \n",
       "                                     2021-05-01 00:50:33.567        NaN   \n",
       "...                                                                 ...   \n",
       "                                     2021-05-25 03:31:51.530        NaN   \n",
       "                                     2021-05-25 03:49:45.533        NaN   \n",
       "                                     2021-05-25 03:55:33.534        NaN   \n",
       "                                     2021-05-25 03:59:07.533        NaN   \n",
       "                                     2021-05-25 04:07:52.534        NaN   \n",
       "\n",
       "                                                             EVT_NAME  \\\n",
       "DEVICEID                             RCV_TIMESTAMP_UTC                  \n",
       "81bad898-7be1-37fb-ae0c-036d49cdcd1f 2021-05-01 00:04:47.568       eu   \n",
       "                                     2021-05-01 00:21:04.566       eu   \n",
       "                                     2021-05-01 00:45:33.567       eu   \n",
       "                                     2021-05-01 00:48:09.570       eu   \n",
       "                                     2021-05-01 00:50:33.567       eu   \n",
       "...                                                               ...   \n",
       "                                     2021-05-25 03:31:51.530       eu   \n",
       "                                     2021-05-25 03:49:45.533       eu   \n",
       "                                     2021-05-25 03:55:33.534       eu   \n",
       "                                     2021-05-25 03:59:07.533       eu   \n",
       "                                     2021-05-25 04:07:52.534       eu   \n",
       "\n",
       "                                                                DEVICETYPE  \\\n",
       "DEVICEID                             RCV_TIMESTAMP_UTC                       \n",
       "81bad898-7be1-37fb-ae0c-036d49cdcd1f 2021-05-01 00:04:47.568  TagData_Type   \n",
       "                                     2021-05-01 00:21:04.566  TagData_Type   \n",
       "                                     2021-05-01 00:45:33.567  TagData_Type   \n",
       "                                     2021-05-01 00:48:09.570  TagData_Type   \n",
       "                                     2021-05-01 00:50:33.567  TagData_Type   \n",
       "...                                                                    ...   \n",
       "                                     2021-05-25 03:31:51.530  TagData_Type   \n",
       "                                     2021-05-25 03:49:45.533  TagData_Type   \n",
       "                                     2021-05-25 03:55:33.534  TagData_Type   \n",
       "                                     2021-05-25 03:59:07.533  TagData_Type   \n",
       "                                     2021-05-25 04:07:52.534  TagData_Type   \n",
       "\n",
       "                                                              LOGICALINTERFACE_ID  \\\n",
       "DEVICEID                             RCV_TIMESTAMP_UTC                              \n",
       "81bad898-7be1-37fb-ae0c-036d49cdcd1f 2021-05-01 00:04:47.568                  NaN   \n",
       "                                     2021-05-01 00:21:04.566                  NaN   \n",
       "                                     2021-05-01 00:45:33.567                  NaN   \n",
       "                                     2021-05-01 00:48:09.570                  NaN   \n",
       "                                     2021-05-01 00:50:33.567                  NaN   \n",
       "...                                                                           ...   \n",
       "                                     2021-05-25 03:31:51.530                  NaN   \n",
       "                                     2021-05-25 03:49:45.533                  NaN   \n",
       "                                     2021-05-25 03:55:33.534                  NaN   \n",
       "                                     2021-05-25 03:59:07.533                  NaN   \n",
       "                                     2021-05-25 04:07:52.534                  NaN   \n",
       "\n",
       "                                                             EVENTTYPE FORMAT  \\\n",
       "DEVICEID                             RCV_TIMESTAMP_UTC                          \n",
       "81bad898-7be1-37fb-ae0c-036d49cdcd1f 2021-05-01 00:04:47.568    device   JSON   \n",
       "                                     2021-05-01 00:21:04.566    device   JSON   \n",
       "                                     2021-05-01 00:45:33.567    device   JSON   \n",
       "                                     2021-05-01 00:48:09.570    device   JSON   \n",
       "                                     2021-05-01 00:50:33.567    device   JSON   \n",
       "...                                                                ...    ...   \n",
       "                                     2021-05-25 03:31:51.530    device   JSON   \n",
       "                                     2021-05-25 03:49:45.533    device   JSON   \n",
       "                                     2021-05-25 03:55:33.534    device   JSON   \n",
       "                                     2021-05-25 03:59:07.533    device   JSON   \n",
       "                                     2021-05-25 04:07:52.534    device   JSON   \n",
       "\n",
       "                                                                             UPDATED_UTC  \n",
       "DEVICEID                             RCV_TIMESTAMP_UTC                                    \n",
       "81bad898-7be1-37fb-ae0c-036d49cdcd1f 2021-05-01 00:04:47.568  2021-05-01-00.04.47.568000  \n",
       "                                     2021-05-01 00:21:04.566  2021-05-01-00.21.04.566000  \n",
       "                                     2021-05-01 00:45:33.567  2021-05-01-00.45.33.567000  \n",
       "                                     2021-05-01 00:48:09.570  2021-05-01-00.48.09.570000  \n",
       "                                     2021-05-01 00:50:33.567  2021-05-01-00.50.33.567000  \n",
       "...                                                                                  ...  \n",
       "                                     2021-05-25 03:31:51.530  2021-05-25-03.31.51.530000  \n",
       "                                     2021-05-25 03:49:45.533  2021-05-25-03.49.45.533000  \n",
       "                                     2021-05-25 03:55:33.534  2021-05-25-03.55.33.534000  \n",
       "                                     2021-05-25 03:59:07.533  2021-05-25-03.59.07.533000  \n",
       "                                     2021-05-25 04:07:52.534  2021-05-25-04.07.52.534000  \n",
       "\n",
       "[3714 rows x 11 columns]"
      ]
     },
     "execution_count": 16,
     "metadata": {},
     "output_type": "execute_result"
    }
   ],
   "source": [
    "df_i"
   ]
  },
  {
   "cell_type": "code",
   "execution_count": 17,
   "id": "qualified-raleigh",
   "metadata": {},
   "outputs": [
    {
     "name": "stdout",
     "output_type": "stream",
     "text": [
      "2021-06-14T22:38:15.456 WARNING iotfunctions.metadata.__init__ Created a logical entity type. It is not connected to a real database table, so it cannot perform any database operations.\n"
     ]
    }
   ],
   "source": [
    "jobsettings = { 'db': db, \n",
    "               '_db_schema': 'public', 'save_trace_to_file' : True}\n",
    "\n",
    "Temperature = 'FLOATVALUE'\n",
    "spectral = 'Temperature' + '_spectral'\n",
    "spectralinv = 'Temperature' + '_spectralinv'\n",
    "\n",
    "spsi = SpectralAnomalyScoreExt(Temperature, 12, spectral, spectralinv)\n",
    "et = spsi._build_entity_type(columns = [Column(Temperature,Float())], **jobsettings)\n",
    "spsi._entity_type = et\n",
    "df_i = spsi.execute(df=df_i)\n"
   ]
  },
  {
   "cell_type": "code",
   "execution_count": 18,
   "id": "acceptable-gothic",
   "metadata": {},
   "outputs": [
    {
     "name": "stdout",
     "output_type": "stream",
     "text": [
      "2021-06-14T22:38:16.542 INFO mmfunctions.anomaly.__init__ RobustThreshold from FLOATVALUE quantile threshold 0.95 exceeding boolean Temperature_threshold\n",
      "2021-06-14T22:38:16.545 WARNING iotfunctions.metadata.__init__ Created a logical entity type. It is not connected to a real database table, so it cannot perform any database operations.\n",
      "2021-06-14T22:38:16.557 INFO iotfunctions.dbtables.retrieve_model Model model.TEST_ENTITY_FOR_ROBUSTTHRESHOLD.SupervisedLearningTransformer.Temperature_threshold.81bad898-7be1-37fb-ae0c-036d49cdcd1f of size 66646 bytes has been retrieved from filesystem\n",
      "2021-06-14T22:38:16.559 INFO mmfunctions.anomaly.load_model load model <mmfunctions.anomaly.KDEMaxMin object at 0x7f8567241f40>\n"
     ]
    }
   ],
   "source": [
    "from mmfunctions.anomaly import RobustThreshold\n",
    "rbi_val = 'Temperature' + '_threshold'\n",
    "\n",
    "rbi = RobustThreshold(Temperature, 0.95, rbi_val)\n",
    "et = rbi._build_entity_type(columns = [Column(Temperature,Float())], **jobsettings)\n",
    "rbi._entity_type = et\n",
    "df_i = rbi.execute(df=df_i)"
   ]
  },
  {
   "cell_type": "code",
   "execution_count": 19,
   "id": "balanced-highlight",
   "metadata": {},
   "outputs": [
    {
     "data": {
      "text/html": [
       "<div>\n",
       "<style scoped>\n",
       "    .dataframe tbody tr th:only-of-type {\n",
       "        vertical-align: middle;\n",
       "    }\n",
       "\n",
       "    .dataframe tbody tr th {\n",
       "        vertical-align: top;\n",
       "    }\n",
       "\n",
       "    .dataframe thead th {\n",
       "        text-align: right;\n",
       "    }\n",
       "</style>\n",
       "<table border=\"1\" class=\"dataframe\">\n",
       "  <thead>\n",
       "    <tr style=\"text-align: right;\">\n",
       "      <th></th>\n",
       "      <th>DEVICEID</th>\n",
       "      <th>RCV_TIMESTAMP_UTC</th>\n",
       "      <th>TAGID</th>\n",
       "      <th>INTVALUE</th>\n",
       "      <th>FLOATVALUE</th>\n",
       "      <th>STRINGVALUE</th>\n",
       "      <th>DATEVALUE</th>\n",
       "      <th>EVT_NAME</th>\n",
       "      <th>DEVICETYPE</th>\n",
       "      <th>LOGICALINTERFACE_ID</th>\n",
       "      <th>EVENTTYPE</th>\n",
       "      <th>FORMAT</th>\n",
       "      <th>UPDATED_UTC</th>\n",
       "      <th>Temperature_spectral</th>\n",
       "      <th>Temperature_spectralinv</th>\n",
       "      <th>Temperature_threshold</th>\n",
       "    </tr>\n",
       "  </thead>\n",
       "  <tbody>\n",
       "    <tr>\n",
       "      <th>0</th>\n",
       "      <td>81bad898-7be1-37fb-ae0c-036d49cdcd1f</td>\n",
       "      <td>2021-05-01 00:04:47.568</td>\n",
       "      <td>639226</td>\n",
       "      <td>0</td>\n",
       "      <td>9.458341</td>\n",
       "      <td>NaN</td>\n",
       "      <td>NaN</td>\n",
       "      <td>eu</td>\n",
       "      <td>TagData_Type</td>\n",
       "      <td>NaN</td>\n",
       "      <td>device</td>\n",
       "      <td>JSON</td>\n",
       "      <td>2021-05-01-00.04.47.568000</td>\n",
       "      <td>102.299845</td>\n",
       "      <td>0.930899</td>\n",
       "      <td>True</td>\n",
       "    </tr>\n",
       "    <tr>\n",
       "      <th>1</th>\n",
       "      <td>81bad898-7be1-37fb-ae0c-036d49cdcd1f</td>\n",
       "      <td>2021-05-01 00:21:04.566</td>\n",
       "      <td>639226</td>\n",
       "      <td>0</td>\n",
       "      <td>9.204920</td>\n",
       "      <td>NaN</td>\n",
       "      <td>NaN</td>\n",
       "      <td>eu</td>\n",
       "      <td>TagData_Type</td>\n",
       "      <td>NaN</td>\n",
       "      <td>device</td>\n",
       "      <td>JSON</td>\n",
       "      <td>2021-05-01-00.21.04.566000</td>\n",
       "      <td>99.563499</td>\n",
       "      <td>0.924074</td>\n",
       "      <td>True</td>\n",
       "    </tr>\n",
       "  </tbody>\n",
       "</table>\n",
       "</div>"
      ],
      "text/plain": [
       "                               DEVICEID       RCV_TIMESTAMP_UTC   TAGID  \\\n",
       "0  81bad898-7be1-37fb-ae0c-036d49cdcd1f 2021-05-01 00:04:47.568  639226   \n",
       "1  81bad898-7be1-37fb-ae0c-036d49cdcd1f 2021-05-01 00:21:04.566  639226   \n",
       "\n",
       "   INTVALUE  FLOATVALUE  STRINGVALUE  DATEVALUE EVT_NAME    DEVICETYPE  \\\n",
       "0         0    9.458341          NaN        NaN       eu  TagData_Type   \n",
       "1         0    9.204920          NaN        NaN       eu  TagData_Type   \n",
       "\n",
       "   LOGICALINTERFACE_ID EVENTTYPE FORMAT                 UPDATED_UTC  \\\n",
       "0                  NaN    device   JSON  2021-05-01-00.04.47.568000   \n",
       "1                  NaN    device   JSON  2021-05-01-00.21.04.566000   \n",
       "\n",
       "   Temperature_spectral  Temperature_spectralinv  Temperature_threshold  \n",
       "0            102.299845                 0.930899                   True  \n",
       "1             99.563499                 0.924074                   True  "
      ]
     },
     "execution_count": 19,
     "metadata": {},
     "output_type": "execute_result"
    }
   ],
   "source": [
    "df = df_i.reset_index()\n",
    "df.head(2)"
   ]
  },
  {
   "cell_type": "code",
   "execution_count": 30,
   "id": "boring-amber",
   "metadata": {},
   "outputs": [
    {
     "name": "stdout",
     "output_type": "stream",
     "text": [
      "[       nan        nan        nan        nan 9.47515202        nan\n",
      "        nan        nan        nan 9.54534817        nan        nan\n",
      "        nan        nan 9.50551891        nan        nan        nan\n",
      "        nan 9.54005909        nan        nan        nan        nan\n",
      "        nan        nan        nan        nan        nan 9.48219681\n",
      "        nan        nan        nan        nan        nan        nan\n",
      "        nan        nan 9.49768639 9.51086044        nan        nan\n",
      "        nan        nan        nan        nan        nan        nan\n",
      "        nan        nan        nan        nan 9.52561188        nan\n",
      "        nan        nan        nan        nan        nan        nan\n",
      "        nan        nan        nan        nan        nan        nan\n",
      "        nan        nan        nan        nan        nan        nan\n",
      "        nan        nan        nan        nan        nan        nan\n",
      " 9.54130459        nan        nan        nan        nan        nan\n",
      "        nan        nan        nan        nan        nan        nan\n",
      "        nan        nan        nan        nan        nan        nan\n",
      "        nan        nan        nan        nan]\n",
      "[       nan        nan        nan        nan 9.47515202        nan\n",
      "        nan        nan        nan 9.54534817        nan        nan\n",
      "        nan        nan 9.50551891        nan        nan        nan\n",
      "        nan 9.54005909        nan        nan        nan        nan\n",
      "        nan        nan        nan        nan        nan 9.48219681\n",
      "        nan        nan        nan        nan        nan        nan\n",
      "        nan        nan 9.49768639 9.51086044        nan        nan\n",
      "        nan        nan        nan        nan        nan        nan\n",
      "        nan        nan        nan        nan 9.52561188        nan\n",
      "        nan        nan        nan        nan        nan        nan\n",
      "        nan        nan        nan        nan        nan        nan\n",
      "        nan        nan        nan        nan        nan        nan\n",
      "        nan        nan        nan        nan        nan        nan\n",
      " 9.54130459        nan        nan        nan        nan        nan\n",
      "        nan        nan        nan        nan        nan        nan\n",
      "        nan        nan        nan        nan        nan        nan\n",
      "        nan        nan        nan        nan]\n"
     ]
    },
    {
     "data": {
      "text/plain": [
       "[<matplotlib.lines.Line2D at 0x7f8564ed4df0>]"
      ]
     },
     "execution_count": 30,
     "metadata": {},
     "output_type": "execute_result"
    },
    {
     "data": {
      "image/png": "[encoded data removed]",
      "text/plain": [
       "<Figure size 1440x1080 with 3 Axes>"
      ]
     },
     "metadata": {
      "needs_background": "light"
     },
     "output_type": "display_data"
    }
   ],
   "source": [
    "#ax = plt.gca()\n",
    "#ax.xaxis.set_minor_locator(matplotlib.dates.MonthLocator([1, 7]))\n",
    "#ax.xaxis.set_minor_formatter(matplotlib.dates.DateFormatter('%b'))\n",
    "arr = df['FLOATVALUE'].values\n",
    "print(arr[0:100])\n",
    "arr[df['Temperature_threshold'].values] = np.nan\n",
    "print(arr[0:100])\n",
    "\n",
    "fig, ax = plt.subplots(3,1,figsize=(20,15))\n",
    "\n",
    "ax[0].xaxis.set_major_locator(matplotlib.dates.DayLocator())\n",
    "ax[0].xaxis.set_major_formatter(matplotlib.dates.DateFormatter('%D'))\n",
    "ax[1].xaxis.set_major_locator(matplotlib.dates.DayLocator())\n",
    "ax[1].xaxis.set_major_formatter(matplotlib.dates.DateFormatter('%D'))\n",
    "ax[2].xaxis.set_major_locator(matplotlib.dates.DayLocator())\n",
    "ax[2].xaxis.set_major_formatter(matplotlib.dates.DateFormatter('%D'))\n",
    "\n",
    "#plt.figure(figsize=(20,7))\n",
    "ax[0].plot(df[1000:2500]['RCV_TIMESTAMP_UTC'], df[1000:2500]['FLOATVALUE'], color='blue') #, figsize=(20,5))\n",
    "df['fv'] = arr\n",
    "ax[0].plot(df[1000:2500]['RCV_TIMESTAMP_UTC'], df[1000:2500]['fv'], color='red')\n",
    "ax[0].set_title('Raw data + threshold')\n",
    "ax[1].plot(df[1000:2500]['RCV_TIMESTAMP_UTC'], df[1000:2500]['Temperature_spectral'], color='red')\n",
    "ax[2].plot(df[1000:2500]['RCV_TIMESTAMP_UTC'], df[1000:2500]['Temperature_spectralinv'], color='red')"
   ]
  },
  {
   "cell_type": "code",
   "execution_count": null,
   "id": "fossil-fisher",
   "metadata": {},
   "outputs": [],
   "source": []
  }
 ],
 "metadata": {
  "kernelspec": {
   "display_name": "Python 3",
   "language": "python",
   "name": "python3"
  },
  "language_info": {
   "codemirror_mode": {
    "name": "ipython",
    "version": 3
   },
   "file_extension": ".py",
   "mimetype": "text/x-python",
   "name": "python",
   "nbconvert_exporter": "python",
   "pygments_lexer": "ipython3",
   "version": "3.9.5"
  }
 },
 "nbformat": 4,
 "nbformat_minor": 5
}
