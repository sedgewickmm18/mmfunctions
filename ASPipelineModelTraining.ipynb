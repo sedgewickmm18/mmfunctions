{
 "cells": [
  {
   "cell_type": "code",
   "execution_count": 2,
   "metadata": {
    "scrolled": true
   },
   "outputs": [
    {
     "name": "stdout",
     "output_type": "stream",
     "text": [
      "Collecting s3cmd\n",
      "\u001b[?25l  Downloading https://files.pythonhosted.org/packages/5e/1c/c3697bc3afadc7f6a80a8afb5968fa6f5dc2876090f06fd49a4bf1eb8c44/s3cmd-2.0.2-py3-none-any.whl (138kB)\n",
      "\u001b[K     |████████████████████████████████| 143kB 14.7MB/s eta 0:00:01\n",
      "\u001b[?25hCollecting python-magic (from s3cmd)\n",
      "  Downloading https://files.pythonhosted.org/packages/42/a1/76d30c79992e3750dac6790ce16f056f870d368ba142f83f75f694d93001/python_magic-0.4.15-py2.py3-none-any.whl\n",
      "Requirement already satisfied: python-dateutil in /opt/conda/envs/Python36/lib/python3.6/site-packages (from s3cmd) (2.7.5)\n",
      "Requirement already satisfied: six>=1.5 in /opt/conda/envs/Python36/lib/python3.6/site-packages (from python-dateutil->s3cmd) (1.12.0)\n",
      "Installing collected packages: python-magic, s3cmd\n",
      "Successfully installed python-magic-0.4.15 s3cmd-2.0.2\n"
     ]
    }
   ],
   "source": [
    "#!pip install s3cmd"
   ]
  },
  {
   "cell_type": "code",
   "execution_count": 1,
   "metadata": {},
   "outputs": [
    {
     "name": "stderr",
     "output_type": "stream",
     "text": [
      "Warning: confluent_kafka is not installed. Publish to MessageHub not supported.\n",
      "/home/markus/.local/lib/python3.7/site-packages/iotfunctions/bif.py:1599: UserWarning: IoTCalcSettings is deprecated. Use entity type constants instead of a metadata provider to set entity type properties\n",
      "  warnings.warn(('IoTCalcSettings is deprecated. Use entity type constants'\n"
     ]
    }
   ],
   "source": [
    "import logging\n",
    "import threading\n",
    "import json\n",
    "import pandas as pd  \n",
    "import numpy as np  \n",
    "import matplotlib.pyplot as plt  \n",
    "import seaborn as seabornInstance\n",
    "from sqlalchemy import Column, Integer, String, Float, DateTime, Boolean, func\n",
    "from iotfunctions import base\n",
    "from iotfunctions import bif\n",
    "from iotfunctions import entity\n",
    "from iotfunctions import metadata\n",
    "from iotfunctions.metadata import EntityType\n",
    "from iotfunctions.db import Database\n",
    "from iotfunctions.enginelog import EngineLogging\n",
    "from iotfunctions import estimator, ui, base, bif\n",
    "from iotfunctions.base import BaseTransformer\n",
    "from iotfunctions.ui import (UISingle, UIMultiItem, UIFunctionOutSingle,\n",
    "                 UISingleItem, UIFunctionOutMulti, UIMulti, UIExpression,\n",
    "                 UIText, UIStatusFlag, UIParameters)\n",
    "from iotfunctions.enginelog import EngineLogging\n",
    "from iotfunctions import pipeline as pp\n",
    "from iotfunctions.stages import DataWriterSqlAlchemy, DataWriterFile\n",
    "from iotfunctions.pipeline import JobController, DataAggregator\n",
    "\n",
    "import datetime as dt\n",
    "import scipy as sp\n",
    "from scipy import signal\n",
    "from scipy.stats import energy_distance\n",
    "\n",
    "from sklearn.model_selection import train_test_split \n",
    "from sklearn.linear_model import LinearRegression\n",
    "from sklearn import metrics\n",
    "import skimage as ski\n",
    "from skimage import util as skiutil # for nifty windowing\n",
    "%matplotlib inline"
   ]
  },
  {
   "cell_type": "code",
   "execution_count": 2,
   "metadata": {},
   "outputs": [
    {
     "name": "stdout",
     "output_type": "stream",
     "text": [
      "2020-01-08T14:47:25.411 DEBUG iotfunctions.enginelog.configure_console_logging Console logging has been configured. Level = 10\n"
     ]
    }
   ],
   "source": [
    "# @hidden_cell\n",
    "\n",
    "with open('credentials_as_monitor_demo.json', encoding='utf-8') as F:\n",
    "    credentials = json.loads(F.read())\n",
    "    \n",
    "db_schema=None\n",
    "db = Database(credentials=credentials)\n",
    "print (db)"
   ]
  },
  {
   "cell_type": "code",
   "execution_count": 9,
   "metadata": {},
   "outputs": [
    {
     "name": "stdout",
     "output_type": "stream",
     "text": [
      "markus_testdata\n",
      "(4270, 10)\n"
     ]
    }
   ],
   "source": [
    "# read it back for comparison\n",
    "\n",
    "table = db.get_table(\"markus_testdata\")\n",
    "start_ts = dt.datetime.utcnow() - dt.timedelta(days=60)\n",
    "end_ts = dt.datetime.utcnow()\n",
    "df_in = db.read_table(table, None, None, None, \"evt_timestamp\", start_ts, end_ts)\n",
    "print (table)\n",
    "print (df_in.shape)"
   ]
  },
  {
   "cell_type": "code",
   "execution_count": 10,
   "metadata": {},
   "outputs": [
    {
     "name": "stdout",
     "output_type": "stream",
     "text": [
      "2019-11-28T14:09:18.243 DEBUG iotfunctions.metadata.__init__ Initializing new entity type using iotfunctions 2.0.3\n",
      "2019-11-28T14:09:18.245 DEBUG iotfunctions.util.__init__ Starting trace\n",
      "2019-11-28T14:09:18.248 DEBUG iotfunctions.util.__init__ Trace name: auto_trace_markus_testdata_20191128140918\n",
      "2019-11-28T14:09:18.249 DEBUG iotfunctions.util.__init__ auto_save None\n",
      "2019-11-28T14:09:18.257 WARNING iotfunctions.metadata.__init__ No _db_schema specified in **kwargs. Usingdefault database schema.\n",
      "2019-11-28T14:09:18.263 DEBUG iotfunctions.util.categorize_args categorizing arguments\n",
      "2019-11-28T14:09:18.264 DEBUG iotfunctions.metadata.__init__ Initialized entity type \n",
      "EntityType:markus_testdata\n",
      "Functions:\n",
      "Granularities:\n",
      "No schedules metadata\n",
      "None\n"
     ]
    }
   ],
   "source": [
    "jobsettings = {}\n",
    "et2 = metadata.EntityType('markus_testdata', db, \n",
    "                          Column('TestData',Float()),\n",
    "                          Column('Pressure',Float()),\n",
    "                          Column('Temperature',Float()),\n",
    "                          **jobsettings)\n",
    "\n",
    "#et2._end_ts_override = [(dt.datetime.utcnow() - dt.timedelta(days=55)).strftime('%Y-%m-%d %H:%M:%S')]\n",
    "\n",
    "# Predict Pressure from Temperature and stores prediction in KMeansOut (doesn't make much sense, just to test the mechanics)\n",
    "est = estimator.SimpleRegressor(features = ['Pressure'], targets = ['Temperature'], predictions = ['KMeansOut'])\n",
    "est.delete_existing_models = True\n",
    "et2._functions = [est]\n",
    "\n",
    "# make sure the results of the python expression is saved to the derived metrics table\n",
    "et2._data_items.append({'columnName': 'KMeansOut', 'columnType': 'NUMBER', 'kpiFunctionId': 22856, \n",
    "                         'kpiFunctionDto': {'output': {'name': 'KMeansOut'}},\n",
    "                        'name': 'KMeansOut', 'parentDataItemName': None, 'sourceTableName': 'dm_markus_testdata',\n",
    "                        'tags': {},'transient': False,'type': 'DERIVED_METRIC'})\n",
    "\n",
    "print (et2._end_ts_override)"
   ]
  },
  {
   "cell_type": "code",
   "execution_count": 17,
   "metadata": {
    "scrolled": true
   },
   "outputs": [
    {
     "name": "stdout",
     "output_type": "stream",
     "text": [
      "2019-11-28T11:49:55.196 DEBUG iotfunctions.pipeline.set_payload_params Setting param _production_mode on payload to False\n",
      "2019-11-28T11:49:55.200 DEBUG iotfunctions.pipeline.set_payload_params Setting param _start_ts_override on payload to 2019-09-29 11:49:55.196081\n",
      "2019-11-28T11:49:55.201 DEBUG iotfunctions.pipeline.set_payload_params Setting param _end_ts_override on payload to 2019-10-04 11:49:55.196089\n",
      "2019-11-28T11:49:55.202 DEBUG iotfunctions.pipeline.set_payload_params Setting param _db_schema on payload to public\n",
      "2019-11-28T11:49:55.202 DEBUG iotfunctions.pipeline.set_payload_params Setting param save_trace_to_file on payload to True\n",
      "2019-11-28T11:49:55.203 DEBUG iotfunctions.pipeline.set_payload_params Setting param tenant_id on payload to AnalyticsServiceDev\n",
      "2019-11-28T11:49:55.567 DEBUG iotfunctions.stages.get_output_list The payload has candidate data items ['deviceid', 'evt_timestamp', 'Pressure', 'TestData', 'Temperature']. The DataReader has no projection list\n",
      "2019-11-28T11:49:55.579 DEBUG iotfunctions.metadata.build_arg_metadata Using input items ['Pressure'] for features\n",
      "2019-11-28T11:49:55.580 DEBUG iotfunctions.metadata.build_arg_metadata Using input items ['Temperature'] for targets\n",
      "2019-11-28T11:49:55.580 DEBUG iotfunctions.metadata.build_arg_metadata Using output items ['KMeansOut'] for predictions\n",
      "2019-11-28T11:49:55.581 INFO iotfunctions.pipeline.__init__ Initialized job.\n",
      "\n",
      "2019-11-28T11:49:55.582 INFO iotfunctions.pipeline.__init__ \n",
      "Default schedule 5min \n",
      "    Schedule 5min start None:None backtracks: None \n",
      "Stages of type: get_data at grain None: \n",
      "   System generated DataReader stage: read_entity_data. Reads data from objects: markus_testdata\n",
      "Stages of type: transform at grain None: \n",
      "   SimpleRegressor at granularity None requires inputs {'Pressure', 'Temperature'} produces outputs ['KMeansOut'] on schedule None\n",
      "\n",
      "\n",
      "2019-11-28T11:49:55.583 INFO iotfunctions.enginelog.start_run_log Started logging into file run.log. Object Store path will be AnalyticsServiceDev/markus_testdata/20191128/114955_run.gz\n",
      "2019-11-28T11:49:55.585 DEBUG iotfunctions.pipeline.execute Starting execution number: 0 with execution date: 2019-11-28 11:49:55.583217\n",
      "2019-11-28T11:49:55.947 DEBUG iotfunctions.pipeline.get_next_execution_date Last execution of schedule 5min was 2019-11-28 11:42:51.474414. Next execution due 2019-11-28 11:47:51.474414.\n",
      "2019-11-28T11:49:55.959 DEBUG iotfunctions.pipeline.evaluate_schedules Schedule 5min will execute\n",
      "2019-11-28T11:49:55.960 DEBUG iotfunctions.util.reset Started a new trace auto_trace_markus_testdata_20191128114955 \n",
      "2019-11-28T11:49:55.961 DEBUG iotfunctions.util.reset Initiating auto save for trace\n",
      "2019-11-28T11:49:56.684 DEBUG iotfunctions.pipeline.insert Created job log entry (markus_testdata,5min): 2019-11-28 11:49:55.583217\n",
      "2019-11-28T11:49:56.686 DEBUG iotfunctions.pipeline.build_job_spec Building a job spec for schedule 5min with subsumbed schedules ['5min']\n",
      "2019-11-28T11:49:56.700 DEBUG iotfunctions.pipeline.build_stages_of_type Gathered stages of type get_data. Iteration 0: ['System generated DataReader stage: read_entity_data. Reads data from objects: markus_testdata']\n",
      "2019-11-28T11:49:56.701 DEBUG iotfunctions.pipeline.build_stages_of_type Built stages of type get_data\n",
      "2019-11-28T11:49:56.701 DEBUG iotfunctions.pipeline.build_stages_of_type Available columns: {'TestData', 'deviceid', 'evt_timestamp', 'Pressure', 'Temperature'}\n",
      "2019-11-28T11:49:56.703 DEBUG iotfunctions.pipeline.build_stages_of_type Gathered stages of type transform. Iteration 0: [\"SimpleRegressor at granularity None requires inputs {'Pressure', 'Temperature'} produces outputs ['KMeansOut'] on schedule 5min\"]\n",
      "2019-11-28T11:49:56.704 DEBUG iotfunctions.pipeline.build_stages_of_type Built stages of type transform\n",
      "2019-11-28T11:49:56.705 DEBUG iotfunctions.pipeline.build_stages_of_type Available columns: {'TestData', 'deviceid', 'evt_timestamp', 'Pressure', 'KMeansOut', 'Temperature'}\n",
      "2019-11-28T11:49:56.705 DEBUG iotfunctions.pipeline.build_job_spec Evaluating data source read_entity_data. Data items required from this source for this execution are {'Temperature', 'Pressure', 'evt_timestamp', 'deviceid'}\n",
      "2019-11-28T11:49:56.706 INFO iotfunctions.pipeline.write Trimmed data source read_entity_data down to columns ['Temperature', 'Pressure', 'evt_timestamp', 'deviceid'] as remaining columns {'TestData'} are not used\n",
      "2019-11-28T11:49:56.708 DEBUG iotfunctions.pipeline.build_job_spec Build of job spec is complete.\n",
      "2019-11-28T11:49:56.708 DEBUG iotfunctions.pipeline.build_job_spec -------------------------------\n",
      "2019-11-28T11:49:56.709 DEBUG iotfunctions.pipeline.build_job_spec skipped_stages: [None]\n",
      "2019-11-28T11:49:56.720 DEBUG iotfunctions.pipeline.build_job_spec input_level:\n",
      "2019-11-28T11:49:56.720 INFO iotfunctions.pipeline.build_job_spec   System generated DataReader stage: read_entity_data. Reads data from objects: markus_testdata\n",
      "2019-11-28T11:49:56.721 INFO iotfunctions.pipeline.build_job_spec   System generated DropNull stage\n",
      "2019-11-28T11:49:56.722 INFO iotfunctions.pipeline.build_job_spec   SimpleRegressor at granularity None requires inputs {'Pressure', 'Temperature'} produces outputs ['KMeansOut'] on schedule 5min\n",
      "2019-11-28T11:49:56.723 DEBUG iotfunctions.pipeline.build_job_spec -------------------------------\n",
      "TBD ***** - Add stages for usage stats\n",
      "2019-11-28T11:49:56.724 DEBUG iotfunctions.pipeline.exec_payload_method Returned default output for get_adjusted_start_date() on payload EntityType markus_testdata.  Default value is: 2019-09-29 11:49:55.196081\n",
      "2019-11-28T11:49:56.725 DEBUG iotfunctions.pipeline.get_chunks First chunk will run 2019-09-29 11:49:55.196081 to 2019-10-04 11:49:55.196089\n",
      "2019-11-28T11:49:56.726 DEBUG iotfunctions.pipeline.write Processing as a single chunk\n",
      "2019-11-28T11:49:56.740 DEBUG iotfunctions.pipeline.write Executing stage read_entity_data.\n",
      "2019-11-28T11:49:59.256 DEBUG iotfunctions.metadata.index_df Indexed dataframe on id, evt_timestamp\n",
      "2019-11-28T11:49:59.265 DEBUG iotfunctions.pipeline.exec_stage_method No method get_column_map on read_entity_data returning default None. 'DataReader' object has no attribute 'get_column_map'\n",
      "2019-11-28T11:49:59.270 DEBUG iotfunctions.system_function.merge_dataframe Merging dataframe with columns [] and index []\n",
      "2019-11-28T11:49:59.272 DEBUG iotfunctions.metadata.index_df Found existing index on id, evt_timestamp.No need to recreate index\n",
      "2019-11-28T11:49:59.275 INFO iotfunctions.pipeline.update_last_entry Trace message:  Completed stage.\n",
      "2019-11-28T11:49:59.278 INFO iotfunctions.pipeline.update_last_entry Trace payload: {'produces_output_items': True, 'output_items': ['Temperature', 'Pressure', 'evt_timestamp', 'deviceid'], 'discard_prior_data': False, 'merge_result': 'existing empty df with new DataFrame', 'usage': 19600, 'index': ['id', 'evt_timestamp'], 'can_proceed': True, 'updated': datetime.datetime(2019, 11, 28, 11, 49, 59, 275078), 'cumulative_usage': 19600}\n",
      "2019-11-28T11:49:59.280 DEBUG iotfunctions.pipeline.write Executing stage drop_null.\n",
      "2019-11-28T11:49:59.284 DEBUG iotfunctions.system_function.execute columns excluded when dropping null rows ['deviceid', '_timestamp', 'logicalinterface_id', 'devicetype', 'format', 'updated_utc', 'evt_timestamp']\n",
      "2019-11-28T11:49:59.286 DEBUG iotfunctions.system_function.execute columns considered when dropping null rows ['Temperature', 'Pressure']\n",
      "2019-11-28T11:49:59.289 DEBUG iotfunctions.system_function.execute Temperature count not null: 4900\n",
      "2019-11-28T11:49:59.292 DEBUG iotfunctions.system_function.execute Pressure count not null: 4900\n",
      "2019-11-28T11:49:59.303 DEBUG iotfunctions.pipeline.exec_stage_method No method get_column_map on drop_null returning default None. 'DropNull' object has no attribute 'get_column_map'\n",
      "2019-11-28T11:49:59.304 INFO iotfunctions.pipeline.update_last_entry Trace message:  Completed stage.\n",
      "2019-11-28T11:49:59.307 INFO iotfunctions.pipeline.update_last_entry Trace payload: {'produces_output_items': False, 'output_items': None, 'discard_prior_data': False, 'new_data_items_info': 'Function is configured not to produce any new data items  during execution', 'can_proceed': True, 'updated': datetime.datetime(2019, 11, 28, 11, 49, 59, 304431), 'cumulative_usage': 19600}\n"
     ]
    },
    {
     "name": "stdout",
     "output_type": "stream",
     "text": [
      "2019-11-28T11:49:59.308 DEBUG iotfunctions.pipeline.write Executing stage SimpleRegressor.\n",
      "2019-11-28T11:49:59.313 DEBUG urllib3.connectionpool._new_conn Starting new HTTPS connection (1): s3-api.us-geo.objectstorage.softlayer.net\n",
      "2019-11-28T11:49:59.751 DEBUG urllib3.connectionpool._make_request https://s3-api.us-geo.objectstorage.softlayer.net:443 \"DELETE /analytics-runtime-analyticsservicedev-799d2008b460/model.markus_testdata.SimpleRegressor.Temperature HTTP/1.1\" 204 0\n",
      "2019-11-28T11:49:59.754 DEBUG urllib3.connectionpool._new_conn Starting new HTTPS connection (1): s3-api.us-geo.objectstorage.softlayer.net\n"
     ]
    },
    {
     "name": "stderr",
     "output_type": "stream",
     "text": [
      "/opt/conda/envs/Python36/lib/python3.6/site-packages/urllib3/connectionpool.py:858: InsecureRequestWarning: Unverified HTTPS request is being made. Adding certificate verification is strongly advised. See: https://urllib3.readthedocs.io/en/latest/advanced-usage.html#ssl-warnings\n",
      "  InsecureRequestWarning)\n",
      "/opt/conda/envs/Python36/lib/python3.6/site-packages/urllib3/connectionpool.py:858: InsecureRequestWarning: Unverified HTTPS request is being made. Adding certificate verification is strongly advised. See: https://urllib3.readthedocs.io/en/latest/advanced-usage.html#ssl-warnings\n",
      "  InsecureRequestWarning)\n"
     ]
    },
    {
     "name": "stdout",
     "output_type": "stream",
     "text": [
      "2019-11-28T11:50:00.379 DEBUG urllib3.connectionpool._make_request https://s3-api.us-geo.objectstorage.softlayer.net:443 \"GET /analytics-runtime-analyticsservicedev-799d2008b460/model.markus_testdata.SimpleRegressor.Temperature HTTP/1.1\" 404 361\n",
      "2019-11-28T11:50:00.381 WARNING iotfunctions.util._cos_api_request error cos_api_request: request_url=https://s3-api.us-geo.objectstorage.softlayer.net/analytics-runtime-analyticsservicedev-799d2008b460/model.markus_testdata.SimpleRegressor.Temperature, http_method=GET, status_code=404, response_text=<?xml version=\"1.0\" encoding=\"UTF-8\" standalone=\"yes\"?><Error><Code>NoSuchKey</Code><Message>The specified key does not exist.</Message><Resource>/analytics-runtime-analyticsservicedev-799d2008b460/model.markus_testdata.SimpleRegressor.Temperature</Resource><RequestId>ffb78066-e307-48a3-89e0-a09153d725ad</RequestId><httpStatusCode>404</httpStatusCode></Error>\n",
      "2019-11-28T11:50:00.399 ERROR iotfunctions.db.cos_load Not able to GET model.markus_testdata.SimpleRegressor.Temperature from COS bucket analytics-runtime-analyticsservicedev-799d2008b460\n",
      "2019-11-28T11:50:00.400 DEBUG iotfunctions.pipeline.execute Executing pipeline with 0 stages.\n",
      "2019-11-28T11:50:00.403 DEBUG iotfunctions.pipeline.execute columns excluded when dropping null rows ['deviceid', '_timestamp', 'logicalinterface_id', 'devicetype', 'format', 'updated_utc', 'evt_timestamp']\n",
      "2019-11-28T11:50:00.404 DEBUG iotfunctions.pipeline.execute columns considered when dropping null rows ['Temperature', 'Pressure']\n",
      "2019-11-28T11:50:00.406 DEBUG iotfunctions.pipeline.execute Temperature count not null: 4900\n",
      "2019-11-28T11:50:00.410 DEBUG iotfunctions.pipeline.execute Pressure count not null: 4900\n",
      "2019-11-28T11:50:00.421 DEBUG iotfunctions.util.log_df_info post drop all null rows df count: 4900  ; index: id,evt_timestamp  ; columns: Temperature,Pressure,deviceid,_timestamp\n",
      "2019-11-28T11:50:02.073 DEBUG iotfunctions.metadata.register found METRIC column deviceid\n",
      "2019-11-28T11:50:02.074 DEBUG iotfunctions.metadata.register found METRIC column evt_timestamp\n",
      "2019-11-28T11:50:02.084 DEBUG iotfunctions.metadata.register found METRIC column devicetype\n",
      "2019-11-28T11:50:02.085 DEBUG iotfunctions.metadata.register found METRIC column logicalinterface_id\n",
      "2019-11-28T11:50:02.087 DEBUG iotfunctions.metadata.register found METRIC column eventtype\n",
      "2019-11-28T11:50:02.088 DEBUG iotfunctions.metadata.register found METRIC column format\n",
      "2019-11-28T11:50:02.090 DEBUG iotfunctions.metadata.register found METRIC column updated_utc\n",
      "2019-11-28T11:50:02.092 DEBUG iotfunctions.metadata.register found METRIC column Pressure\n",
      "2019-11-28T11:50:02.096 DEBUG iotfunctions.metadata.register found METRIC column TestData\n",
      "2019-11-28T11:50:02.100 DEBUG iotfunctions.metadata.register found METRIC column Temperature\n",
      "2019-11-28T11:50:02.103 DEBUG urllib3.connectionpool._get_conn Resetting dropped connection: api-dev.connectedproducts.internetofthings.ibmcloud.com\n"
     ]
    },
    {
     "name": "stderr",
     "output_type": "stream",
     "text": [
      "/opt/conda/envs/Python36/lib/python3.6/site-packages/urllib3/connectionpool.py:858: InsecureRequestWarning: Unverified HTTPS request is being made. Adding certificate verification is strongly advised. See: https://urllib3.readthedocs.io/en/latest/advanced-usage.html#ssl-warnings\n",
      "  InsecureRequestWarning)\n"
     ]
    },
    {
     "name": "stdout",
     "output_type": "stream",
     "text": [
      "2019-11-28T11:50:03.407 DEBUG urllib3.connectionpool._make_request https://api-dev.connectedproducts.internetofthings.ibmcloud.com:443 \"POST /api/meta/v1/AnalyticsServiceDev/entityType HTTP/1.1\" 200 None\n",
      "2019-11-28T11:50:03.420 DEBUG iotfunctions.db.http_request http request successful. status 200\n",
      "2019-11-28T11:50:03.421 DEBUG iotfunctions.metadata.register Metadata registered for table markus_testdata \n",
      "2019-11-28T11:50:03.794 DEBUG iotfunctions.base.execute_preprocessing Completed preprocessing\n",
      "2019-11-28T11:50:03.797 DEBUG iotfunctions.util.log_df_info training set df count: 3920  ; index: id,evt_timestamp  ; columns: Temperature,Pressure,deviceid,_timestamp\n",
      "2019-11-28T11:50:03.798 DEBUG iotfunctions.util.log_df_info test set df count: 980  ; index: id,evt_timestamp  ; columns: Temperature,Pressure,deviceid,_timestamp\n",
      "2019-11-28T11:50:03.806 INFO iotfunctions.base.execute Prepare to train model {\n",
      " \"name\": \"model.markus_testdata.SimpleRegressor.Temperature\",\n",
      " \"target\": \"Temperature\",\n",
      " \"features\": [\n",
      "  \"Pressure\"\n",
      " ],\n",
      " \"estimator_name\": null,\n",
      " \"eval_metric_name\": \"r2_score\",\n",
      " \"eval_metric_train\": null,\n",
      " \"eval_metric_test\": null,\n",
      " \"trained_date\": null,\n",
      " \"expiry_date\": null\n",
      "}\n",
      "2019-11-28T11:50:03.807 DEBUG iotfunctions.base.make_estimators Selected estimators ['gradient_boosted_regressor', 'gradient_boosted_regressor', 'gradient_boosted_regressor', 'gradient_boosted_regressor', 'gradient_boosted_regressor']\n"
     ]
    },
    {
     "name": "stderr",
     "output_type": "stream",
     "text": [
      "/opt/conda/envs/Python36/lib/python3.6/site-packages/sklearn/model_selection/_split.py:2053: FutureWarning: You should specify a value for 'cv' instead of relying on the default value. The default value will change from 3 to 5 in version 0.22.\n",
      "  warnings.warn(CV_WARNING, FutureWarning)\n"
     ]
    },
    {
     "name": "stdout",
     "output_type": "stream",
     "text": [
      "2019-11-28T11:50:05.869 DEBUG iotfunctions.base.fit_with_search_cv Used randomize search cross validation to find best hyper parameters for estimator RandomizedSearchCV\n",
      "2019-11-28T11:50:05.900 INFO iotfunctions.metadata.test evaluated model model.markus_testdata.SimpleRegressor.Temperature with evaluation metric value 0.8856062325714815\n"
     ]
    },
    {
     "name": "stderr",
     "output_type": "stream",
     "text": [
      "/opt/conda/envs/Python36/lib/python3.6/site-packages/sklearn/model_selection/_split.py:2053: FutureWarning: You should specify a value for 'cv' instead of relying on the default value. The default value will change from 3 to 5 in version 0.22.\n",
      "  warnings.warn(CV_WARNING, FutureWarning)\n"
     ]
    },
    {
     "name": "stdout",
     "output_type": "stream",
     "text": [
      "2019-11-28T11:50:08.625 DEBUG iotfunctions.base.fit_with_search_cv Used randomize search cross validation to find best hyper parameters for estimator RandomizedSearchCV\n",
      "2019-11-28T11:50:08.673 INFO iotfunctions.metadata.test evaluated model model.markus_testdata.SimpleRegressor.Temperature with evaluation metric value 0.8856545940245727\n"
     ]
    },
    {
     "name": "stderr",
     "output_type": "stream",
     "text": [
      "/opt/conda/envs/Python36/lib/python3.6/site-packages/sklearn/model_selection/_split.py:2053: FutureWarning: You should specify a value for 'cv' instead of relying on the default value. The default value will change from 3 to 5 in version 0.22.\n",
      "  warnings.warn(CV_WARNING, FutureWarning)\n"
     ]
    },
    {
     "name": "stdout",
     "output_type": "stream",
     "text": [
      "2019-11-28T11:50:13.612 DEBUG iotfunctions.base.fit_with_search_cv Used randomize search cross validation to find best hyper parameters for estimator RandomizedSearchCV\n",
      "2019-11-28T11:50:13.766 INFO iotfunctions.metadata.test evaluated model model.markus_testdata.SimpleRegressor.Temperature with evaluation metric value 0.885654993896018\n"
     ]
    },
    {
     "name": "stderr",
     "output_type": "stream",
     "text": [
      "/opt/conda/envs/Python36/lib/python3.6/site-packages/sklearn/model_selection/_split.py:2053: FutureWarning: You should specify a value for 'cv' instead of relying on the default value. The default value will change from 3 to 5 in version 0.22.\n",
      "  warnings.warn(CV_WARNING, FutureWarning)\n"
     ]
    },
    {
     "name": "stdout",
     "output_type": "stream",
     "text": [
      "2019-11-28T11:50:18.798 DEBUG iotfunctions.base.fit_with_search_cv Used randomize search cross validation to find best hyper parameters for estimator RandomizedSearchCV\n",
      "2019-11-28T11:50:18.984 INFO iotfunctions.metadata.test evaluated model model.markus_testdata.SimpleRegressor.Temperature with evaluation metric value 0.8856549561311089\n"
     ]
    },
    {
     "name": "stderr",
     "output_type": "stream",
     "text": [
      "/opt/conda/envs/Python36/lib/python3.6/site-packages/sklearn/model_selection/_split.py:2053: FutureWarning: You should specify a value for 'cv' instead of relying on the default value. The default value will change from 3 to 5 in version 0.22.\n",
      "  warnings.warn(CV_WARNING, FutureWarning)\n"
     ]
    },
    {
     "name": "stdout",
     "output_type": "stream",
     "text": [
      "2019-11-28T11:50:23.116 DEBUG iotfunctions.base.fit_with_search_cv Used randomize search cross validation to find best hyper parameters for estimator RandomizedSearchCV\n",
      "2019-11-28T11:50:23.267 INFO iotfunctions.metadata.test evaluated model model.markus_testdata.SimpleRegressor.Temperature with evaluation metric value 0.885654993896018\n",
      "2019-11-28T11:50:23.270 DEBUG iotfunctions.base.execute Trained model: {\n",
      " \"name\": \"model.markus_testdata.SimpleRegressor.Temperature\",\n",
      " \"target\": \"Temperature\",\n",
      " \"features\": [\n",
      "  \"Pressure\"\n",
      " ],\n",
      " \"estimator_name\": \"gradient_boosted_regressor\",\n",
      " \"eval_metric_name\": \"r2_score\",\n",
      " \"eval_metric_train\": 0.8998992329415144,\n",
      " \"eval_metric_test\": 0.885654993896018,\n",
      " \"trained_date\": \"2019-11-28T11:50:13.736576\",\n",
      " \"expiry_date\": null\n",
      "}\n",
      "2019-11-28T11:50:23.305 INFO iotfunctions.metadata.test evaluated model model.markus_testdata.SimpleRegressor.Temperature with evaluation metric value 0.885654993896018\n",
      "2019-11-28T11:50:23.703 DEBUG urllib3.connectionpool._new_conn Starting new HTTPS connection (1): s3-api.us-geo.objectstorage.softlayer.net\n"
     ]
    },
    {
     "name": "stderr",
     "output_type": "stream",
     "text": [
      "/opt/conda/envs/Python36/lib/python3.6/site-packages/urllib3/connectionpool.py:858: InsecureRequestWarning: Unverified HTTPS request is being made. Adding certificate verification is strongly advised. See: https://urllib3.readthedocs.io/en/latest/advanced-usage.html#ssl-warnings\n",
      "  InsecureRequestWarning)\n"
     ]
    },
    {
     "name": "stdout",
     "output_type": "stream",
     "text": [
      "2019-11-28T11:50:25.565 DEBUG urllib3.connectionpool._make_request https://s3-api.us-geo.objectstorage.softlayer.net:443 \"PUT /analytics-runtime-analyticsservicedev-799d2008b460/model.markus_testdata.SimpleRegressor.Temperature HTTP/1.1\" 200 0\n",
      "2019-11-28T11:50:25.567 DEBUG iotfunctions.base.evaluate_and_write_model  wrote new model model.markus_testdata.SimpleRegressor.Temperature \n",
      "2019-11-28T11:50:25.569 INFO iotfunctions.base.execute Finished training model model.markus_testdata.SimpleRegressor.Temperature\n",
      "2019-11-28T11:50:25.580 DEBUG urllib3.connectionpool._new_conn Starting new HTTPS connection (1): s3-api.us-geo.objectstorage.softlayer.net\n"
     ]
    },
    {
     "name": "stderr",
     "output_type": "stream",
     "text": [
      "/opt/conda/envs/Python36/lib/python3.6/site-packages/urllib3/connectionpool.py:858: InsecureRequestWarning: Unverified HTTPS request is being made. Adding certificate verification is strongly advised. See: https://urllib3.readthedocs.io/en/latest/advanced-usage.html#ssl-warnings\n",
      "  InsecureRequestWarning)\n"
     ]
    },
    {
     "name": "stdout",
     "output_type": "stream",
     "text": [
      "2019-11-28T11:50:26.353 DEBUG urllib3.connectionpool._make_request https://s3-api.us-geo.objectstorage.softlayer.net:443 \"GET /analytics-runtime-analyticsservicedev-799d2008b460/model.markus_testdata.SimpleRegressor.Temperature HTTP/1.1\" 200 2078547\n",
      "2019-11-28T11:50:27.097 INFO iotfunctions.metadata.predict predicted using model model.markus_testdata.SimpleRegressor.Temperature\n",
      "2019-11-28T11:50:27.100 DEBUG iotfunctions.util.log_df_info After adding predictions for target Temperature df count: 4900  ; index: id,evt_timestamp  ; columns: Temperature,Pressure,deviceid,_timestamp,KMeansOut\n",
      "2019-11-28T11:50:27.103 DEBUG iotfunctions.system_function.execute Input dataframe has columns ['Temperature', 'Pressure', 'deviceid', '_timestamp'] and index ['id', 'evt_timestamp']\n",
      "2019-11-28T11:50:27.104 DEBUG iotfunctions.system_function.merge_dataframe Merging dataframe with columns ['Temperature', 'Pressure', 'deviceid', '_timestamp'] and index ['id', 'evt_timestamp']\n",
      "2019-11-28T11:50:27.109 DEBUG iotfunctions.system_function.merge_dataframe Merging dataframe with the same index\n",
      "2019-11-28T11:50:27.123 INFO iotfunctions.pipeline.update_last_entry Trace message:  Completed stage.\n",
      "2019-11-28T11:50:27.124 INFO iotfunctions.pipeline.update_last_entry Trace payload: {'produces_output_items': True, 'output_items': ['KMeansOut'], 'discard_prior_data': False, 'merge_result': 'existing df with new DataFrame', 'usage': 4900, 'can_proceed': True, 'updated': datetime.datetime(2019, 11, 28, 11, 50, 27, 123323), 'cumulative_usage': 24500}\n",
      "2019-11-28T11:50:27.127 INFO iotfunctions.pipeline.write Execution complete\n",
      "2019-11-28T11:50:27.130 DEBUG urllib3.connectionpool._new_conn Starting new HTTPS connection (1): s3-api.us-geo.objectstorage.softlayer.net\n"
     ]
    },
    {
     "name": "stderr",
     "output_type": "stream",
     "text": [
      "/opt/conda/envs/Python36/lib/python3.6/site-packages/urllib3/connectionpool.py:858: InsecureRequestWarning: Unverified HTTPS request is being made. Adding certificate verification is strongly advised. See: https://urllib3.readthedocs.io/en/latest/advanced-usage.html#ssl-warnings\n",
      "  InsecureRequestWarning)\n"
     ]
    },
    {
     "name": "stdout",
     "output_type": "stream",
     "text": [
      "2019-11-28T11:50:28.065 DEBUG urllib3.connectionpool._make_request https://s3-api.us-geo.objectstorage.softlayer.net:443 \"PUT /analytics-runtime-analyticsservicedev-799d2008b460/AnalyticsServiceDev/markus_testdata/20191128/markus_testdata_trace_114955 HTTP/1.1\" 200 0\n",
      "2019-11-28T11:50:28.080 DEBUG iotfunctions.util.save Saved trace to cos AnalyticsServiceDev/markus_testdata/20191128/markus_testdata_trace_114955\n",
      "2019-11-28T11:50:28.082 DEBUG iotfunctions.util.save wrote trace to file auto_trace_markus_testdata_20191128114955.json\n",
      "2019-11-28T11:50:28.438 DEBUG iotfunctions.pipeline.update Updated job log (markus_testdata,5min): 2019-11-28 11:49:55.583217\n",
      "2019-11-28T11:50:28.439 DEBUG iotfunctions.pipeline.get_next_future_execution Next scheduled execution date is 2019-11-28 11:54:55.583217\n",
      "2019-11-28T11:50:28.441 DEBUG iotfunctions.pipeline.execute Ending job normally as there are no scheduled executions  due before execution end time\n",
      "2019-11-28T11:50:28.502 DEBUG iotfunctions.util.run_auto_save auto_trace_markus_testdata_20191128114955 autosave thread has stopped\n",
      "2019-11-28T11:50:28.519 DEBUG iotfunctions.util.stop Stopping autosave on trace auto_trace_markus_testdata_20191128114955\n"
     ]
    }
   ],
   "source": [
    "jobsettings = { #'writer_name' : pp.DataWriterSqlAlchemy, 'db': db,\n",
    "               '_production_mode': False,\n",
    "               '_start_ts_override' : dt.datetime.utcnow() - dt.timedelta(days=60),\n",
    "               '_end_ts_override' : (dt.datetime.utcnow() - dt.timedelta(days=55)), #.strftime('%Y-%m-%d %H:%M:%S'),\n",
    "               '_db_schema': 'public', 'save_trace_to_file' : True}\n",
    "job = pp.JobController(et2, **jobsettings)\n",
    "job.execute()"
   ]
  },
  {
   "cell_type": "code",
   "execution_count": 11,
   "metadata": {},
   "outputs": [
    {
     "name": "stdout",
     "output_type": "stream",
     "text": [
      "None\n"
     ]
    }
   ],
   "source": [
    "print (et2._end_ts_override)"
   ]
  },
  {
   "cell_type": "code",
   "execution_count": 13,
   "metadata": {},
   "outputs": [
    {
     "name": "stdout",
     "output_type": "stream",
     "text": [
      "2019-11-28 11:50   2078547   s3://analytics-runtime-analyticsservicedev-799d2008b460/model.markus_testdata.SimpleRegressor.Temperature\r\n"
     ]
    }
   ],
   "source": [
    "# @hidden_cell\n",
    "!s3cmd --access_key=58ddd86b5de8468b819d385046f17033 --secret_key=ee0d6c5521ce9ff100f91b0e37d4eb8cc1a038b5a6d05b38 --host=https://s3-api.us-geo.objectstorage.softlayer.net --host-bucket=s3-api.us-geo.objectstorage.softlayer.net ls s3://analytics-runtime-analyticsservicedev-799d2008b460/model.markus_testdata.SimpleRegressor.Temperature"
   ]
  },
  {
   "cell_type": "code",
   "execution_count": 44,
   "metadata": {},
   "outputs": [
    {
     "name": "stdout",
     "output_type": "stream",
     "text": [
      "2019-11-28T17:34:09.297 DEBUG iotfunctions.metadata.__init__ Initializing new entity type using iotfunctions 2.0.3\n",
      "2019-11-28T17:34:09.304 DEBUG iotfunctions.util.__init__ Starting trace\n",
      "2019-11-28T17:34:09.305 DEBUG iotfunctions.util.__init__ Trace name: auto_trace_Clients04_20191128173409\n",
      "2019-11-28T17:34:09.306 DEBUG iotfunctions.util.__init__ auto_save None\n",
      "2019-11-28T17:34:09.307 DEBUG iotfunctions.util.categorize_args categorizing arguments\n"
     ]
    },
    {
     "name": "stderr",
     "output_type": "stream",
     "text": [
      "/opt/conda/envs/Python36/lib/python3.6/site-packages/sqlalchemy/engine/reflection.py:919: SAWarning: index key 'sqlnotapplicable' was not located in columns for table 'clients04'\n",
      "  \"columns for table '%s'\" % (flavor, c, table_name)\n"
     ]
    },
    {
     "name": "stdout",
     "output_type": "stream",
     "text": [
      "2019-11-28T17:34:10.961 DEBUG iotfunctions.metadata.__init__ Initialized entity type \n",
      "EntityType:clients04\n",
      "Functions:\n",
      "Granularities:\n",
      "No schedules metadata\n"
     ]
    }
   ],
   "source": [
    "#entitySettings = {'_db': db, 'logical_name' : 'Client04'}\n",
    "meta = db.get_entity_type('Clients04')"
   ]
  },
  {
   "cell_type": "code",
   "execution_count": 56,
   "metadata": {},
   "outputs": [
    {
     "name": "stdout",
     "output_type": "stream",
     "text": [
      "2019-11-27 17:44:05.093035\n"
     ]
    }
   ],
   "source": [
    "outputName = 'predict'\n",
    "est = estimator.SimpleRegressor(features = ['pressure'], targets = ['temperature'], predictions = [outputName])\n",
    "est.delete_existing_models = True\n",
    "meta._functions = [est]\n",
    "\n",
    "# make sure the results of the python expression is saved to the derived metrics table\n",
    "meta._data_items.append({'columnName': outputName, 'columnType': 'NUMBER', 'kpiFunctionId': 22856, \n",
    "                         'kpiFunctionDto': {'output': {'name': outputName}},\n",
    "                        'name': outputName, 'parentDataItemName': None, 'sourceTableName': 'dm_markus_testdata',\n",
    "                        'tags': {},'transient': True,'type': 'DERIVED_METRIC'})\n",
    "\n",
    "print (meta._end_ts_override)"
   ]
  },
  {
   "cell_type": "code",
   "execution_count": 57,
   "metadata": {},
   "outputs": [
    {
     "data": {
      "text/plain": [
       "[<iotfunctions.estimator.SimpleRegressor at 0x7f7c3eeaea90>]"
      ]
     },
     "execution_count": 57,
     "metadata": {},
     "output_type": "execute_result"
    }
   ],
   "source": [
    "meta._functions"
   ]
  },
  {
   "cell_type": "code",
   "execution_count": 59,
   "metadata": {},
   "outputs": [
    {
     "name": "stdout",
     "output_type": "stream",
     "text": [
      "2019-11-28T17:46:05.577 DEBUG iotfunctions.pipeline.set_payload_params Setting param _production_mode on payload to False\n",
      "2019-11-28T17:46:05.579 DEBUG iotfunctions.pipeline.set_payload_params Setting param _start_ts_override on payload to 2019-11-18 17:46:05.577572\n",
      "2019-11-28T17:46:05.581 DEBUG iotfunctions.pipeline.set_payload_params Setting param _end_ts_override on payload to 2019-11-27 17:46:05.577580\n",
      "2019-11-28T17:46:05.582 DEBUG iotfunctions.pipeline.set_payload_params Setting param _db_schema on payload to BLUADMIN\n",
      "2019-11-28T17:46:05.583 DEBUG iotfunctions.pipeline.set_payload_params Setting param save_trace_to_file on payload to True\n",
      "2019-11-28T17:46:05.583 DEBUG iotfunctions.pipeline.set_payload_params Setting param tenant_id on payload to Monitor-Demo\n",
      "2019-11-28T17:46:05.925 DEBUG iotfunctions.stages.get_output_list The payload has candidate data items ['deviceid', 'evt_timestamp', 'b_press_y', 'turbine_id', 'press_y', 'a_press_y', 'temp_x', 'temperature', 'step', 'b_temp_x', 'temp_y', 'pressure', 'a_temp_x', 'a_press_x', 'b_temp_y', 'press_x', 'predict_temperature', 'a_temp_y', 'b_press_x', 'predict_press_x', 'predict_pressure']. The DataReader has no projection list\n",
      "2019-11-28T17:46:05.940 DEBUG iotfunctions.metadata.classify_stages Input set was preset for function SimpleRegressor\n",
      "2019-11-28T17:46:05.941 DEBUG iotfunctions.metadata.classify_stages Output list set was preset for function SimpleRegressor\n",
      "2019-11-28T17:46:05.942 INFO iotfunctions.pipeline.__init__ Initialized job.\n",
      "\n",
      "2019-11-28T17:46:05.943 INFO iotfunctions.pipeline.__init__ \n",
      "Default schedule 5min \n",
      "    Schedule 5min start None:None backtracks: None \n",
      "Stages of type: get_data at grain None: \n",
      "   System generated DataReader stage: read_entity_data. Reads data from objects: clients04\n",
      "Stages of type: transform at grain None: \n",
      "   SimpleRegressor at granularity None requires inputs {'temperature', 'pressure'} produces outputs ['predict'] on schedule 5min\n",
      "\n",
      "\n",
      "2019-11-28T17:46:05.944 INFO iotfunctions.enginelog.start_run_log Started logging into file run.log. Object Store path will be Monitor-Demo/Clients04/20191128/174605_run.gz\n",
      "2019-11-28T17:46:05.945 DEBUG iotfunctions.pipeline.execute Starting execution number: 0 with execution date: 2019-11-28 17:46:05.944054\n",
      "2019-11-28T17:46:06.296 DEBUG iotfunctions.pipeline.get_next_execution_date Last execution of schedule 5min was 2019-11-28 17:44:33.115839. Next execution due 2019-11-28 17:49:33.115839.\n",
      "2019-11-28T17:46:06.299 DEBUG iotfunctions.pipeline.evaluate_schedules Schedule 5min will execute\n",
      "2019-11-28T17:46:06.300 DEBUG iotfunctions.util.reset Started a new trace auto_trace_Clients04_20191128174605 \n",
      "2019-11-28T17:46:06.303 DEBUG iotfunctions.util.reset Initiating auto save for trace\n",
      "2019-11-28T17:46:07.222 DEBUG iotfunctions.pipeline.insert Created job log entry (Clients04,5min): 2019-11-28 17:46:05.944054\n",
      "2019-11-28T17:46:07.223 DEBUG iotfunctions.pipeline.build_job_spec Building a job spec for schedule 5min with subsumbed schedules ['5min']\n",
      "2019-11-28T17:46:07.240 DEBUG iotfunctions.pipeline.build_stages_of_type Gathered stages of type get_data. Iteration 0: ['System generated DataReader stage: read_entity_data. Reads data from objects: clients04']\n",
      "2019-11-28T17:46:07.241 DEBUG iotfunctions.pipeline.build_stages_of_type Built stages of type get_data\n",
      "2019-11-28T17:46:07.242 DEBUG iotfunctions.pipeline.build_stages_of_type Available columns: {'a_press_y', 'b_temp_x', 'pressure', 'step', 'a_temp_y', 'deviceid', 'evt_timestamp', 'b_press_y', 'predict_temperature', 'a_press_x', 'turbine_id', 'b_temp_y', 'predict_pressure', 'press_y', 'predict_press_x', 'temp_x', 'temp_y', 'temperature', 'press_x', 'a_temp_x', 'b_press_x'}\n",
      "2019-11-28T17:46:07.243 DEBUG iotfunctions.pipeline.build_stages_of_type Gathered stages of type transform. Iteration 0: [\"SimpleRegressor at granularity None requires inputs {'temperature', 'pressure'} produces outputs ['predict'] on schedule 5min\"]\n",
      "2019-11-28T17:46:07.244 DEBUG iotfunctions.pipeline.build_stages_of_type Built stages of type transform\n",
      "2019-11-28T17:46:07.245 DEBUG iotfunctions.pipeline.build_stages_of_type Available columns: {'a_press_y', 'b_temp_x', 'predict', 'pressure', 'step', 'a_temp_y', 'deviceid', 'evt_timestamp', 'b_press_y', 'predict_temperature', 'a_press_x', 'turbine_id', 'b_temp_y', 'predict_pressure', 'press_y', 'predict_press_x', 'temp_x', 'temp_y', 'temperature', 'press_x', 'a_temp_x', 'b_press_x'}\n",
      "2019-11-28T17:46:07.246 DEBUG iotfunctions.pipeline.build_job_spec Evaluating data source read_entity_data. Data items required from this source for this execution are {'temperature', 'evt_timestamp', 'pressure', 'deviceid'}\n",
      "2019-11-28T17:46:07.260 INFO iotfunctions.pipeline.write Trimmed data source read_entity_data down to columns ['temperature', 'evt_timestamp', 'pressure', 'deviceid'] as remaining columns {'a_press_y', 'b_temp_x', 'step', 'a_temp_y', 'b_press_y', 'predict_temperature', 'a_press_x', 'turbine_id', 'b_temp_y', 'predict_pressure', 'press_y', 'predict_press_x', 'temp_x', 'temp_y', 'press_x', 'a_temp_x', 'b_press_x'} are not used\n",
      "2019-11-28T17:46:07.261 DEBUG iotfunctions.pipeline.build_job_spec Build of job spec is complete.\n",
      "2019-11-28T17:46:07.262 DEBUG iotfunctions.pipeline.build_job_spec -------------------------------\n",
      "2019-11-28T17:46:07.263 DEBUG iotfunctions.pipeline.build_job_spec skipped_stages: [None]\n",
      "2019-11-28T17:46:07.264 DEBUG iotfunctions.pipeline.build_job_spec input_level:\n",
      "2019-11-28T17:46:07.265 INFO iotfunctions.pipeline.build_job_spec   System generated DataReader stage: read_entity_data. Reads data from objects: clients04\n",
      "2019-11-28T17:46:07.266 INFO iotfunctions.pipeline.build_job_spec   System generated DropNull stage\n",
      "2019-11-28T17:46:07.267 INFO iotfunctions.pipeline.build_job_spec   SimpleRegressor at granularity None requires inputs {'temperature', 'pressure'} produces outputs ['predict'] on schedule 5min\n",
      "2019-11-28T17:46:07.267 DEBUG iotfunctions.pipeline.build_job_spec -------------------------------\n",
      "TBD ***** - Add stages for usage stats\n",
      "2019-11-28T17:46:07.268 DEBUG iotfunctions.pipeline.exec_payload_method Returned default output for get_adjusted_start_date() on payload EntityType clients04.  Default value is: 2019-11-18 17:46:05.577572\n",
      "2019-11-28T17:46:07.280 DEBUG iotfunctions.pipeline.get_chunks First chunk will run 2019-11-18 17:46:05.577572 to 2019-11-25 17:46:05.577572\n",
      "2019-11-28T17:46:07.281 DEBUG iotfunctions.pipeline.exec_payload_method Returned default output for get_adjusted_start_date() on payload EntityType clients04.  Default value is: 2019-11-25 17:46:05.577573\n",
      "2019-11-28T17:46:07.282 DEBUG iotfunctions.pipeline.get_chunks Next chunk will run 2019-11-25 17:46:05.577573 to 2019-11-27 17:46:05.577580\n",
      "2019-11-28T17:46:07.283 DEBUG iotfunctions.pipeline.write Processing in chunks\n",
      "2019-11-28T17:46:07.284 DEBUG iotfunctions.pipeline.write Executing stage read_entity_data.\n",
      "2019-11-28T17:46:08.692 DEBUG iotfunctions.metadata.index_df Indexed dataframe on id, evt_timestamp\n",
      "2019-11-28T17:46:08.701 DEBUG iotfunctions.pipeline.exec_stage_method No method get_column_map on read_entity_data returning default None. 'DataReader' object has no attribute 'get_column_map'\n",
      "2019-11-28T17:46:08.702 DEBUG iotfunctions.system_function.merge_dataframe Merging dataframe with columns [] and index []\n",
      "2019-11-28T17:46:08.705 DEBUG iotfunctions.metadata.index_df Found existing index on id, evt_timestamp.No need to recreate index\n",
      "2019-11-28T17:46:08.708 INFO iotfunctions.pipeline.update_last_entry Trace message:  Completed stage.\n",
      "2019-11-28T17:46:08.709 INFO iotfunctions.pipeline.update_last_entry Trace payload: {'produces_output_items': True, 'output_items': ['temperature', 'evt_timestamp', 'pressure', 'deviceid'], 'discard_prior_data': False, 'merge_result': 'existing empty df with new DataFrame', 'usage': 11360, 'index': ['id', 'evt_timestamp'], 'can_proceed': True, 'updated': datetime.datetime(2019, 11, 28, 17, 46, 8, 708101), 'cumulative_usage': 11360}\n",
      "2019-11-28T17:46:08.711 DEBUG iotfunctions.pipeline.write Executing stage drop_null.\n",
      "2019-11-28T17:46:08.720 DEBUG iotfunctions.system_function.execute columns excluded when dropping null rows ['deviceid', '_timestamp', 'logicalinterface_id', 'devicetype', 'format', 'updated_utc', 'evt_timestamp']\n"
     ]
    },
    {
     "name": "stdout",
     "output_type": "stream",
     "text": [
      "2019-11-28T17:46:08.722 DEBUG iotfunctions.system_function.execute columns considered when dropping null rows ['temperature', 'pressure']\n",
      "2019-11-28T17:46:08.723 DEBUG iotfunctions.system_function.execute temperature count not null: 2840\n",
      "2019-11-28T17:46:08.727 DEBUG iotfunctions.system_function.execute pressure count not null: 2840\n",
      "2019-11-28T17:46:08.734 DEBUG iotfunctions.pipeline.exec_stage_method No method get_column_map on drop_null returning default None. 'DropNull' object has no attribute 'get_column_map'\n",
      "2019-11-28T17:46:08.739 INFO iotfunctions.pipeline.update_last_entry Trace message:  Completed stage.\n",
      "2019-11-28T17:46:08.741 INFO iotfunctions.pipeline.update_last_entry Trace payload: {'produces_output_items': False, 'output_items': None, 'discard_prior_data': False, 'new_data_items_info': 'Function is configured not to produce any new data items  during execution', 'can_proceed': True, 'updated': datetime.datetime(2019, 11, 28, 17, 46, 8, 739706), 'cumulative_usage': 11360}\n",
      "2019-11-28T17:46:08.742 DEBUG iotfunctions.pipeline.write Executing stage SimpleRegressor.\n",
      "2019-11-28T17:46:08.748 DEBUG urllib3.connectionpool._new_conn Starting new HTTPS connection (1): s3-api.us-geo.objectstorage.softlayer.net\n"
     ]
    },
    {
     "name": "stderr",
     "output_type": "stream",
     "text": [
      "/opt/conda/envs/Python36/lib/python3.6/site-packages/urllib3/connectionpool.py:858: InsecureRequestWarning: Unverified HTTPS request is being made. Adding certificate verification is strongly advised. See: https://urllib3.readthedocs.io/en/latest/advanced-usage.html#ssl-warnings\n",
      "  InsecureRequestWarning)\n"
     ]
    },
    {
     "name": "stdout",
     "output_type": "stream",
     "text": [
      "2019-11-28T17:46:09.311 DEBUG urllib3.connectionpool._make_request https://s3-api.us-geo.objectstorage.softlayer.net:443 \"DELETE /analytics-runtime-monitor-demo-395729cb6a06/model.clients04.SimpleRegressor.temperature HTTP/1.1\" 204 0\n",
      "2019-11-28T17:46:09.321 DEBUG urllib3.connectionpool._new_conn Starting new HTTPS connection (1): s3-api.us-geo.objectstorage.softlayer.net\n"
     ]
    },
    {
     "name": "stderr",
     "output_type": "stream",
     "text": [
      "/opt/conda/envs/Python36/lib/python3.6/site-packages/urllib3/connectionpool.py:858: InsecureRequestWarning: Unverified HTTPS request is being made. Adding certificate verification is strongly advised. See: https://urllib3.readthedocs.io/en/latest/advanced-usage.html#ssl-warnings\n",
      "  InsecureRequestWarning)\n"
     ]
    },
    {
     "name": "stdout",
     "output_type": "stream",
     "text": [
      "2019-11-28T17:46:09.842 DEBUG urllib3.connectionpool._make_request https://s3-api.us-geo.objectstorage.softlayer.net:443 \"GET /analytics-runtime-monitor-demo-395729cb6a06/model.clients04.SimpleRegressor.temperature HTTP/1.1\" 404 348\n",
      "2019-11-28T17:46:09.860 WARNING iotfunctions.util._cos_api_request error cos_api_request: request_url=https://s3-api.us-geo.objectstorage.softlayer.net/analytics-runtime-monitor-demo-395729cb6a06/model.clients04.SimpleRegressor.temperature, http_method=GET, status_code=404, response_text=<?xml version=\"1.0\" encoding=\"UTF-8\" standalone=\"yes\"?><Error><Code>NoSuchKey</Code><Message>The specified key does not exist.</Message><Resource>/analytics-runtime-monitor-demo-395729cb6a06/model.clients04.SimpleRegressor.temperature</Resource><RequestId>bccf3754-78e4-421e-9587-fe0bbaf001d9</RequestId><httpStatusCode>404</httpStatusCode></Error>\n",
      "2019-11-28T17:46:09.862 ERROR iotfunctions.db.cos_load Not able to GET model.clients04.SimpleRegressor.temperature from COS bucket analytics-runtime-monitor-demo-395729cb6a06\n",
      "2019-11-28T17:46:09.865 DEBUG iotfunctions.pipeline.execute Executing pipeline with 0 stages.\n",
      "2019-11-28T17:46:09.868 DEBUG iotfunctions.pipeline.execute columns excluded when dropping null rows ['deviceid', '_timestamp', 'logicalinterface_id', 'devicetype', 'format', 'updated_utc', 'evt_timestamp']\n",
      "2019-11-28T17:46:09.870 DEBUG iotfunctions.pipeline.execute columns considered when dropping null rows ['temperature', 'pressure']\n",
      "2019-11-28T17:46:09.873 DEBUG iotfunctions.pipeline.execute temperature count not null: 2840\n",
      "2019-11-28T17:46:09.876 DEBUG iotfunctions.pipeline.execute pressure count not null: 2840\n",
      "2019-11-28T17:46:09.887 DEBUG iotfunctions.util.log_df_info post drop all null rows df count: 2840  ; index: id,evt_timestamp  ; columns: temperature,pressure,deviceid,_timestamp\n",
      "2019-11-28T17:46:10.237 DEBUG iotfunctions.base.execute_preprocessing Completed preprocessing\n",
      "2019-11-28T17:46:10.241 DEBUG iotfunctions.util.log_df_info training set df count: 2272  ; index: id,evt_timestamp  ; columns: temperature,pressure,deviceid,_timestamp\n",
      "2019-11-28T17:46:10.242 DEBUG iotfunctions.util.log_df_info test set df count: 568  ; index: id,evt_timestamp  ; columns: temperature,pressure,deviceid,_timestamp\n",
      "2019-11-28T17:46:10.243 INFO iotfunctions.base.execute Prepare to train model {\n",
      " \"name\": \"model.clients04.SimpleRegressor.temperature\",\n",
      " \"target\": \"temperature\",\n",
      " \"features\": [\n",
      "  \"pressure\"\n",
      " ],\n",
      " \"estimator_name\": null,\n",
      " \"eval_metric_name\": \"r2_score\",\n",
      " \"eval_metric_train\": null,\n",
      " \"eval_metric_test\": null,\n",
      " \"trained_date\": null,\n",
      " \"expiry_date\": null\n",
      "}\n",
      "2019-11-28T17:46:10.245 DEBUG iotfunctions.base.make_estimators Selected estimators ['gradient_boosted_regressor', 'gradient_boosted_regressor', 'gradient_boosted_regressor', 'sgd_regressor', 'sgd_regressor']\n"
     ]
    },
    {
     "name": "stderr",
     "output_type": "stream",
     "text": [
      "/opt/conda/envs/Python36/lib/python3.6/site-packages/sklearn/model_selection/_split.py:2053: FutureWarning: You should specify a value for 'cv' instead of relying on the default value. The default value will change from 3 to 5 in version 0.22.\n",
      "  warnings.warn(CV_WARNING, FutureWarning)\n"
     ]
    },
    {
     "name": "stdout",
     "output_type": "stream",
     "text": [
      "2019-11-28T17:46:12.849 DEBUG iotfunctions.base.fit_with_search_cv Used randomize search cross validation to find best hyper parameters for estimator RandomizedSearchCV\n",
      "2019-11-28T17:46:12.957 INFO iotfunctions.metadata.test evaluated model model.clients04.SimpleRegressor.temperature with evaluation metric value 0.9974322162687889\n"
     ]
    },
    {
     "name": "stderr",
     "output_type": "stream",
     "text": [
      "/opt/conda/envs/Python36/lib/python3.6/site-packages/sklearn/model_selection/_split.py:2053: FutureWarning: You should specify a value for 'cv' instead of relying on the default value. The default value will change from 3 to 5 in version 0.22.\n",
      "  warnings.warn(CV_WARNING, FutureWarning)\n"
     ]
    },
    {
     "name": "stdout",
     "output_type": "stream",
     "text": [
      "2019-11-28T17:46:14.229 DEBUG iotfunctions.base.fit_with_search_cv Used randomize search cross validation to find best hyper parameters for estimator RandomizedSearchCV\n",
      "2019-11-28T17:46:14.262 INFO iotfunctions.metadata.test evaluated model model.clients04.SimpleRegressor.temperature with evaluation metric value 0.9973809662729104\n"
     ]
    },
    {
     "name": "stderr",
     "output_type": "stream",
     "text": [
      "/opt/conda/envs/Python36/lib/python3.6/site-packages/sklearn/model_selection/_split.py:2053: FutureWarning: You should specify a value for 'cv' instead of relying on the default value. The default value will change from 3 to 5 in version 0.22.\n",
      "  warnings.warn(CV_WARNING, FutureWarning)\n"
     ]
    },
    {
     "name": "stdout",
     "output_type": "stream",
     "text": [
      "2019-11-28T17:46:21.050 DEBUG iotfunctions.base.fit_with_search_cv Used randomize search cross validation to find best hyper parameters for estimator RandomizedSearchCV\n",
      "2019-11-28T17:46:21.248 INFO iotfunctions.metadata.test evaluated model model.clients04.SimpleRegressor.temperature with evaluation metric value 0.9974321865618448\n",
      "2019-11-28T17:46:21.350 DEBUG iotfunctions.base.fit_with_search_cv Used randomize search cross validation to find best hyper parameters for estimator RandomizedSearchCV\n",
      "2019-11-28T17:46:21.360 INFO iotfunctions.metadata.test evaluated model model.clients04.SimpleRegressor.temperature with evaluation metric value 0.602249853659882\n",
      "2019-11-28T17:46:21.443 DEBUG iotfunctions.base.fit_with_search_cv Used randomize search cross validation to find best hyper parameters for estimator RandomizedSearchCV\n",
      "2019-11-28T17:46:21.449 INFO iotfunctions.metadata.test evaluated model model.clients04.SimpleRegressor.temperature with evaluation metric value -0.4000937406089071\n",
      "2019-11-28T17:46:21.451 DEBUG iotfunctions.base.execute Trained model: {\n",
      " \"name\": \"model.clients04.SimpleRegressor.temperature\",\n",
      " \"target\": \"temperature\",\n",
      " \"features\": [\n",
      "  \"pressure\"\n",
      " ],\n",
      " \"estimator_name\": \"gradient_boosted_regressor\",\n",
      " \"eval_metric_name\": \"r2_score\",\n",
      " \"eval_metric_train\": 0.9999999980459483,\n",
      " \"eval_metric_test\": 0.9974322162687889,\n",
      " \"trained_date\": \"2019-11-28T17:46:12.935966\",\n",
      " \"expiry_date\": null\n",
      "}\n"
     ]
    },
    {
     "name": "stderr",
     "output_type": "stream",
     "text": [
      "/opt/conda/envs/Python36/lib/python3.6/site-packages/sklearn/model_selection/_split.py:2053: FutureWarning: You should specify a value for 'cv' instead of relying on the default value. The default value will change from 3 to 5 in version 0.22.\n",
      "  warnings.warn(CV_WARNING, FutureWarning)\n",
      "/opt/conda/envs/Python36/lib/python3.6/site-packages/sklearn/model_selection/_search.py:841: DeprecationWarning: The default of the `iid` parameter will change from True to False in version 0.22 and will be removed in 0.24. This will change numeric results when test-set sizes are unequal.\n",
      "  DeprecationWarning)\n",
      "/opt/conda/envs/Python36/lib/python3.6/site-packages/sklearn/model_selection/_split.py:2053: FutureWarning: You should specify a value for 'cv' instead of relying on the default value. The default value will change from 3 to 5 in version 0.22.\n",
      "  warnings.warn(CV_WARNING, FutureWarning)\n"
     ]
    },
    {
     "name": "stdout",
     "output_type": "stream",
     "text": [
      "2019-11-28T17:46:21.483 INFO iotfunctions.metadata.test evaluated model model.clients04.SimpleRegressor.temperature with evaluation metric value 0.9974322162687889\n",
      "2019-11-28T17:46:21.813 DEBUG urllib3.connectionpool._new_conn Starting new HTTPS connection (1): s3-api.us-geo.objectstorage.softlayer.net\n"
     ]
    },
    {
     "name": "stderr",
     "output_type": "stream",
     "text": [
      "/opt/conda/envs/Python36/lib/python3.6/site-packages/urllib3/connectionpool.py:858: InsecureRequestWarning: Unverified HTTPS request is being made. Adding certificate verification is strongly advised. See: https://urllib3.readthedocs.io/en/latest/advanced-usage.html#ssl-warnings\n",
      "  InsecureRequestWarning)\n"
     ]
    },
    {
     "name": "stdout",
     "output_type": "stream",
     "text": [
      "2019-11-28T17:46:26.415 DEBUG urllib3.connectionpool._make_request https://s3-api.us-geo.objectstorage.softlayer.net:443 \"PUT /analytics-runtime-monitor-demo-395729cb6a06/model.clients04.SimpleRegressor.temperature HTTP/1.1\" 200 0\n",
      "2019-11-28T17:46:26.418 DEBUG iotfunctions.base.evaluate_and_write_model  wrote new model model.clients04.SimpleRegressor.temperature \n",
      "2019-11-28T17:46:26.422 INFO iotfunctions.base.execute Finished training model model.clients04.SimpleRegressor.temperature\n",
      "2019-11-28T17:46:26.424 DEBUG urllib3.connectionpool._new_conn Starting new HTTPS connection (1): s3-api.us-geo.objectstorage.softlayer.net\n"
     ]
    },
    {
     "name": "stderr",
     "output_type": "stream",
     "text": [
      "/opt/conda/envs/Python36/lib/python3.6/site-packages/urllib3/connectionpool.py:858: InsecureRequestWarning: Unverified HTTPS request is being made. Adding certificate verification is strongly advised. See: https://urllib3.readthedocs.io/en/latest/advanced-usage.html#ssl-warnings\n",
      "  InsecureRequestWarning)\n"
     ]
    },
    {
     "name": "stdout",
     "output_type": "stream",
     "text": [
      "2019-11-28T17:46:27.139 DEBUG urllib3.connectionpool._make_request https://s3-api.us-geo.objectstorage.softlayer.net:443 \"GET /analytics-runtime-monitor-demo-395729cb6a06/model.clients04.SimpleRegressor.temperature HTTP/1.1\" 200 10495852\n",
      "2019-11-28T17:46:36.527 INFO iotfunctions.metadata.predict predicted using model model.clients04.SimpleRegressor.temperature\n",
      "2019-11-28T17:46:36.529 DEBUG iotfunctions.util.log_df_info After adding predictions for target temperature df count: 2840  ; index: id,evt_timestamp  ; columns: temperature,pressure,deviceid,_timestamp,predict\n",
      "2019-11-28T17:46:36.533 DEBUG iotfunctions.system_function.execute Input dataframe has columns ['temperature', 'pressure', 'deviceid', '_timestamp'] and index ['id', 'evt_timestamp']\n",
      "2019-11-28T17:46:36.534 DEBUG iotfunctions.system_function.merge_dataframe Merging dataframe with columns ['temperature', 'pressure', 'deviceid', '_timestamp'] and index ['id', 'evt_timestamp']\n",
      "2019-11-28T17:46:36.544 DEBUG iotfunctions.system_function.merge_dataframe Merging dataframe with the same index\n",
      "2019-11-28T17:46:36.551 INFO iotfunctions.pipeline.update_last_entry Trace message:  Completed stage.\n",
      "2019-11-28T17:46:36.552 INFO iotfunctions.pipeline.update_last_entry Trace payload: {'produces_output_items': True, 'output_items': ['predict'], 'discard_prior_data': False, 'merge_result': 'existing df with new DataFrame', 'usage': 2840, 'can_proceed': True, 'updated': datetime.datetime(2019, 11, 28, 17, 46, 36, 551529), 'cumulative_usage': 14200}\n",
      "2019-11-28T17:46:36.561 DEBUG iotfunctions.pipeline.write Processing in chunks\n",
      "2019-11-28T17:46:36.563 DEBUG iotfunctions.pipeline.write Executing stage read_entity_data.\n",
      "2019-11-28T17:46:37.629 DEBUG iotfunctions.metadata.index_df Indexed dataframe on id, evt_timestamp\n",
      "2019-11-28T17:46:37.640 DEBUG iotfunctions.pipeline.exec_stage_method No method get_column_map on read_entity_data returning default None. 'DataReader' object has no attribute 'get_column_map'\n",
      "2019-11-28T17:46:37.644 DEBUG iotfunctions.system_function.merge_dataframe Merging dataframe with columns [] and index []\n",
      "2019-11-28T17:46:37.647 DEBUG iotfunctions.metadata.index_df Found existing index on id, evt_timestamp.No need to recreate index\n",
      "2019-11-28T17:46:37.650 INFO iotfunctions.pipeline.update_last_entry Trace message:  Completed stage.\n",
      "2019-11-28T17:46:37.652 INFO iotfunctions.pipeline.update_last_entry Trace payload: {'produces_output_items': True, 'output_items': ['temperature', 'evt_timestamp', 'pressure', 'deviceid'], 'discard_prior_data': False, 'merge_result': 'existing empty df with new DataFrame', 'usage': 7312, 'index': ['id', 'evt_timestamp'], 'can_proceed': True, 'updated': datetime.datetime(2019, 11, 28, 17, 46, 37, 650010), 'cumulative_usage': 21512}\n",
      "2019-11-28T17:46:37.655 DEBUG iotfunctions.pipeline.write Executing stage drop_null.\n",
      "2019-11-28T17:46:37.660 DEBUG iotfunctions.system_function.execute columns excluded when dropping null rows ['deviceid', '_timestamp', 'logicalinterface_id', 'devicetype', 'format', 'updated_utc', 'evt_timestamp']\n",
      "2019-11-28T17:46:37.661 DEBUG iotfunctions.system_function.execute columns considered when dropping null rows ['temperature', 'pressure']\n",
      "2019-11-28T17:46:37.666 DEBUG iotfunctions.system_function.execute temperature count not null: 1828\n",
      "2019-11-28T17:46:37.667 DEBUG iotfunctions.system_function.execute pressure count not null: 1828\n",
      "2019-11-28T17:46:37.681 DEBUG iotfunctions.pipeline.exec_stage_method No method get_column_map on drop_null returning default None. 'DropNull' object has no attribute 'get_column_map'\n",
      "2019-11-28T17:46:37.682 INFO iotfunctions.pipeline.update_last_entry Trace message:  Completed stage.\n",
      "2019-11-28T17:46:37.686 INFO iotfunctions.pipeline.update_last_entry Trace payload: {'produces_output_items': False, 'output_items': None, 'discard_prior_data': False, 'new_data_items_info': 'Function is configured not to produce any new data items  during execution', 'can_proceed': True, 'updated': datetime.datetime(2019, 11, 28, 17, 46, 37, 682786), 'cumulative_usage': 21512}\n",
      "2019-11-28T17:46:37.689 DEBUG iotfunctions.pipeline.write Executing stage SimpleRegressor.\n",
      "2019-11-28T17:46:37.693 DEBUG urllib3.connectionpool._new_conn Starting new HTTPS connection (1): s3-api.us-geo.objectstorage.softlayer.net\n"
     ]
    },
    {
     "name": "stderr",
     "output_type": "stream",
     "text": [
      "/opt/conda/envs/Python36/lib/python3.6/site-packages/urllib3/connectionpool.py:858: InsecureRequestWarning: Unverified HTTPS request is being made. Adding certificate verification is strongly advised. See: https://urllib3.readthedocs.io/en/latest/advanced-usage.html#ssl-warnings\n",
      "  InsecureRequestWarning)\n"
     ]
    },
    {
     "name": "stdout",
     "output_type": "stream",
     "text": [
      "2019-11-28T17:46:38.359 DEBUG urllib3.connectionpool._make_request https://s3-api.us-geo.objectstorage.softlayer.net:443 \"DELETE /analytics-runtime-monitor-demo-395729cb6a06/model.clients04.SimpleRegressor.temperature HTTP/1.1\" 204 0\n",
      "2019-11-28T17:46:38.381 DEBUG urllib3.connectionpool._new_conn Starting new HTTPS connection (1): s3-api.us-geo.objectstorage.softlayer.net\n"
     ]
    },
    {
     "name": "stderr",
     "output_type": "stream",
     "text": [
      "/opt/conda/envs/Python36/lib/python3.6/site-packages/urllib3/connectionpool.py:858: InsecureRequestWarning: Unverified HTTPS request is being made. Adding certificate verification is strongly advised. See: https://urllib3.readthedocs.io/en/latest/advanced-usage.html#ssl-warnings\n",
      "  InsecureRequestWarning)\n"
     ]
    },
    {
     "name": "stdout",
     "output_type": "stream",
     "text": [
      "2019-11-28T17:46:38.916 DEBUG urllib3.connectionpool._make_request https://s3-api.us-geo.objectstorage.softlayer.net:443 \"GET /analytics-runtime-monitor-demo-395729cb6a06/model.clients04.SimpleRegressor.temperature HTTP/1.1\" 404 348\n",
      "2019-11-28T17:46:38.919 WARNING iotfunctions.util._cos_api_request error cos_api_request: request_url=https://s3-api.us-geo.objectstorage.softlayer.net/analytics-runtime-monitor-demo-395729cb6a06/model.clients04.SimpleRegressor.temperature, http_method=GET, status_code=404, response_text=<?xml version=\"1.0\" encoding=\"UTF-8\" standalone=\"yes\"?><Error><Code>NoSuchKey</Code><Message>The specified key does not exist.</Message><Resource>/analytics-runtime-monitor-demo-395729cb6a06/model.clients04.SimpleRegressor.temperature</Resource><RequestId>405e5ff1-7438-482c-a4db-57c64f9c08e9</RequestId><httpStatusCode>404</httpStatusCode></Error>\n",
      "2019-11-28T17:46:38.922 ERROR iotfunctions.db.cos_load Not able to GET model.clients04.SimpleRegressor.temperature from COS bucket analytics-runtime-monitor-demo-395729cb6a06\n",
      "2019-11-28T17:46:38.924 DEBUG iotfunctions.pipeline.execute Executing pipeline with 0 stages.\n",
      "2019-11-28T17:46:38.928 DEBUG iotfunctions.pipeline.execute columns excluded when dropping null rows ['deviceid', '_timestamp', 'logicalinterface_id', 'devicetype', 'format', 'updated_utc', 'evt_timestamp']\n",
      "2019-11-28T17:46:38.929 DEBUG iotfunctions.pipeline.execute columns considered when dropping null rows ['temperature', 'pressure']\n",
      "2019-11-28T17:46:38.930 DEBUG iotfunctions.pipeline.execute temperature count not null: 1828\n",
      "2019-11-28T17:46:38.932 DEBUG iotfunctions.pipeline.execute pressure count not null: 1828\n",
      "2019-11-28T17:46:38.946 DEBUG iotfunctions.util.log_df_info post drop all null rows df count: 1828  ; index: id,evt_timestamp  ; columns: temperature,pressure,deviceid,_timestamp\n",
      "2019-11-28T17:46:38.947 DEBUG iotfunctions.base.execute_preprocessing Completed preprocessing\n",
      "2019-11-28T17:46:38.951 DEBUG iotfunctions.util.log_df_info training set df count: 1462  ; index: id,evt_timestamp  ; columns: temperature,pressure,deviceid,_timestamp\n",
      "2019-11-28T17:46:38.960 DEBUG iotfunctions.util.log_df_info test set df count: 366  ; index: id,evt_timestamp  ; columns: temperature,pressure,deviceid,_timestamp\n",
      "2019-11-28T17:46:38.964 INFO iotfunctions.base.execute Prepare to train model {\n",
      " \"name\": \"model.clients04.SimpleRegressor.temperature\",\n",
      " \"target\": \"temperature\",\n",
      " \"features\": [\n",
      "  \"pressure\"\n",
      " ],\n",
      " \"estimator_name\": null,\n",
      " \"eval_metric_name\": \"r2_score\",\n",
      " \"eval_metric_train\": null,\n",
      " \"eval_metric_test\": null,\n",
      " \"trained_date\": null,\n",
      " \"expiry_date\": null\n",
      "}\n",
      "2019-11-28T17:46:38.966 DEBUG iotfunctions.base.make_estimators Selected estimators ['sgd_regressor', 'sgd_regressor', 'sgd_regressor', 'gradient_boosted_regressor', 'sgd_regressor']\n",
      "2019-11-28T17:46:39.043 DEBUG iotfunctions.base.fit_with_search_cv Used randomize search cross validation to find best hyper parameters for estimator RandomizedSearchCV\n",
      "2019-11-28T17:46:39.049 INFO iotfunctions.metadata.test evaluated model model.clients04.SimpleRegressor.temperature with evaluation metric value 0.5478343207111569\n",
      "2019-11-28T17:46:39.116 DEBUG iotfunctions.base.fit_with_search_cv Used randomize search cross validation to find best hyper parameters for estimator RandomizedSearchCV\n",
      "2019-11-28T17:46:39.121 INFO iotfunctions.metadata.test evaluated model model.clients04.SimpleRegressor.temperature with evaluation metric value 0.6343246270289195\n"
     ]
    },
    {
     "name": "stderr",
     "output_type": "stream",
     "text": [
      "/opt/conda/envs/Python36/lib/python3.6/site-packages/sklearn/model_selection/_split.py:2053: FutureWarning: You should specify a value for 'cv' instead of relying on the default value. The default value will change from 3 to 5 in version 0.22.\n",
      "  warnings.warn(CV_WARNING, FutureWarning)\n",
      "/opt/conda/envs/Python36/lib/python3.6/site-packages/sklearn/model_selection/_search.py:841: DeprecationWarning: The default of the `iid` parameter will change from True to False in version 0.22 and will be removed in 0.24. This will change numeric results when test-set sizes are unequal.\n",
      "  DeprecationWarning)\n",
      "/opt/conda/envs/Python36/lib/python3.6/site-packages/sklearn/model_selection/_split.py:2053: FutureWarning: You should specify a value for 'cv' instead of relying on the default value. The default value will change from 3 to 5 in version 0.22.\n",
      "  warnings.warn(CV_WARNING, FutureWarning)\n",
      "/opt/conda/envs/Python36/lib/python3.6/site-packages/sklearn/model_selection/_search.py:841: DeprecationWarning: The default of the `iid` parameter will change from True to False in version 0.22 and will be removed in 0.24. This will change numeric results when test-set sizes are unequal.\n",
      "  DeprecationWarning)\n",
      "/opt/conda/envs/Python36/lib/python3.6/site-packages/sklearn/model_selection/_split.py:2053: FutureWarning: You should specify a value for 'cv' instead of relying on the default value. The default value will change from 3 to 5 in version 0.22.\n",
      "  warnings.warn(CV_WARNING, FutureWarning)\n"
     ]
    },
    {
     "name": "stdout",
     "output_type": "stream",
     "text": [
      "2019-11-28T17:46:39.203 DEBUG iotfunctions.base.fit_with_search_cv Used randomize search cross validation to find best hyper parameters for estimator RandomizedSearchCV\n",
      "2019-11-28T17:46:39.209 INFO iotfunctions.metadata.test evaluated model model.clients04.SimpleRegressor.temperature with evaluation metric value 0.6308415204755338\n"
     ]
    },
    {
     "name": "stderr",
     "output_type": "stream",
     "text": [
      "/opt/conda/envs/Python36/lib/python3.6/site-packages/sklearn/model_selection/_search.py:841: DeprecationWarning: The default of the `iid` parameter will change from True to False in version 0.22 and will be removed in 0.24. This will change numeric results when test-set sizes are unequal.\n",
      "  DeprecationWarning)\n",
      "/opt/conda/envs/Python36/lib/python3.6/site-packages/sklearn/model_selection/_split.py:2053: FutureWarning: You should specify a value for 'cv' instead of relying on the default value. The default value will change from 3 to 5 in version 0.22.\n",
      "  warnings.warn(CV_WARNING, FutureWarning)\n"
     ]
    },
    {
     "name": "stdout",
     "output_type": "stream",
     "text": [
      "2019-11-28T17:46:40.402 DEBUG iotfunctions.base.fit_with_search_cv Used randomize search cross validation to find best hyper parameters for estimator RandomizedSearchCV\n",
      "2019-11-28T17:46:40.432 INFO iotfunctions.metadata.test evaluated model model.clients04.SimpleRegressor.temperature with evaluation metric value 0.9927717543974748\n",
      "2019-11-28T17:46:40.501 DEBUG iotfunctions.base.fit_with_search_cv Used randomize search cross validation to find best hyper parameters for estimator RandomizedSearchCV\n",
      "2019-11-28T17:46:40.507 INFO iotfunctions.metadata.test evaluated model model.clients04.SimpleRegressor.temperature with evaluation metric value -0.012730862412384525\n",
      "2019-11-28T17:46:40.508 DEBUG iotfunctions.base.execute Trained model: {\n",
      " \"name\": \"model.clients04.SimpleRegressor.temperature\",\n",
      " \"target\": \"temperature\",\n",
      " \"features\": [\n",
      "  \"pressure\"\n",
      " ],\n",
      " \"estimator_name\": \"gradient_boosted_regressor\",\n",
      " \"eval_metric_name\": \"r2_score\",\n",
      " \"eval_metric_train\": 0.9940711696044536,\n",
      " \"eval_metric_test\": 0.9927717543974748,\n",
      " \"trained_date\": \"2019-11-28T17:46:40.426053\",\n",
      " \"expiry_date\": null\n",
      "}\n",
      "2019-11-28T17:46:40.526 INFO iotfunctions.metadata.test evaluated model model.clients04.SimpleRegressor.temperature with evaluation metric value 0.9927717543974748\n"
     ]
    },
    {
     "name": "stderr",
     "output_type": "stream",
     "text": [
      "/opt/conda/envs/Python36/lib/python3.6/site-packages/sklearn/model_selection/_split.py:2053: FutureWarning: You should specify a value for 'cv' instead of relying on the default value. The default value will change from 3 to 5 in version 0.22.\n",
      "  warnings.warn(CV_WARNING, FutureWarning)\n"
     ]
    },
    {
     "name": "stdout",
     "output_type": "stream",
     "text": [
      "2019-11-28T17:46:40.731 DEBUG urllib3.connectionpool._new_conn Starting new HTTPS connection (1): s3-api.us-geo.objectstorage.softlayer.net\n"
     ]
    },
    {
     "name": "stderr",
     "output_type": "stream",
     "text": [
      "/opt/conda/envs/Python36/lib/python3.6/site-packages/urllib3/connectionpool.py:858: InsecureRequestWarning: Unverified HTTPS request is being made. Adding certificate verification is strongly advised. See: https://urllib3.readthedocs.io/en/latest/advanced-usage.html#ssl-warnings\n",
      "  InsecureRequestWarning)\n"
     ]
    },
    {
     "name": "stdout",
     "output_type": "stream",
     "text": [
      "2019-11-28T17:46:41.804 DEBUG urllib3.connectionpool._make_request https://s3-api.us-geo.objectstorage.softlayer.net:443 \"PUT /analytics-runtime-monitor-demo-395729cb6a06/model.clients04.SimpleRegressor.temperature HTTP/1.1\" 200 0\n",
      "2019-11-28T17:46:41.806 DEBUG iotfunctions.base.evaluate_and_write_model  wrote new model model.clients04.SimpleRegressor.temperature \n",
      "2019-11-28T17:46:41.822 INFO iotfunctions.base.execute Finished training model model.clients04.SimpleRegressor.temperature\n",
      "2019-11-28T17:46:41.826 DEBUG urllib3.connectionpool._new_conn Starting new HTTPS connection (1): s3-api.us-geo.objectstorage.softlayer.net\n"
     ]
    },
    {
     "name": "stderr",
     "output_type": "stream",
     "text": [
      "/opt/conda/envs/Python36/lib/python3.6/site-packages/urllib3/connectionpool.py:858: InsecureRequestWarning: Unverified HTTPS request is being made. Adding certificate verification is strongly advised. See: https://urllib3.readthedocs.io/en/latest/advanced-usage.html#ssl-warnings\n",
      "  InsecureRequestWarning)\n"
     ]
    },
    {
     "name": "stdout",
     "output_type": "stream",
     "text": [
      "2019-11-28T17:46:42.429 DEBUG urllib3.connectionpool._make_request https://s3-api.us-geo.objectstorage.softlayer.net:443 \"GET /analytics-runtime-monitor-demo-395729cb6a06/model.clients04.SimpleRegressor.temperature HTTP/1.1\" 200 1031640\n",
      "2019-11-28T17:46:45.009 INFO iotfunctions.metadata.predict predicted using model model.clients04.SimpleRegressor.temperature\n",
      "2019-11-28T17:46:45.012 DEBUG iotfunctions.util.log_df_info After adding predictions for target temperature df count: 1828  ; index: id,evt_timestamp  ; columns: temperature,pressure,deviceid,_timestamp,predict\n",
      "2019-11-28T17:46:45.014 DEBUG iotfunctions.system_function.execute Input dataframe has columns ['temperature', 'pressure', 'deviceid', '_timestamp'] and index ['id', 'evt_timestamp']\n",
      "2019-11-28T17:46:45.015 DEBUG iotfunctions.system_function.merge_dataframe Merging dataframe with columns ['temperature', 'pressure', 'deviceid', '_timestamp'] and index ['id', 'evt_timestamp']\n",
      "2019-11-28T17:46:45.017 DEBUG iotfunctions.system_function.merge_dataframe Merging dataframe with the same index\n",
      "2019-11-28T17:46:45.027 INFO iotfunctions.pipeline.update_last_entry Trace message:  Completed stage.\n",
      "2019-11-28T17:46:45.028 INFO iotfunctions.pipeline.update_last_entry Trace payload: {'produces_output_items': True, 'output_items': ['predict'], 'discard_prior_data': False, 'merge_result': 'existing df with new DataFrame', 'usage': 1828, 'can_proceed': True, 'updated': datetime.datetime(2019, 11, 28, 17, 46, 45, 27732), 'cumulative_usage': 23340}\n",
      "2019-11-28T17:46:45.034 INFO iotfunctions.pipeline.write Execution complete\n",
      "2019-11-28T17:46:45.042 DEBUG urllib3.connectionpool._new_conn Starting new HTTPS connection (1): s3-api.us-geo.objectstorage.softlayer.net\n"
     ]
    },
    {
     "name": "stderr",
     "output_type": "stream",
     "text": [
      "/opt/conda/envs/Python36/lib/python3.6/site-packages/urllib3/connectionpool.py:858: InsecureRequestWarning: Unverified HTTPS request is being made. Adding certificate verification is strongly advised. See: https://urllib3.readthedocs.io/en/latest/advanced-usage.html#ssl-warnings\n",
      "  InsecureRequestWarning)\n"
     ]
    },
    {
     "name": "stdout",
     "output_type": "stream",
     "text": [
      "2019-11-28T17:46:45.932 DEBUG urllib3.connectionpool._make_request https://s3-api.us-geo.objectstorage.softlayer.net:443 \"PUT /analytics-runtime-monitor-demo-395729cb6a06/Monitor-Demo/Clients04/20191128/Clients04_trace_174605 HTTP/1.1\" 200 0\n",
      "2019-11-28T17:46:45.941 DEBUG iotfunctions.util.save Saved trace to cos Monitor-Demo/Clients04/20191128/Clients04_trace_174605\n",
      "2019-11-28T17:46:45.942 DEBUG iotfunctions.util.save wrote trace to file auto_trace_Clients04_20191128174605.json\n",
      "2019-11-28T17:46:46.404 DEBUG iotfunctions.pipeline.update Updated job log (Clients04,5min): 2019-11-28 17:46:05.944054\n",
      "2019-11-28T17:46:46.406 DEBUG iotfunctions.pipeline.get_next_future_execution Next scheduled execution date is 2019-11-28 17:51:05.944054\n",
      "2019-11-28T17:46:46.409 DEBUG iotfunctions.pipeline.execute Ending job normally as there are no scheduled executions  due before execution end time\n",
      "2019-11-28T17:46:46.504 DEBUG iotfunctions.util.run_auto_save auto_trace_Clients04_20191128174605 autosave thread has stopped\n",
      "2019-11-28T17:46:46.520 DEBUG iotfunctions.util.stop Stopping autosave on trace auto_trace_Clients04_20191128174605\n"
     ]
    }
   ],
   "source": [
    "jobsettings = { #'writer_name' : pp.DataWriterSqlAlchemy, 'db': db,\n",
    "               '_production_mode': False,\n",
    "               '_start_ts_override' : dt.datetime.utcnow() - dt.timedelta(days=10),\n",
    "               '_end_ts_override' : (dt.datetime.utcnow() - dt.timedelta(days=1)), #.strftime('%Y-%m-%d %H:%M:%S'),\n",
    "                '_db_schema': 'BLUADMIN',\n",
    "               'save_trace_to_file' : True}\n",
    "job = pp.JobController(meta, **jobsettings)\n",
    "job.execute()"
   ]
  },
  {
   "cell_type": "code",
   "execution_count": 60,
   "metadata": {},
   "outputs": [
    {
     "name": "stdout",
     "output_type": "stream",
     "text": [
      "2019-11-28 17:46   1031640   s3://analytics-runtime-monitor-demo-395729cb6a06/model.clients04.SimpleRegressor.temperature\r\n"
     ]
    }
   ],
   "source": [
    "# @hidden_cell\n",
    "!s3cmd --access_key=5c9b5139a83d4f68bd2fe458a2117fac --secret_key=5b282a68b84d070bd8674da4771998c6cb0743a4a0288129 --host=https://s3-api.us-geo.objectstorage.softlayer.net --host-bucket=s3-api.us-geo.objectstorage.softlayer.net ls s3:///analytics-runtime-monitor-demo-395729cb6a06/model.clients04.SimpleRegressor.temperature"
   ]
  },
  {
   "cell_type": "code",
   "execution_count": null,
   "metadata": {},
   "outputs": [],
   "source": []
  }
 ],
 "metadata": {
  "kernelspec": {
   "display_name": "Python 3",
   "language": "python",
   "name": "python3"
  },
  "language_info": {
   "codemirror_mode": {
    "name": "ipython",
    "version": 3
   },
   "file_extension": ".py",
   "mimetype": "text/x-python",
   "name": "python",
   "nbconvert_exporter": "python",
   "pygments_lexer": "ipython3",
   "version": "3.8.2"
  }
 },
 "nbformat": 4,
 "nbformat_minor": 1
}
